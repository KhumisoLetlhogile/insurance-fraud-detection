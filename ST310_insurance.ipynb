{
  "nbformat": 4,
  "nbformat_minor": 0,
  "metadata": {
    "colab": {
      "name": "ST310 – insurance.ipynb",
      "provenance": [],
      "collapsed_sections": [],
      "toc_visible": true
    },
    "kernelspec": {
      "display_name": "Python 3",
      "name": "python3"
    },
    "language_info": {
      "name": "python"
    }
  },
  "cells": [
    {
      "cell_type": "markdown",
      "metadata": {
        "id": "NQPxppROKze1"
      },
      "source": [
        "# Introduction\n"
      ]
    },
    {
      "cell_type": "markdown",
      "metadata": {
        "id": "qjdkO8vpK-qI"
      },
      "source": [
        "Our group has chosen to investigate a dataset on US auto insurance claims, focusing on the outcome variable of fraud incidence. The original dataset is of size 1000 x 39, and was originally found on Kaggle [[1]](https://www.kaggle.com/buntyshah/auto-insurance-claims-data). </br></br>\n",
        "There are several reasons for why understanding and predicting fraud incidence in auto insurance might be an interesting. From the perspective of an auto insurance provider, the incentive is clear. In 2012, fraud accounted for 15% - 17% of the total claims for bodily injury in the US [[2]](https://www.iii.org/article/background-on-insurance-fraud). Mitigating insurance fraud can lead to large increases in profitability. Moreover, the benefit for the consumer is notable as well. A significant portion of these fraud losses are passed on to consumers in the form of higher prices [[3]](https://assets.publishing.service.gov.uk/government/uploads/system/uploads/attachment_data/file/494105/PU1817_Insurance_Fraud_Taskforce.pdf). </br></br> \n",
        "Understanding associations between fraud and different predictors might provide motivation for important causation-focused studies that may lead to interventions that reduce fraud incidence. For example, A/B testing the effect of different deductibles (required payment by the claimant before the insurance provider is liable for remaining expense) or umbrella limits (maximum payment made by insurance provider on an umbrella policy – umbrella policies are policies that cover any expenses that exceed individual policy limits).</br></br>\n",
        "Accurate prediction of fraud incidence is arguably even more important than understanding it. Identifying fraud incidence has the twofold effect of reducing expenses paid and discouraging future attempts to defraud insurance providers. </br></br>\n",
        "\n",
        "\n",
        "\n",
        "\n"
      ]
    },
    {
      "cell_type": "markdown",
      "metadata": {
        "id": "jHCTR2wZP12v"
      },
      "source": [
        "# Exploratory data analysis and preprocessing"
      ]
    },
    {
      "cell_type": "markdown",
      "metadata": {
        "id": "ia67Jg0lQ6NJ"
      },
      "source": [
        "The purpose of this section is to understand the properties of this dataset so that we can make informed choices as to which methods will be most compatible with our dataset and to preprocess the data such that it is ready to be used to fit our models."
      ]
    },
    {
      "cell_type": "markdown",
      "metadata": {
        "id": "yw0WlD3Sbu5S"
      },
      "source": [
        "## Importing libraries and data"
      ]
    },
    {
      "cell_type": "code",
      "metadata": {
        "colab": {
          "base_uri": "https://localhost:8080/"
        },
        "id": "DhrD5H8JW0_U",
        "outputId": "03a25b6f-be69-41de-a71f-6b217e723e1f"
      },
      "source": [
        "#Basic libraries\n",
        "import numpy as np\n",
        "import pandas as pd\n",
        "import scipy\n",
        "import statsmodels.api as sm\n",
        "import matplotlib.pyplot as plt\n",
        "import datetime as dt\n",
        "\n",
        "#Visualisation libraries\n",
        "import seaborn as sns\n",
        "sns.set_theme(style=\"darkgrid\")\n",
        "import plotly.express as px\n",
        "import plotly.graph_objects as go\n",
        "from sklearn.externals.six import StringIO\n",
        "from sklearn.tree import export_graphviz\n",
        "from IPython.display import Image  \n",
        "import pydotplus\n",
        "\n",
        "#Machine Learning Libraries\n",
        "import sklearn\n",
        "from sklearn.metrics import roc_auc_score\n",
        "from sklearn.svm import SVC\n",
        "from imblearn.pipeline import Pipeline\n",
        "from sklearn.model_selection import train_test_split\n",
        "from imblearn.over_sampling import SMOTENC\n",
        "from imblearn.under_sampling import RandomUnderSampler\n",
        "from sklearn.model_selection import GridSearchCV\n",
        "from sklearn.impute import SimpleImputer\n",
        "from sklearn.preprocessing import StandardScaler\n",
        "from scipy import stats\n",
        "from sklearn.tree import DecisionTreeClassifier, export_graphviz\n",
        "from sklearn.linear_model import LogisticRegression\n",
        "from statsmodels.discrete.discrete_model import Logit\n",
        "from sklearn.ensemble import RandomForestClassifier\n",
        "from sklearn.ensemble import GradientBoostingClassifier\n",
        "from xgboost import XGBClassifier"
      ],
      "execution_count": null,
      "outputs": [
        {
          "output_type": "stream",
          "text": [
            "/usr/local/lib/python3.7/dist-packages/statsmodels/tools/_testing.py:19: FutureWarning: pandas.util.testing is deprecated. Use the functions in the public API at pandas.testing instead.\n",
            "  import pandas.util.testing as tm\n",
            "/usr/local/lib/python3.7/dist-packages/sklearn/externals/six.py:31: FutureWarning:\n",
            "\n",
            "The module is deprecated in version 0.21 and will be removed in version 0.23 since we've dropped support for Python 2.7. Please rely on the official version of six (https://pypi.org/project/six/).\n",
            "\n",
            "/usr/local/lib/python3.7/dist-packages/sklearn/utils/deprecation.py:144: FutureWarning:\n",
            "\n",
            "The sklearn.neighbors.base module is  deprecated in version 0.22 and will be removed in version 0.24. The corresponding classes / functions should instead be imported from sklearn.neighbors. Anything that cannot be imported from sklearn.neighbors is now part of the private API.\n",
            "\n"
          ],
          "name": "stderr"
        }
      ]
    },
    {
      "cell_type": "code",
      "metadata": {
        "colab": {
          "base_uri": "https://localhost:8080/",
          "height": 549
        },
        "id": "fKuDKAR2QfE6",
        "outputId": "832370c3-8161-44e7-fdaa-08b429f38508"
      },
      "source": [
        "raw_data = pd.read_csv('insurance_claims.csv')\n",
        "print(raw_data.shape)\n",
        "raw_data.head(10)"
      ],
      "execution_count": null,
      "outputs": [
        {
          "output_type": "stream",
          "text": [
            "(1000, 40)\n"
          ],
          "name": "stdout"
        },
        {
          "output_type": "execute_result",
          "data": {
            "text/html": [
              "<div>\n",
              "<style scoped>\n",
              "    .dataframe tbody tr th:only-of-type {\n",
              "        vertical-align: middle;\n",
              "    }\n",
              "\n",
              "    .dataframe tbody tr th {\n",
              "        vertical-align: top;\n",
              "    }\n",
              "\n",
              "    .dataframe thead th {\n",
              "        text-align: right;\n",
              "    }\n",
              "</style>\n",
              "<table border=\"1\" class=\"dataframe\">\n",
              "  <thead>\n",
              "    <tr style=\"text-align: right;\">\n",
              "      <th></th>\n",
              "      <th>months_as_customer</th>\n",
              "      <th>age</th>\n",
              "      <th>policy_number</th>\n",
              "      <th>policy_bind_date</th>\n",
              "      <th>policy_state</th>\n",
              "      <th>policy_csl</th>\n",
              "      <th>policy_deductable</th>\n",
              "      <th>policy_annual_premium</th>\n",
              "      <th>umbrella_limit</th>\n",
              "      <th>insured_zip</th>\n",
              "      <th>insured_sex</th>\n",
              "      <th>insured_education_level</th>\n",
              "      <th>insured_occupation</th>\n",
              "      <th>insured_hobbies</th>\n",
              "      <th>insured_relationship</th>\n",
              "      <th>capital-gains</th>\n",
              "      <th>capital-loss</th>\n",
              "      <th>incident_date</th>\n",
              "      <th>incident_type</th>\n",
              "      <th>collision_type</th>\n",
              "      <th>incident_severity</th>\n",
              "      <th>authorities_contacted</th>\n",
              "      <th>incident_state</th>\n",
              "      <th>incident_city</th>\n",
              "      <th>incident_location</th>\n",
              "      <th>incident_hour_of_the_day</th>\n",
              "      <th>number_of_vehicles_involved</th>\n",
              "      <th>property_damage</th>\n",
              "      <th>bodily_injuries</th>\n",
              "      <th>witnesses</th>\n",
              "      <th>police_report_available</th>\n",
              "      <th>total_claim_amount</th>\n",
              "      <th>injury_claim</th>\n",
              "      <th>property_claim</th>\n",
              "      <th>vehicle_claim</th>\n",
              "      <th>auto_make</th>\n",
              "      <th>auto_model</th>\n",
              "      <th>auto_year</th>\n",
              "      <th>fraud_reported</th>\n",
              "      <th>_c39</th>\n",
              "    </tr>\n",
              "  </thead>\n",
              "  <tbody>\n",
              "    <tr>\n",
              "      <th>0</th>\n",
              "      <td>328</td>\n",
              "      <td>48</td>\n",
              "      <td>521585</td>\n",
              "      <td>2014-10-17</td>\n",
              "      <td>OH</td>\n",
              "      <td>250/500</td>\n",
              "      <td>1000</td>\n",
              "      <td>1406.91</td>\n",
              "      <td>0</td>\n",
              "      <td>466132</td>\n",
              "      <td>MALE</td>\n",
              "      <td>MD</td>\n",
              "      <td>craft-repair</td>\n",
              "      <td>sleeping</td>\n",
              "      <td>husband</td>\n",
              "      <td>53300</td>\n",
              "      <td>0</td>\n",
              "      <td>2015-01-25</td>\n",
              "      <td>Single Vehicle Collision</td>\n",
              "      <td>Side Collision</td>\n",
              "      <td>Major Damage</td>\n",
              "      <td>Police</td>\n",
              "      <td>SC</td>\n",
              "      <td>Columbus</td>\n",
              "      <td>9935 4th Drive</td>\n",
              "      <td>5</td>\n",
              "      <td>1</td>\n",
              "      <td>YES</td>\n",
              "      <td>1</td>\n",
              "      <td>2</td>\n",
              "      <td>YES</td>\n",
              "      <td>71610</td>\n",
              "      <td>6510</td>\n",
              "      <td>13020</td>\n",
              "      <td>52080</td>\n",
              "      <td>Saab</td>\n",
              "      <td>92x</td>\n",
              "      <td>2004</td>\n",
              "      <td>Y</td>\n",
              "      <td>NaN</td>\n",
              "    </tr>\n",
              "    <tr>\n",
              "      <th>1</th>\n",
              "      <td>228</td>\n",
              "      <td>42</td>\n",
              "      <td>342868</td>\n",
              "      <td>2006-06-27</td>\n",
              "      <td>IN</td>\n",
              "      <td>250/500</td>\n",
              "      <td>2000</td>\n",
              "      <td>1197.22</td>\n",
              "      <td>5000000</td>\n",
              "      <td>468176</td>\n",
              "      <td>MALE</td>\n",
              "      <td>MD</td>\n",
              "      <td>machine-op-inspct</td>\n",
              "      <td>reading</td>\n",
              "      <td>other-relative</td>\n",
              "      <td>0</td>\n",
              "      <td>0</td>\n",
              "      <td>2015-01-21</td>\n",
              "      <td>Vehicle Theft</td>\n",
              "      <td>?</td>\n",
              "      <td>Minor Damage</td>\n",
              "      <td>Police</td>\n",
              "      <td>VA</td>\n",
              "      <td>Riverwood</td>\n",
              "      <td>6608 MLK Hwy</td>\n",
              "      <td>8</td>\n",
              "      <td>1</td>\n",
              "      <td>?</td>\n",
              "      <td>0</td>\n",
              "      <td>0</td>\n",
              "      <td>?</td>\n",
              "      <td>5070</td>\n",
              "      <td>780</td>\n",
              "      <td>780</td>\n",
              "      <td>3510</td>\n",
              "      <td>Mercedes</td>\n",
              "      <td>E400</td>\n",
              "      <td>2007</td>\n",
              "      <td>Y</td>\n",
              "      <td>NaN</td>\n",
              "    </tr>\n",
              "    <tr>\n",
              "      <th>2</th>\n",
              "      <td>134</td>\n",
              "      <td>29</td>\n",
              "      <td>687698</td>\n",
              "      <td>2000-09-06</td>\n",
              "      <td>OH</td>\n",
              "      <td>100/300</td>\n",
              "      <td>2000</td>\n",
              "      <td>1413.14</td>\n",
              "      <td>5000000</td>\n",
              "      <td>430632</td>\n",
              "      <td>FEMALE</td>\n",
              "      <td>PhD</td>\n",
              "      <td>sales</td>\n",
              "      <td>board-games</td>\n",
              "      <td>own-child</td>\n",
              "      <td>35100</td>\n",
              "      <td>0</td>\n",
              "      <td>2015-02-22</td>\n",
              "      <td>Multi-vehicle Collision</td>\n",
              "      <td>Rear Collision</td>\n",
              "      <td>Minor Damage</td>\n",
              "      <td>Police</td>\n",
              "      <td>NY</td>\n",
              "      <td>Columbus</td>\n",
              "      <td>7121 Francis Lane</td>\n",
              "      <td>7</td>\n",
              "      <td>3</td>\n",
              "      <td>NO</td>\n",
              "      <td>2</td>\n",
              "      <td>3</td>\n",
              "      <td>NO</td>\n",
              "      <td>34650</td>\n",
              "      <td>7700</td>\n",
              "      <td>3850</td>\n",
              "      <td>23100</td>\n",
              "      <td>Dodge</td>\n",
              "      <td>RAM</td>\n",
              "      <td>2007</td>\n",
              "      <td>N</td>\n",
              "      <td>NaN</td>\n",
              "    </tr>\n",
              "    <tr>\n",
              "      <th>3</th>\n",
              "      <td>256</td>\n",
              "      <td>41</td>\n",
              "      <td>227811</td>\n",
              "      <td>1990-05-25</td>\n",
              "      <td>IL</td>\n",
              "      <td>250/500</td>\n",
              "      <td>2000</td>\n",
              "      <td>1415.74</td>\n",
              "      <td>6000000</td>\n",
              "      <td>608117</td>\n",
              "      <td>FEMALE</td>\n",
              "      <td>PhD</td>\n",
              "      <td>armed-forces</td>\n",
              "      <td>board-games</td>\n",
              "      <td>unmarried</td>\n",
              "      <td>48900</td>\n",
              "      <td>-62400</td>\n",
              "      <td>2015-01-10</td>\n",
              "      <td>Single Vehicle Collision</td>\n",
              "      <td>Front Collision</td>\n",
              "      <td>Major Damage</td>\n",
              "      <td>Police</td>\n",
              "      <td>OH</td>\n",
              "      <td>Arlington</td>\n",
              "      <td>6956 Maple Drive</td>\n",
              "      <td>5</td>\n",
              "      <td>1</td>\n",
              "      <td>?</td>\n",
              "      <td>1</td>\n",
              "      <td>2</td>\n",
              "      <td>NO</td>\n",
              "      <td>63400</td>\n",
              "      <td>6340</td>\n",
              "      <td>6340</td>\n",
              "      <td>50720</td>\n",
              "      <td>Chevrolet</td>\n",
              "      <td>Tahoe</td>\n",
              "      <td>2014</td>\n",
              "      <td>Y</td>\n",
              "      <td>NaN</td>\n",
              "    </tr>\n",
              "    <tr>\n",
              "      <th>4</th>\n",
              "      <td>228</td>\n",
              "      <td>44</td>\n",
              "      <td>367455</td>\n",
              "      <td>2014-06-06</td>\n",
              "      <td>IL</td>\n",
              "      <td>500/1000</td>\n",
              "      <td>1000</td>\n",
              "      <td>1583.91</td>\n",
              "      <td>6000000</td>\n",
              "      <td>610706</td>\n",
              "      <td>MALE</td>\n",
              "      <td>Associate</td>\n",
              "      <td>sales</td>\n",
              "      <td>board-games</td>\n",
              "      <td>unmarried</td>\n",
              "      <td>66000</td>\n",
              "      <td>-46000</td>\n",
              "      <td>2015-02-17</td>\n",
              "      <td>Vehicle Theft</td>\n",
              "      <td>?</td>\n",
              "      <td>Minor Damage</td>\n",
              "      <td>None</td>\n",
              "      <td>NY</td>\n",
              "      <td>Arlington</td>\n",
              "      <td>3041 3rd Ave</td>\n",
              "      <td>20</td>\n",
              "      <td>1</td>\n",
              "      <td>NO</td>\n",
              "      <td>0</td>\n",
              "      <td>1</td>\n",
              "      <td>NO</td>\n",
              "      <td>6500</td>\n",
              "      <td>1300</td>\n",
              "      <td>650</td>\n",
              "      <td>4550</td>\n",
              "      <td>Accura</td>\n",
              "      <td>RSX</td>\n",
              "      <td>2009</td>\n",
              "      <td>N</td>\n",
              "      <td>NaN</td>\n",
              "    </tr>\n",
              "    <tr>\n",
              "      <th>5</th>\n",
              "      <td>256</td>\n",
              "      <td>39</td>\n",
              "      <td>104594</td>\n",
              "      <td>2006-10-12</td>\n",
              "      <td>OH</td>\n",
              "      <td>250/500</td>\n",
              "      <td>1000</td>\n",
              "      <td>1351.10</td>\n",
              "      <td>0</td>\n",
              "      <td>478456</td>\n",
              "      <td>FEMALE</td>\n",
              "      <td>PhD</td>\n",
              "      <td>tech-support</td>\n",
              "      <td>bungie-jumping</td>\n",
              "      <td>unmarried</td>\n",
              "      <td>0</td>\n",
              "      <td>0</td>\n",
              "      <td>2015-01-02</td>\n",
              "      <td>Multi-vehicle Collision</td>\n",
              "      <td>Rear Collision</td>\n",
              "      <td>Major Damage</td>\n",
              "      <td>Fire</td>\n",
              "      <td>SC</td>\n",
              "      <td>Arlington</td>\n",
              "      <td>8973 Washington St</td>\n",
              "      <td>19</td>\n",
              "      <td>3</td>\n",
              "      <td>NO</td>\n",
              "      <td>0</td>\n",
              "      <td>2</td>\n",
              "      <td>NO</td>\n",
              "      <td>64100</td>\n",
              "      <td>6410</td>\n",
              "      <td>6410</td>\n",
              "      <td>51280</td>\n",
              "      <td>Saab</td>\n",
              "      <td>95</td>\n",
              "      <td>2003</td>\n",
              "      <td>Y</td>\n",
              "      <td>NaN</td>\n",
              "    </tr>\n",
              "    <tr>\n",
              "      <th>6</th>\n",
              "      <td>137</td>\n",
              "      <td>34</td>\n",
              "      <td>413978</td>\n",
              "      <td>2000-06-04</td>\n",
              "      <td>IN</td>\n",
              "      <td>250/500</td>\n",
              "      <td>1000</td>\n",
              "      <td>1333.35</td>\n",
              "      <td>0</td>\n",
              "      <td>441716</td>\n",
              "      <td>MALE</td>\n",
              "      <td>PhD</td>\n",
              "      <td>prof-specialty</td>\n",
              "      <td>board-games</td>\n",
              "      <td>husband</td>\n",
              "      <td>0</td>\n",
              "      <td>-77000</td>\n",
              "      <td>2015-01-13</td>\n",
              "      <td>Multi-vehicle Collision</td>\n",
              "      <td>Front Collision</td>\n",
              "      <td>Minor Damage</td>\n",
              "      <td>Police</td>\n",
              "      <td>NY</td>\n",
              "      <td>Springfield</td>\n",
              "      <td>5846 Weaver Drive</td>\n",
              "      <td>0</td>\n",
              "      <td>3</td>\n",
              "      <td>?</td>\n",
              "      <td>0</td>\n",
              "      <td>0</td>\n",
              "      <td>?</td>\n",
              "      <td>78650</td>\n",
              "      <td>21450</td>\n",
              "      <td>7150</td>\n",
              "      <td>50050</td>\n",
              "      <td>Nissan</td>\n",
              "      <td>Pathfinder</td>\n",
              "      <td>2012</td>\n",
              "      <td>N</td>\n",
              "      <td>NaN</td>\n",
              "    </tr>\n",
              "    <tr>\n",
              "      <th>7</th>\n",
              "      <td>165</td>\n",
              "      <td>37</td>\n",
              "      <td>429027</td>\n",
              "      <td>1990-02-03</td>\n",
              "      <td>IL</td>\n",
              "      <td>100/300</td>\n",
              "      <td>1000</td>\n",
              "      <td>1137.03</td>\n",
              "      <td>0</td>\n",
              "      <td>603195</td>\n",
              "      <td>MALE</td>\n",
              "      <td>Associate</td>\n",
              "      <td>tech-support</td>\n",
              "      <td>base-jumping</td>\n",
              "      <td>unmarried</td>\n",
              "      <td>0</td>\n",
              "      <td>0</td>\n",
              "      <td>2015-02-27</td>\n",
              "      <td>Multi-vehicle Collision</td>\n",
              "      <td>Front Collision</td>\n",
              "      <td>Total Loss</td>\n",
              "      <td>Police</td>\n",
              "      <td>VA</td>\n",
              "      <td>Columbus</td>\n",
              "      <td>3525 3rd Hwy</td>\n",
              "      <td>23</td>\n",
              "      <td>3</td>\n",
              "      <td>?</td>\n",
              "      <td>2</td>\n",
              "      <td>2</td>\n",
              "      <td>YES</td>\n",
              "      <td>51590</td>\n",
              "      <td>9380</td>\n",
              "      <td>9380</td>\n",
              "      <td>32830</td>\n",
              "      <td>Audi</td>\n",
              "      <td>A5</td>\n",
              "      <td>2015</td>\n",
              "      <td>N</td>\n",
              "      <td>NaN</td>\n",
              "    </tr>\n",
              "    <tr>\n",
              "      <th>8</th>\n",
              "      <td>27</td>\n",
              "      <td>33</td>\n",
              "      <td>485665</td>\n",
              "      <td>1997-02-05</td>\n",
              "      <td>IL</td>\n",
              "      <td>100/300</td>\n",
              "      <td>500</td>\n",
              "      <td>1442.99</td>\n",
              "      <td>0</td>\n",
              "      <td>601734</td>\n",
              "      <td>FEMALE</td>\n",
              "      <td>PhD</td>\n",
              "      <td>other-service</td>\n",
              "      <td>golf</td>\n",
              "      <td>own-child</td>\n",
              "      <td>0</td>\n",
              "      <td>0</td>\n",
              "      <td>2015-01-30</td>\n",
              "      <td>Single Vehicle Collision</td>\n",
              "      <td>Front Collision</td>\n",
              "      <td>Total Loss</td>\n",
              "      <td>Police</td>\n",
              "      <td>WV</td>\n",
              "      <td>Arlington</td>\n",
              "      <td>4872 Rock Ridge</td>\n",
              "      <td>21</td>\n",
              "      <td>1</td>\n",
              "      <td>NO</td>\n",
              "      <td>1</td>\n",
              "      <td>1</td>\n",
              "      <td>YES</td>\n",
              "      <td>27700</td>\n",
              "      <td>2770</td>\n",
              "      <td>2770</td>\n",
              "      <td>22160</td>\n",
              "      <td>Toyota</td>\n",
              "      <td>Camry</td>\n",
              "      <td>2012</td>\n",
              "      <td>N</td>\n",
              "      <td>NaN</td>\n",
              "    </tr>\n",
              "    <tr>\n",
              "      <th>9</th>\n",
              "      <td>212</td>\n",
              "      <td>42</td>\n",
              "      <td>636550</td>\n",
              "      <td>2011-07-25</td>\n",
              "      <td>IL</td>\n",
              "      <td>100/300</td>\n",
              "      <td>500</td>\n",
              "      <td>1315.68</td>\n",
              "      <td>0</td>\n",
              "      <td>600983</td>\n",
              "      <td>MALE</td>\n",
              "      <td>PhD</td>\n",
              "      <td>priv-house-serv</td>\n",
              "      <td>camping</td>\n",
              "      <td>wife</td>\n",
              "      <td>0</td>\n",
              "      <td>-39300</td>\n",
              "      <td>2015-01-05</td>\n",
              "      <td>Single Vehicle Collision</td>\n",
              "      <td>Rear Collision</td>\n",
              "      <td>Total Loss</td>\n",
              "      <td>Other</td>\n",
              "      <td>NC</td>\n",
              "      <td>Hillsdale</td>\n",
              "      <td>3066 Francis Ave</td>\n",
              "      <td>14</td>\n",
              "      <td>1</td>\n",
              "      <td>NO</td>\n",
              "      <td>2</td>\n",
              "      <td>1</td>\n",
              "      <td>?</td>\n",
              "      <td>42300</td>\n",
              "      <td>4700</td>\n",
              "      <td>4700</td>\n",
              "      <td>32900</td>\n",
              "      <td>Saab</td>\n",
              "      <td>92x</td>\n",
              "      <td>1996</td>\n",
              "      <td>N</td>\n",
              "      <td>NaN</td>\n",
              "    </tr>\n",
              "  </tbody>\n",
              "</table>\n",
              "</div>"
            ],
            "text/plain": [
              "   months_as_customer  age  policy_number  ... auto_year fraud_reported _c39\n",
              "0                 328   48         521585  ...      2004              Y  NaN\n",
              "1                 228   42         342868  ...      2007              Y  NaN\n",
              "2                 134   29         687698  ...      2007              N  NaN\n",
              "3                 256   41         227811  ...      2014              Y  NaN\n",
              "4                 228   44         367455  ...      2009              N  NaN\n",
              "5                 256   39         104594  ...      2003              Y  NaN\n",
              "6                 137   34         413978  ...      2012              N  NaN\n",
              "7                 165   37         429027  ...      2015              N  NaN\n",
              "8                  27   33         485665  ...      2012              N  NaN\n",
              "9                 212   42         636550  ...      1996              N  NaN\n",
              "\n",
              "[10 rows x 40 columns]"
            ]
          },
          "metadata": {
            "tags": []
          },
          "execution_count": 2
        }
      ]
    },
    {
      "cell_type": "code",
      "metadata": {
        "colab": {
          "base_uri": "https://localhost:8080/",
          "height": 444
        },
        "id": "-Aw3cfjORT6L",
        "outputId": "468d2a26-6aa0-4188-e543-c73562b17aa6"
      },
      "source": [
        "data = raw_data.copy()\n",
        "data.describe(include='all')"
      ],
      "execution_count": null,
      "outputs": [
        {
          "output_type": "execute_result",
          "data": {
            "text/html": [
              "<div>\n",
              "<style scoped>\n",
              "    .dataframe tbody tr th:only-of-type {\n",
              "        vertical-align: middle;\n",
              "    }\n",
              "\n",
              "    .dataframe tbody tr th {\n",
              "        vertical-align: top;\n",
              "    }\n",
              "\n",
              "    .dataframe thead th {\n",
              "        text-align: right;\n",
              "    }\n",
              "</style>\n",
              "<table border=\"1\" class=\"dataframe\">\n",
              "  <thead>\n",
              "    <tr style=\"text-align: right;\">\n",
              "      <th></th>\n",
              "      <th>months_as_customer</th>\n",
              "      <th>age</th>\n",
              "      <th>policy_number</th>\n",
              "      <th>policy_bind_date</th>\n",
              "      <th>policy_state</th>\n",
              "      <th>policy_csl</th>\n",
              "      <th>policy_deductable</th>\n",
              "      <th>policy_annual_premium</th>\n",
              "      <th>umbrella_limit</th>\n",
              "      <th>insured_zip</th>\n",
              "      <th>insured_sex</th>\n",
              "      <th>insured_education_level</th>\n",
              "      <th>insured_occupation</th>\n",
              "      <th>insured_hobbies</th>\n",
              "      <th>insured_relationship</th>\n",
              "      <th>capital-gains</th>\n",
              "      <th>capital-loss</th>\n",
              "      <th>incident_date</th>\n",
              "      <th>incident_type</th>\n",
              "      <th>collision_type</th>\n",
              "      <th>incident_severity</th>\n",
              "      <th>authorities_contacted</th>\n",
              "      <th>incident_state</th>\n",
              "      <th>incident_city</th>\n",
              "      <th>incident_location</th>\n",
              "      <th>incident_hour_of_the_day</th>\n",
              "      <th>number_of_vehicles_involved</th>\n",
              "      <th>property_damage</th>\n",
              "      <th>bodily_injuries</th>\n",
              "      <th>witnesses</th>\n",
              "      <th>police_report_available</th>\n",
              "      <th>total_claim_amount</th>\n",
              "      <th>injury_claim</th>\n",
              "      <th>property_claim</th>\n",
              "      <th>vehicle_claim</th>\n",
              "      <th>auto_make</th>\n",
              "      <th>auto_model</th>\n",
              "      <th>auto_year</th>\n",
              "      <th>fraud_reported</th>\n",
              "      <th>_c39</th>\n",
              "    </tr>\n",
              "  </thead>\n",
              "  <tbody>\n",
              "    <tr>\n",
              "      <th>count</th>\n",
              "      <td>1000.000000</td>\n",
              "      <td>1000.000000</td>\n",
              "      <td>1000.000000</td>\n",
              "      <td>1000</td>\n",
              "      <td>1000</td>\n",
              "      <td>1000</td>\n",
              "      <td>1000.000000</td>\n",
              "      <td>1000.000000</td>\n",
              "      <td>1.000000e+03</td>\n",
              "      <td>1000.000000</td>\n",
              "      <td>1000</td>\n",
              "      <td>1000</td>\n",
              "      <td>1000</td>\n",
              "      <td>1000</td>\n",
              "      <td>1000</td>\n",
              "      <td>1000.000000</td>\n",
              "      <td>1000.000000</td>\n",
              "      <td>1000</td>\n",
              "      <td>1000</td>\n",
              "      <td>1000</td>\n",
              "      <td>1000</td>\n",
              "      <td>1000</td>\n",
              "      <td>1000</td>\n",
              "      <td>1000</td>\n",
              "      <td>1000</td>\n",
              "      <td>1000.000000</td>\n",
              "      <td>1000.00000</td>\n",
              "      <td>1000</td>\n",
              "      <td>1000.000000</td>\n",
              "      <td>1000.000000</td>\n",
              "      <td>1000</td>\n",
              "      <td>1000.00000</td>\n",
              "      <td>1000.000000</td>\n",
              "      <td>1000.000000</td>\n",
              "      <td>1000.000000</td>\n",
              "      <td>1000</td>\n",
              "      <td>1000</td>\n",
              "      <td>1000.000000</td>\n",
              "      <td>1000</td>\n",
              "      <td>0.0</td>\n",
              "    </tr>\n",
              "    <tr>\n",
              "      <th>unique</th>\n",
              "      <td>NaN</td>\n",
              "      <td>NaN</td>\n",
              "      <td>NaN</td>\n",
              "      <td>951</td>\n",
              "      <td>3</td>\n",
              "      <td>3</td>\n",
              "      <td>NaN</td>\n",
              "      <td>NaN</td>\n",
              "      <td>NaN</td>\n",
              "      <td>NaN</td>\n",
              "      <td>2</td>\n",
              "      <td>7</td>\n",
              "      <td>14</td>\n",
              "      <td>20</td>\n",
              "      <td>6</td>\n",
              "      <td>NaN</td>\n",
              "      <td>NaN</td>\n",
              "      <td>60</td>\n",
              "      <td>4</td>\n",
              "      <td>4</td>\n",
              "      <td>4</td>\n",
              "      <td>5</td>\n",
              "      <td>7</td>\n",
              "      <td>7</td>\n",
              "      <td>1000</td>\n",
              "      <td>NaN</td>\n",
              "      <td>NaN</td>\n",
              "      <td>3</td>\n",
              "      <td>NaN</td>\n",
              "      <td>NaN</td>\n",
              "      <td>3</td>\n",
              "      <td>NaN</td>\n",
              "      <td>NaN</td>\n",
              "      <td>NaN</td>\n",
              "      <td>NaN</td>\n",
              "      <td>14</td>\n",
              "      <td>39</td>\n",
              "      <td>NaN</td>\n",
              "      <td>2</td>\n",
              "      <td>NaN</td>\n",
              "    </tr>\n",
              "    <tr>\n",
              "      <th>top</th>\n",
              "      <td>NaN</td>\n",
              "      <td>NaN</td>\n",
              "      <td>NaN</td>\n",
              "      <td>2006-01-01</td>\n",
              "      <td>OH</td>\n",
              "      <td>250/500</td>\n",
              "      <td>NaN</td>\n",
              "      <td>NaN</td>\n",
              "      <td>NaN</td>\n",
              "      <td>NaN</td>\n",
              "      <td>FEMALE</td>\n",
              "      <td>JD</td>\n",
              "      <td>machine-op-inspct</td>\n",
              "      <td>reading</td>\n",
              "      <td>own-child</td>\n",
              "      <td>NaN</td>\n",
              "      <td>NaN</td>\n",
              "      <td>2015-02-02</td>\n",
              "      <td>Multi-vehicle Collision</td>\n",
              "      <td>Rear Collision</td>\n",
              "      <td>Minor Damage</td>\n",
              "      <td>Police</td>\n",
              "      <td>NY</td>\n",
              "      <td>Springfield</td>\n",
              "      <td>2381 1st Hwy</td>\n",
              "      <td>NaN</td>\n",
              "      <td>NaN</td>\n",
              "      <td>?</td>\n",
              "      <td>NaN</td>\n",
              "      <td>NaN</td>\n",
              "      <td>?</td>\n",
              "      <td>NaN</td>\n",
              "      <td>NaN</td>\n",
              "      <td>NaN</td>\n",
              "      <td>NaN</td>\n",
              "      <td>Suburu</td>\n",
              "      <td>RAM</td>\n",
              "      <td>NaN</td>\n",
              "      <td>N</td>\n",
              "      <td>NaN</td>\n",
              "    </tr>\n",
              "    <tr>\n",
              "      <th>freq</th>\n",
              "      <td>NaN</td>\n",
              "      <td>NaN</td>\n",
              "      <td>NaN</td>\n",
              "      <td>3</td>\n",
              "      <td>352</td>\n",
              "      <td>351</td>\n",
              "      <td>NaN</td>\n",
              "      <td>NaN</td>\n",
              "      <td>NaN</td>\n",
              "      <td>NaN</td>\n",
              "      <td>537</td>\n",
              "      <td>161</td>\n",
              "      <td>93</td>\n",
              "      <td>64</td>\n",
              "      <td>183</td>\n",
              "      <td>NaN</td>\n",
              "      <td>NaN</td>\n",
              "      <td>28</td>\n",
              "      <td>419</td>\n",
              "      <td>292</td>\n",
              "      <td>354</td>\n",
              "      <td>292</td>\n",
              "      <td>262</td>\n",
              "      <td>157</td>\n",
              "      <td>1</td>\n",
              "      <td>NaN</td>\n",
              "      <td>NaN</td>\n",
              "      <td>360</td>\n",
              "      <td>NaN</td>\n",
              "      <td>NaN</td>\n",
              "      <td>343</td>\n",
              "      <td>NaN</td>\n",
              "      <td>NaN</td>\n",
              "      <td>NaN</td>\n",
              "      <td>NaN</td>\n",
              "      <td>80</td>\n",
              "      <td>43</td>\n",
              "      <td>NaN</td>\n",
              "      <td>753</td>\n",
              "      <td>NaN</td>\n",
              "    </tr>\n",
              "    <tr>\n",
              "      <th>mean</th>\n",
              "      <td>203.954000</td>\n",
              "      <td>38.948000</td>\n",
              "      <td>546238.648000</td>\n",
              "      <td>NaN</td>\n",
              "      <td>NaN</td>\n",
              "      <td>NaN</td>\n",
              "      <td>1136.000000</td>\n",
              "      <td>1256.406150</td>\n",
              "      <td>1.101000e+06</td>\n",
              "      <td>501214.488000</td>\n",
              "      <td>NaN</td>\n",
              "      <td>NaN</td>\n",
              "      <td>NaN</td>\n",
              "      <td>NaN</td>\n",
              "      <td>NaN</td>\n",
              "      <td>25126.100000</td>\n",
              "      <td>-26793.700000</td>\n",
              "      <td>NaN</td>\n",
              "      <td>NaN</td>\n",
              "      <td>NaN</td>\n",
              "      <td>NaN</td>\n",
              "      <td>NaN</td>\n",
              "      <td>NaN</td>\n",
              "      <td>NaN</td>\n",
              "      <td>NaN</td>\n",
              "      <td>11.644000</td>\n",
              "      <td>1.83900</td>\n",
              "      <td>NaN</td>\n",
              "      <td>0.992000</td>\n",
              "      <td>1.487000</td>\n",
              "      <td>NaN</td>\n",
              "      <td>52761.94000</td>\n",
              "      <td>7433.420000</td>\n",
              "      <td>7399.570000</td>\n",
              "      <td>37928.950000</td>\n",
              "      <td>NaN</td>\n",
              "      <td>NaN</td>\n",
              "      <td>2005.103000</td>\n",
              "      <td>NaN</td>\n",
              "      <td>NaN</td>\n",
              "    </tr>\n",
              "    <tr>\n",
              "      <th>std</th>\n",
              "      <td>115.113174</td>\n",
              "      <td>9.140287</td>\n",
              "      <td>257063.005276</td>\n",
              "      <td>NaN</td>\n",
              "      <td>NaN</td>\n",
              "      <td>NaN</td>\n",
              "      <td>611.864673</td>\n",
              "      <td>244.167395</td>\n",
              "      <td>2.297407e+06</td>\n",
              "      <td>71701.610941</td>\n",
              "      <td>NaN</td>\n",
              "      <td>NaN</td>\n",
              "      <td>NaN</td>\n",
              "      <td>NaN</td>\n",
              "      <td>NaN</td>\n",
              "      <td>27872.187708</td>\n",
              "      <td>28104.096686</td>\n",
              "      <td>NaN</td>\n",
              "      <td>NaN</td>\n",
              "      <td>NaN</td>\n",
              "      <td>NaN</td>\n",
              "      <td>NaN</td>\n",
              "      <td>NaN</td>\n",
              "      <td>NaN</td>\n",
              "      <td>NaN</td>\n",
              "      <td>6.951373</td>\n",
              "      <td>1.01888</td>\n",
              "      <td>NaN</td>\n",
              "      <td>0.820127</td>\n",
              "      <td>1.111335</td>\n",
              "      <td>NaN</td>\n",
              "      <td>26401.53319</td>\n",
              "      <td>4880.951853</td>\n",
              "      <td>4824.726179</td>\n",
              "      <td>18886.252893</td>\n",
              "      <td>NaN</td>\n",
              "      <td>NaN</td>\n",
              "      <td>6.015861</td>\n",
              "      <td>NaN</td>\n",
              "      <td>NaN</td>\n",
              "    </tr>\n",
              "    <tr>\n",
              "      <th>min</th>\n",
              "      <td>0.000000</td>\n",
              "      <td>19.000000</td>\n",
              "      <td>100804.000000</td>\n",
              "      <td>NaN</td>\n",
              "      <td>NaN</td>\n",
              "      <td>NaN</td>\n",
              "      <td>500.000000</td>\n",
              "      <td>433.330000</td>\n",
              "      <td>-1.000000e+06</td>\n",
              "      <td>430104.000000</td>\n",
              "      <td>NaN</td>\n",
              "      <td>NaN</td>\n",
              "      <td>NaN</td>\n",
              "      <td>NaN</td>\n",
              "      <td>NaN</td>\n",
              "      <td>0.000000</td>\n",
              "      <td>-111100.000000</td>\n",
              "      <td>NaN</td>\n",
              "      <td>NaN</td>\n",
              "      <td>NaN</td>\n",
              "      <td>NaN</td>\n",
              "      <td>NaN</td>\n",
              "      <td>NaN</td>\n",
              "      <td>NaN</td>\n",
              "      <td>NaN</td>\n",
              "      <td>0.000000</td>\n",
              "      <td>1.00000</td>\n",
              "      <td>NaN</td>\n",
              "      <td>0.000000</td>\n",
              "      <td>0.000000</td>\n",
              "      <td>NaN</td>\n",
              "      <td>100.00000</td>\n",
              "      <td>0.000000</td>\n",
              "      <td>0.000000</td>\n",
              "      <td>70.000000</td>\n",
              "      <td>NaN</td>\n",
              "      <td>NaN</td>\n",
              "      <td>1995.000000</td>\n",
              "      <td>NaN</td>\n",
              "      <td>NaN</td>\n",
              "    </tr>\n",
              "    <tr>\n",
              "      <th>25%</th>\n",
              "      <td>115.750000</td>\n",
              "      <td>32.000000</td>\n",
              "      <td>335980.250000</td>\n",
              "      <td>NaN</td>\n",
              "      <td>NaN</td>\n",
              "      <td>NaN</td>\n",
              "      <td>500.000000</td>\n",
              "      <td>1089.607500</td>\n",
              "      <td>0.000000e+00</td>\n",
              "      <td>448404.500000</td>\n",
              "      <td>NaN</td>\n",
              "      <td>NaN</td>\n",
              "      <td>NaN</td>\n",
              "      <td>NaN</td>\n",
              "      <td>NaN</td>\n",
              "      <td>0.000000</td>\n",
              "      <td>-51500.000000</td>\n",
              "      <td>NaN</td>\n",
              "      <td>NaN</td>\n",
              "      <td>NaN</td>\n",
              "      <td>NaN</td>\n",
              "      <td>NaN</td>\n",
              "      <td>NaN</td>\n",
              "      <td>NaN</td>\n",
              "      <td>NaN</td>\n",
              "      <td>6.000000</td>\n",
              "      <td>1.00000</td>\n",
              "      <td>NaN</td>\n",
              "      <td>0.000000</td>\n",
              "      <td>1.000000</td>\n",
              "      <td>NaN</td>\n",
              "      <td>41812.50000</td>\n",
              "      <td>4295.000000</td>\n",
              "      <td>4445.000000</td>\n",
              "      <td>30292.500000</td>\n",
              "      <td>NaN</td>\n",
              "      <td>NaN</td>\n",
              "      <td>2000.000000</td>\n",
              "      <td>NaN</td>\n",
              "      <td>NaN</td>\n",
              "    </tr>\n",
              "    <tr>\n",
              "      <th>50%</th>\n",
              "      <td>199.500000</td>\n",
              "      <td>38.000000</td>\n",
              "      <td>533135.000000</td>\n",
              "      <td>NaN</td>\n",
              "      <td>NaN</td>\n",
              "      <td>NaN</td>\n",
              "      <td>1000.000000</td>\n",
              "      <td>1257.200000</td>\n",
              "      <td>0.000000e+00</td>\n",
              "      <td>466445.500000</td>\n",
              "      <td>NaN</td>\n",
              "      <td>NaN</td>\n",
              "      <td>NaN</td>\n",
              "      <td>NaN</td>\n",
              "      <td>NaN</td>\n",
              "      <td>0.000000</td>\n",
              "      <td>-23250.000000</td>\n",
              "      <td>NaN</td>\n",
              "      <td>NaN</td>\n",
              "      <td>NaN</td>\n",
              "      <td>NaN</td>\n",
              "      <td>NaN</td>\n",
              "      <td>NaN</td>\n",
              "      <td>NaN</td>\n",
              "      <td>NaN</td>\n",
              "      <td>12.000000</td>\n",
              "      <td>1.00000</td>\n",
              "      <td>NaN</td>\n",
              "      <td>1.000000</td>\n",
              "      <td>1.000000</td>\n",
              "      <td>NaN</td>\n",
              "      <td>58055.00000</td>\n",
              "      <td>6775.000000</td>\n",
              "      <td>6750.000000</td>\n",
              "      <td>42100.000000</td>\n",
              "      <td>NaN</td>\n",
              "      <td>NaN</td>\n",
              "      <td>2005.000000</td>\n",
              "      <td>NaN</td>\n",
              "      <td>NaN</td>\n",
              "    </tr>\n",
              "    <tr>\n",
              "      <th>75%</th>\n",
              "      <td>276.250000</td>\n",
              "      <td>44.000000</td>\n",
              "      <td>759099.750000</td>\n",
              "      <td>NaN</td>\n",
              "      <td>NaN</td>\n",
              "      <td>NaN</td>\n",
              "      <td>2000.000000</td>\n",
              "      <td>1415.695000</td>\n",
              "      <td>0.000000e+00</td>\n",
              "      <td>603251.000000</td>\n",
              "      <td>NaN</td>\n",
              "      <td>NaN</td>\n",
              "      <td>NaN</td>\n",
              "      <td>NaN</td>\n",
              "      <td>NaN</td>\n",
              "      <td>51025.000000</td>\n",
              "      <td>0.000000</td>\n",
              "      <td>NaN</td>\n",
              "      <td>NaN</td>\n",
              "      <td>NaN</td>\n",
              "      <td>NaN</td>\n",
              "      <td>NaN</td>\n",
              "      <td>NaN</td>\n",
              "      <td>NaN</td>\n",
              "      <td>NaN</td>\n",
              "      <td>17.000000</td>\n",
              "      <td>3.00000</td>\n",
              "      <td>NaN</td>\n",
              "      <td>2.000000</td>\n",
              "      <td>2.000000</td>\n",
              "      <td>NaN</td>\n",
              "      <td>70592.50000</td>\n",
              "      <td>11305.000000</td>\n",
              "      <td>10885.000000</td>\n",
              "      <td>50822.500000</td>\n",
              "      <td>NaN</td>\n",
              "      <td>NaN</td>\n",
              "      <td>2010.000000</td>\n",
              "      <td>NaN</td>\n",
              "      <td>NaN</td>\n",
              "    </tr>\n",
              "    <tr>\n",
              "      <th>max</th>\n",
              "      <td>479.000000</td>\n",
              "      <td>64.000000</td>\n",
              "      <td>999435.000000</td>\n",
              "      <td>NaN</td>\n",
              "      <td>NaN</td>\n",
              "      <td>NaN</td>\n",
              "      <td>2000.000000</td>\n",
              "      <td>2047.590000</td>\n",
              "      <td>1.000000e+07</td>\n",
              "      <td>620962.000000</td>\n",
              "      <td>NaN</td>\n",
              "      <td>NaN</td>\n",
              "      <td>NaN</td>\n",
              "      <td>NaN</td>\n",
              "      <td>NaN</td>\n",
              "      <td>100500.000000</td>\n",
              "      <td>0.000000</td>\n",
              "      <td>NaN</td>\n",
              "      <td>NaN</td>\n",
              "      <td>NaN</td>\n",
              "      <td>NaN</td>\n",
              "      <td>NaN</td>\n",
              "      <td>NaN</td>\n",
              "      <td>NaN</td>\n",
              "      <td>NaN</td>\n",
              "      <td>23.000000</td>\n",
              "      <td>4.00000</td>\n",
              "      <td>NaN</td>\n",
              "      <td>2.000000</td>\n",
              "      <td>3.000000</td>\n",
              "      <td>NaN</td>\n",
              "      <td>114920.00000</td>\n",
              "      <td>21450.000000</td>\n",
              "      <td>23670.000000</td>\n",
              "      <td>79560.000000</td>\n",
              "      <td>NaN</td>\n",
              "      <td>NaN</td>\n",
              "      <td>2015.000000</td>\n",
              "      <td>NaN</td>\n",
              "      <td>NaN</td>\n",
              "    </tr>\n",
              "  </tbody>\n",
              "</table>\n",
              "</div>"
            ],
            "text/plain": [
              "        months_as_customer          age  ...  fraud_reported _c39\n",
              "count          1000.000000  1000.000000  ...            1000  0.0\n",
              "unique                 NaN          NaN  ...               2  NaN\n",
              "top                    NaN          NaN  ...               N  NaN\n",
              "freq                   NaN          NaN  ...             753  NaN\n",
              "mean            203.954000    38.948000  ...             NaN  NaN\n",
              "std             115.113174     9.140287  ...             NaN  NaN\n",
              "min               0.000000    19.000000  ...             NaN  NaN\n",
              "25%             115.750000    32.000000  ...             NaN  NaN\n",
              "50%             199.500000    38.000000  ...             NaN  NaN\n",
              "75%             276.250000    44.000000  ...             NaN  NaN\n",
              "max             479.000000    64.000000  ...             NaN  NaN\n",
              "\n",
              "[11 rows x 40 columns]"
            ]
          },
          "metadata": {
            "tags": []
          },
          "execution_count": 3
        }
      ]
    },
    {
      "cell_type": "markdown",
      "metadata": {
        "id": "2VWIFQRn3-2x"
      },
      "source": [
        "## Understanding the predictors"
      ]
    },
    {
      "cell_type": "markdown",
      "metadata": {
        "id": "rL0e5Ra24sGd"
      },
      "source": [
        "We will begin by going through the unintuitive predictors and try to understand what they represent."
      ]
    },
    {
      "cell_type": "markdown",
      "metadata": {
        "id": "RsfC8M244CcJ"
      },
      "source": [
        "* `policy_number` seems to be an unique ID."
      ]
    },
    {
      "cell_type": "markdown",
      "metadata": {
        "id": "sFbFLnO94X92"
      },
      "source": [
        " * `policy_bind_date` does not seem to be multicollinear with `months_as_customer`. We assume this is because customers can change policies and that `policy_bind_date` is the bind date of the most recent policy."
      ]
    },
    {
      "cell_type": "markdown",
      "metadata": {
        "id": "YSEdKY5A5tje"
      },
      "source": [
        "* `policy_csl` seems to represent a policy's 'combined single limits'. This is a \"provision of an insurance policy that limits the coverage for all components of a claim to a single dollar amount\", as opposed to 'split limits' which denotes seperate limits for 'payment per person due to bodily injury', 'total payment for the incident' and 'property damage', although that last limit is not a standard part of all policies [[4]](https://www.investopedia.com/terms/c/combined-single-limits.asp). Oddly enough, all the data for the `policy_csl` column is in the format 'x/y', which is commonly used to denote split limits where 'x' is the per person limit and 'y' is the per incident limit and x > y. Further research shows that the three unique data points for the `policy_csl` column, `100/300`, `250/500` and `500/1000` are common limits offered in the US (units are in 000s). Hence we will go with the interpretation of the `policy_csl` column as the split limits for the claimant. We can interpret `100/300`, `250/500` and `500/1000` as low, medium and high insurance coverage respectively."
      ]
    },
    {
      "cell_type": "markdown",
      "metadata": {
        "id": "cNKTeiMF6iIF"
      },
      "source": [
        "* `policy_deductible` and `umbrella_limit` are explained in the Introduction."
      ]
    },
    {
      "cell_type": "markdown",
      "metadata": {
        "id": "X9hPjXlV7RQo"
      },
      "source": [
        "* `insured_zip` would in theory contain the zip code of the claimant's address, but oddly we were unable to find any zip code format (or even a subsection of a zip code) that would match the data."
      ]
    },
    {
      "cell_type": "markdown",
      "metadata": {
        "id": "3IYNisxt8L1c"
      },
      "source": [
        "* `capital-gains` and `capital-loss` is a very confusing black box. It does not seem to have a consistent relationship with any linear combination of `policy_deductable`, `policy_annual_premium` `total_claim_amount`, `injury_claim`, `property_claim`\tor `vehicle_claim`. Further research has not proven fruitful either. Moreover, the data is provided in multiples of 100, implying that there is some rounding going on at some stage. We will likely drop this predictor due to its uninterpretability."
      ]
    },
    {
      "cell_type": "markdown",
      "metadata": {
        "id": "nn56fUXLDFzs"
      },
      "source": [
        "* `collision_type` seems to have `?` when no collision has occured e.g. for vehicle theft. This is fine. On the other hand, the occurence of `?` in the `property_damage` and `police_report_available` seem to represent missing data. We will have to decide how we wish to deal with this later."
      ]
    },
    {
      "cell_type": "markdown",
      "metadata": {
        "id": "pam2WKyYw0BB"
      },
      "source": [
        "## Dropping irrelevant predictors"
      ]
    },
    {
      "cell_type": "markdown",
      "metadata": {
        "id": "sqJ2VzDS240b"
      },
      "source": [
        "* We drop `_c39` because it is an emtpy column.\n",
        "* We will drop `policy_number` as it an unique ID.\n",
        "* We drop `insured_zip`, `capital-gains` and `capital-loss` because we are not sure what these predictors represent.\n",
        "* We drop `incident_location` and `incident_city` because we are not interested in that level of location specifity for this analysis. Moreover, to conduct useful analysis of fraud incidence and location, we would require a much larger dataset, data from a much greater variety of locations and a good way of binning them. It suffices to say that this is out of the scope of this analysis.\n",
        "* `auto_model` is also a level of granularity that will also likely not be useful in this analysis for similar reasons. `auto_make` will likely contain most of the signal in `auto_model` with much less of the noise.\n",
        "* We drop `insured_hobbies` because this data is likely not available for most fraud insurance prediction tasks, so it is not useful to include it in this analysis if what we are focused on is OOD generalization.\n",
        "\n",
        "We are now left with 30 predictors out of our original 39."
      ]
    },
    {
      "cell_type": "code",
      "metadata": {
        "id": "3VUVvddC2HAn"
      },
      "source": [
        "data.drop(labels=['_c39', 'policy_number', 'insured_zip', 'capital-gains', 'capital-loss', \n",
        "                  'incident_location', 'incident_city', 'auto_model', 'insured_hobbies'],\n",
        "           axis=1, inplace=True)"
      ],
      "execution_count": null,
      "outputs": []
    },
    {
      "cell_type": "markdown",
      "metadata": {
        "id": "i0jk6GICxiai"
      },
      "source": [
        "## Cleaning predictors"
      ]
    },
    {
      "cell_type": "code",
      "metadata": {
        "colab": {
          "base_uri": "https://localhost:8080/"
        },
        "id": "OHRF0jLW53h7",
        "outputId": "3e6fe541-e702-4fce-d326-a75102da2fd4"
      },
      "source": [
        "data.info()"
      ],
      "execution_count": null,
      "outputs": [
        {
          "output_type": "stream",
          "text": [
            "<class 'pandas.core.frame.DataFrame'>\n",
            "RangeIndex: 1000 entries, 0 to 999\n",
            "Data columns (total 31 columns):\n",
            " #   Column                       Non-Null Count  Dtype  \n",
            "---  ------                       --------------  -----  \n",
            " 0   months_as_customer           1000 non-null   int64  \n",
            " 1   age                          1000 non-null   int64  \n",
            " 2   policy_bind_date             1000 non-null   object \n",
            " 3   policy_state                 1000 non-null   object \n",
            " 4   policy_csl                   1000 non-null   object \n",
            " 5   policy_deductable            1000 non-null   int64  \n",
            " 6   policy_annual_premium        1000 non-null   float64\n",
            " 7   umbrella_limit               1000 non-null   int64  \n",
            " 8   insured_sex                  1000 non-null   object \n",
            " 9   insured_education_level      1000 non-null   object \n",
            " 10  insured_occupation           1000 non-null   object \n",
            " 11  insured_relationship         1000 non-null   object \n",
            " 12  incident_date                1000 non-null   object \n",
            " 13  incident_type                1000 non-null   object \n",
            " 14  collision_type               1000 non-null   object \n",
            " 15  incident_severity            1000 non-null   object \n",
            " 16  authorities_contacted        1000 non-null   object \n",
            " 17  incident_state               1000 non-null   object \n",
            " 18  incident_hour_of_the_day     1000 non-null   int64  \n",
            " 19  number_of_vehicles_involved  1000 non-null   int64  \n",
            " 20  property_damage              1000 non-null   object \n",
            " 21  bodily_injuries              1000 non-null   int64  \n",
            " 22  witnesses                    1000 non-null   int64  \n",
            " 23  police_report_available      1000 non-null   object \n",
            " 24  total_claim_amount           1000 non-null   int64  \n",
            " 25  injury_claim                 1000 non-null   int64  \n",
            " 26  property_claim               1000 non-null   int64  \n",
            " 27  vehicle_claim                1000 non-null   int64  \n",
            " 28  auto_make                    1000 non-null   object \n",
            " 29  auto_year                    1000 non-null   int64  \n",
            " 30  fraud_reported               1000 non-null   object \n",
            "dtypes: float64(1), int64(13), object(17)\n",
            "memory usage: 242.3+ KB\n"
          ],
          "name": "stdout"
        }
      ]
    },
    {
      "cell_type": "code",
      "metadata": {
        "id": "KPwKWQmF7MDO"
      },
      "source": [
        "#we want to convert policy_bind_date and incident_date to ordinal datetime to make regression easier\n",
        "#we will covert back from ordinal time when we wish to interpret results (such as in the Logistic Regression section)\n",
        "data[['policy_bind_date', 'incident_date']] = data[['policy_bind_date', 'incident_date']].apply(pd.to_datetime)\n",
        "data['policy_bind_date'] = data['policy_bind_date'].apply(lambda x: x.toordinal())\n",
        "data['incident_date'] = data['incident_date'].apply(lambda x: x.toordinal())\n",
        "\n",
        "#property_damage and policy_report_available is represented by '?' – convert to None type\n",
        "data[['property_damage', 'police_report_available']] = data[['property_damage', \n",
        "                                                             'police_report_available']].replace({'?': np.nan})\n",
        "#property_damage, policy_report_available and fraud_reported are of 'object' type when they should be of 'int' type\n",
        "data[['property_damage', 'police_report_available']] = data[['property_damage', \n",
        "                                                             'police_report_available']].replace({'YES': 1, 'NO': 0})\n",
        "data['fraud_reported'] = data['fraud_reported'].replace({'Y': 1, 'N': 0})"
      ],
      "execution_count": null,
      "outputs": []
    },
    {
      "cell_type": "code",
      "metadata": {
        "colab": {
          "base_uri": "https://localhost:8080/",
          "height": 204
        },
        "id": "CUQm2tthDTef",
        "outputId": "a15f37e5-0664-4d87-e200-bdadccdad29e"
      },
      "source": [
        "#Results look good\n",
        "data[['property_damage', 'police_report_available', 'fraud_reported']].head()"
      ],
      "execution_count": null,
      "outputs": [
        {
          "output_type": "execute_result",
          "data": {
            "text/html": [
              "<div>\n",
              "<style scoped>\n",
              "    .dataframe tbody tr th:only-of-type {\n",
              "        vertical-align: middle;\n",
              "    }\n",
              "\n",
              "    .dataframe tbody tr th {\n",
              "        vertical-align: top;\n",
              "    }\n",
              "\n",
              "    .dataframe thead th {\n",
              "        text-align: right;\n",
              "    }\n",
              "</style>\n",
              "<table border=\"1\" class=\"dataframe\">\n",
              "  <thead>\n",
              "    <tr style=\"text-align: right;\">\n",
              "      <th></th>\n",
              "      <th>property_damage</th>\n",
              "      <th>police_report_available</th>\n",
              "      <th>fraud_reported</th>\n",
              "    </tr>\n",
              "  </thead>\n",
              "  <tbody>\n",
              "    <tr>\n",
              "      <th>0</th>\n",
              "      <td>1.0</td>\n",
              "      <td>1.0</td>\n",
              "      <td>1</td>\n",
              "    </tr>\n",
              "    <tr>\n",
              "      <th>1</th>\n",
              "      <td>NaN</td>\n",
              "      <td>NaN</td>\n",
              "      <td>1</td>\n",
              "    </tr>\n",
              "    <tr>\n",
              "      <th>2</th>\n",
              "      <td>0.0</td>\n",
              "      <td>0.0</td>\n",
              "      <td>0</td>\n",
              "    </tr>\n",
              "    <tr>\n",
              "      <th>3</th>\n",
              "      <td>NaN</td>\n",
              "      <td>0.0</td>\n",
              "      <td>1</td>\n",
              "    </tr>\n",
              "    <tr>\n",
              "      <th>4</th>\n",
              "      <td>0.0</td>\n",
              "      <td>0.0</td>\n",
              "      <td>0</td>\n",
              "    </tr>\n",
              "  </tbody>\n",
              "</table>\n",
              "</div>"
            ],
            "text/plain": [
              "   property_damage  police_report_available  fraud_reported\n",
              "0              1.0                      1.0               1\n",
              "1              NaN                      NaN               1\n",
              "2              0.0                      0.0               0\n",
              "3              NaN                      0.0               1\n",
              "4              0.0                      0.0               0"
            ]
          },
          "metadata": {
            "tags": []
          },
          "execution_count": 7
        }
      ]
    },
    {
      "cell_type": "markdown",
      "metadata": {
        "id": "JeYXAMEfGBp6"
      },
      "source": [
        "## Binning predictors"
      ]
    },
    {
      "cell_type": "markdown",
      "metadata": {
        "id": "T6DV08Yl5c-n"
      },
      "source": [
        "As per [[5]](https://stats.stackexchange.com/questions/230750/when-should-we-discretize-bin-continuous-independent-variables-features-and-when?rq=1), one should avoid binning variables unless \"one has an a priori theory of the scale of aggregation (how many units to aggregate to) and the categorization function of aggregation (which individual observations will end up in which aggregate units)\". As this does not apply to any of our predictors, we avoid binning any of our predictors.<br><br>\n",
        "As an aside, the reason we include this section is because we had originally planned to bin the `policy_bind_date` and `policy_annual_premium` predictors. We changed our minds after conducting further research."
      ]
    },
    {
      "cell_type": "markdown",
      "metadata": {
        "id": "ggenRlV8xU2a"
      },
      "source": [
        "## Checking for multicollinear predictors"
      ]
    },
    {
      "cell_type": "code",
      "metadata": {
        "colab": {
          "base_uri": "https://localhost:8080/",
          "height": 542
        },
        "id": "PcMRh9A31cm2",
        "outputId": "2a9a0f95-38e5-4bac-b789-2ff7e0314ca3"
      },
      "source": [
        "#We use a correlation matrix to conduct a crude multicollinearity check\n",
        "data_columns = data.columns.tolist()\n",
        "corr_matrix = data[data_columns].corr()\n",
        "fig = go.Figure(data = go.Heatmap(\n",
        "                                z = corr_matrix.values,\n",
        "                                x = list(corr_matrix.columns),\n",
        "                                y = list(corr_matrix.index)))\n",
        "fig.update_layout(title = 'Correlation')\n",
        "fig.show()"
      ],
      "execution_count": null,
      "outputs": [
        {
          "output_type": "display_data",
          "data": {
            "text/html": [
              "<html>\n",
              "<head><meta charset=\"utf-8\" /></head>\n",
              "<body>\n",
              "    <div>\n",
              "            <script src=\"https://cdnjs.cloudflare.com/ajax/libs/mathjax/2.7.5/MathJax.js?config=TeX-AMS-MML_SVG\"></script><script type=\"text/javascript\">if (window.MathJax) {MathJax.Hub.Config({SVG: {font: \"STIX-Web\"}});}</script>\n",
              "                <script type=\"text/javascript\">window.PlotlyConfig = {MathJaxConfig: 'local'};</script>\n",
              "        <script src=\"https://cdn.plot.ly/plotly-latest.min.js\"></script>    \n",
              "            <div id=\"0be97553-56b5-4c15-b021-0a130f328841\" class=\"plotly-graph-div\" style=\"height:525px; width:100%;\"></div>\n",
              "            <script type=\"text/javascript\">\n",
              "                \n",
              "                    window.PLOTLYENV=window.PLOTLYENV || {};\n",
              "                    \n",
              "                if (document.getElementById(\"0be97553-56b5-4c15-b021-0a130f328841\")) {\n",
              "                    Plotly.newPlot(\n",
              "                        '0be97553-56b5-4c15-b021-0a130f328841',\n",
              "                        [{\"type\": \"heatmap\", \"x\": [\"months_as_customer\", \"age\", \"policy_bind_date\", \"policy_deductable\", \"policy_annual_premium\", \"umbrella_limit\", \"incident_date\", \"incident_hour_of_the_day\", \"number_of_vehicles_involved\", \"property_damage\", \"bodily_injuries\", \"witnesses\", \"police_report_available\", \"total_claim_amount\", \"injury_claim\", \"property_claim\", \"vehicle_claim\", \"auto_year\", \"fraud_reported\"], \"y\": [\"months_as_customer\", \"age\", \"policy_bind_date\", \"policy_deductable\", \"policy_annual_premium\", \"umbrella_limit\", \"incident_date\", \"incident_hour_of_the_day\", \"number_of_vehicles_involved\", \"property_damage\", \"bodily_injuries\", \"witnesses\", \"police_report_available\", \"total_claim_amount\", \"injury_claim\", \"property_claim\", \"vehicle_claim\", \"auto_year\", \"fraud_reported\"], \"z\": [[1.0, 0.9220983225789804, -0.048172748530865166, 0.026807402564925916, 0.005017684448634767, 0.015498439716200907, -0.041254112437563474, 0.07063925305067005, 0.014735895488254328, 0.003185249673341708, -0.010161564419989043, 0.058382787390062064, -0.0684346814595037, 0.06210799657596282, 0.06532878550954278, 0.034939810372178644, 0.06101287878576974, -0.000292365415335662, 0.02054351249497112], [0.9220983225789804, 1.0, -0.03694072139133656, 0.029187621920512444, 0.014403733198297696, 0.01812626549199465, -0.03315281265410161, 0.08716147803802225, 0.022102111689942108, -0.005435842150116287, -0.015679086795351876, 0.052358721402280095, -0.060153376634190354, 0.06986262577609997, 0.07552225887201769, 0.06089752629982831, 0.06258764198000921, 0.0013536080590665662, 0.012143362366659702], [-0.048172748530865166, -0.03694072139133656, 1.0, -0.0506108735382294, 0.0010273116432257445, 0.04611967032300016, 0.06320312574591785, 0.03578194117923067, 0.025543497912744285, 0.02485620633743925, 0.028851783467343437, 0.056642329879842794, -0.01699203249632616, 0.00046680466912626847, 0.002270323620091799, -8.910934255569345e-06, 6.809246435212278e-05, 0.014101072395180823, -0.0012544212673852096], [0.026807402564925916, 0.029187621920512444, -0.0506108735382294, 1.0, -0.0032454463760995737, 0.010869501472358125, -0.03654972450565304, 0.06093508666188859, 0.05121441060019313, 0.013120863650516457, -0.022764582228023526, 0.06663852026929755, 0.0437606043536167, 0.02283931723945592, 0.03910677219707312, 0.06479153061791929, 0.005269087867678463, 0.026104560848350368, 0.014817347521117578], [0.005017684448634767, 0.014403733198297696, 0.0010273116432257445, -0.0032454463760995737, 1.0, -0.006246803029814113, -0.02806782078286121, -0.0015783548688130505, -0.04599124965081043, 0.057621116199535485, 0.026779859283615568, 0.0023316136235753825, 0.02968298140402495, 0.009093729149528083, -0.01763268599479851, -0.011653879679118583, 0.02024644400775881, -0.04922587585015486, -0.01447961180782109], [0.015498439716200907, 0.01812626549199465, 0.04611967032300016, 0.010869501472358125, -0.006246803029814113, 1.0, -0.0064421716469506675, -0.023256881108310964, -0.021270148466107495, -0.09424852865388389, 0.022742613719330874, -0.006738319975039276, -0.028853195584202553, -0.04034408921760297, -0.04541162324022832, -0.023790306669919308, -0.03858426298870248, 0.009893273786617541, 0.058621657640443185], [-0.041254112437563474, -0.03315281265410161, 0.06320312574591785, -0.03654972450565304, -0.02806782078286121, -0.0064421716469506675, 1.0, -0.012120766312301499, 0.040638516027273065, 0.0016618557327881865, -0.008662182757616077, 0.013632174966907759, 0.02897258355267912, -0.05077552549793881, -0.03358302730301133, -0.0770498352257801, -0.04261778288222513, -0.012661444341812777, -0.050710203964245505], [0.07063925305067005, 0.08716147803802225, 0.03578194117923067, 0.06093508666188859, -0.0015783548688130505, -0.023256881108310964, -0.012120766312301499, 1.0, 0.12079426662322958, 0.05215035221925946, -0.03456318209998994, 0.006526916000822284, 0.03695596137384469, 0.2177023870325213, 0.16576791045002623, 0.17953586162350546, 0.21562563302264315, 0.02136761790602042, 0.004315850564206061], [0.014735895488254328, 0.022102111689942108, 0.025543497912744285, 0.05121441060019313, -0.04599124965081043, -0.021270148466107495, 0.040638516027273065, 0.12079426662322958, 1.0, -0.019591613068757913, 0.014030113641081155, -0.01466868404492366, 0.0014389279220142935, 0.27427768265936764, 0.22464992102091724, 0.21908411197188818, 0.2693930380014244, 0.03455368145676646, 0.05183867861498631], [0.003185249673341708, -0.005435842150116287, 0.02485620633743925, 0.013120863650516457, 0.057621116199535485, -0.09424852865388389, 0.0016618557327881865, 0.05215035221925946, -0.019591613068757913, 1.0, 0.010647247089195157, -0.006202583625105863, 0.03216778736311564, 0.07281900416551897, 0.04991781633900617, 0.05390079853844679, 0.07542732180957669, -0.027185245951121137, 0.07532898745288014], [-0.010161564419989043, -0.015679086795351876, 0.028851783467343437, -0.022764582228023526, 0.026779859283615568, 0.022742613719330874, -0.008662182757616077, -0.03456318209998994, 0.014030113641081155, 0.010647247089195157, 1.0, -0.005605558277451317, 0.009322276145113228, 0.04709293514376224, 0.047318689438016044, 0.03974936846720904, 0.04344883187399827, -0.02052735653074129, 0.033876760029153685], [0.058382787390062064, 0.052358721402280095, 0.056642329879842794, 0.06663852026929755, 0.0023316136235753825, -0.006738319975039276, 0.013632174966907759, 0.006526916000822284, -0.01466868404492366, -0.006202583625105863, -0.005605558277451317, 1.0, 0.04682556232837321, -0.011114187757315087, -0.02484347549327275, 0.052640346838563556, -0.022563874954604213, 0.04579146108176829, 0.04949667970707109], [-0.0684346814595037, -0.060153376634190354, -0.01699203249632616, 0.0437606043536167, 0.02968298140402495, -0.028853195584202553, 0.02897258355267912, 0.03695596137384469, 0.0014389279220142935, 0.03216778736311564, 0.009322276145113228, 0.04682556232837321, 1.0, 0.08207773300733177, 0.07666189913041184, 0.037436111857498615, 0.08567384121059586, -0.030301882164446025, -0.025046388004164907], [0.06210799657596282, 0.06986262577609997, 0.00046680466912626847, 0.02283931723945592, 0.009093729149528083, -0.04034408921760297, -0.05077552549793881, 0.2177023870325213, 0.27427768265936764, 0.07281900416551897, 0.04709293514376224, -0.011114187757315087, 0.08207773300733177, 1.0, 0.805025363056183, 0.8106864951229711, 0.9827731790805634, -0.03578093686270206, 0.1636514890148025], [0.06532878550954278, 0.07552225887201769, 0.002270323620091799, 0.03910677219707312, -0.01763268599479851, -0.04541162324022832, -0.03358302730301133, 0.16576791045002623, 0.22464992102091724, 0.04991781633900617, 0.047318689438016044, -0.02484347549327275, 0.07666189913041184, 0.805025363056183, 1.0, 0.5638659408577098, 0.7228778148571297, -0.0137180574748705, 0.09097470078676032], [0.034939810372178644, 0.06089752629982831, -8.910934255569345e-06, 0.06479153061791929, -0.011653879679118583, -0.023790306669919308, -0.0770498352257801, 0.17953586162350546, 0.21908411197188818, 0.05390079853844679, 0.03974936846720904, 0.052640346838563556, 0.037436111857498615, 0.8106864951229711, 0.5638659408577098, 1.0, 0.7320900444571797, -0.014507787063595547, 0.1378351474652021], [0.06101287878576974, 0.06258764198000921, 6.809246435212278e-05, 0.005269087867678463, 0.02024644400775881, -0.03858426298870248, -0.04261778288222513, 0.21562563302264315, 0.2693930380014244, 0.07542732180957669, 0.04344883187399827, -0.022563874954604213, 0.08567384121059586, 0.9827731790805634, 0.7228778148571297, 0.7320900444571797, 1.0, -0.04276752612754416, 0.17004909646695177], [-0.000292365415335662, 0.0013536080590665662, 0.014101072395180823, 0.026104560848350368, -0.04922587585015486, 0.009893273786617541, -0.012661444341812777, 0.02136761790602042, 0.03455368145676646, -0.027185245951121137, -0.02052735653074129, 0.04579146108176829, -0.030301882164446025, -0.03578093686270206, -0.0137180574748705, -0.014507787063595547, -0.04276752612754416, 1.0, 0.007928216416276404], [0.02054351249497112, 0.012143362366659702, -0.0012544212673852096, 0.014817347521117578, -0.01447961180782109, 0.058621657640443185, -0.050710203964245505, 0.004315850564206061, 0.05183867861498631, 0.07532898745288014, 0.033876760029153685, 0.04949667970707109, -0.025046388004164907, 0.1636514890148025, 0.09097470078676032, 0.1378351474652021, 0.17004909646695177, 0.007928216416276404, 1.0]]}],\n",
              "                        {\"template\": {\"data\": {\"bar\": [{\"error_x\": {\"color\": \"#2a3f5f\"}, \"error_y\": {\"color\": \"#2a3f5f\"}, \"marker\": {\"line\": {\"color\": \"#E5ECF6\", \"width\": 0.5}}, \"type\": \"bar\"}], \"barpolar\": [{\"marker\": {\"line\": {\"color\": \"#E5ECF6\", \"width\": 0.5}}, \"type\": \"barpolar\"}], \"carpet\": [{\"aaxis\": {\"endlinecolor\": \"#2a3f5f\", \"gridcolor\": \"white\", \"linecolor\": \"white\", \"minorgridcolor\": \"white\", \"startlinecolor\": \"#2a3f5f\"}, \"baxis\": {\"endlinecolor\": \"#2a3f5f\", \"gridcolor\": \"white\", \"linecolor\": \"white\", \"minorgridcolor\": \"white\", \"startlinecolor\": \"#2a3f5f\"}, \"type\": \"carpet\"}], \"choropleth\": [{\"colorbar\": {\"outlinewidth\": 0, \"ticks\": \"\"}, \"type\": \"choropleth\"}], \"contour\": [{\"colorbar\": {\"outlinewidth\": 0, \"ticks\": \"\"}, \"colorscale\": [[0.0, \"#0d0887\"], [0.1111111111111111, \"#46039f\"], [0.2222222222222222, \"#7201a8\"], [0.3333333333333333, \"#9c179e\"], [0.4444444444444444, \"#bd3786\"], [0.5555555555555556, \"#d8576b\"], [0.6666666666666666, \"#ed7953\"], [0.7777777777777778, \"#fb9f3a\"], [0.8888888888888888, \"#fdca26\"], [1.0, \"#f0f921\"]], \"type\": \"contour\"}], \"contourcarpet\": [{\"colorbar\": {\"outlinewidth\": 0, \"ticks\": \"\"}, \"type\": \"contourcarpet\"}], \"heatmap\": [{\"colorbar\": {\"outlinewidth\": 0, \"ticks\": \"\"}, \"colorscale\": [[0.0, \"#0d0887\"], [0.1111111111111111, \"#46039f\"], [0.2222222222222222, \"#7201a8\"], [0.3333333333333333, \"#9c179e\"], [0.4444444444444444, \"#bd3786\"], [0.5555555555555556, \"#d8576b\"], [0.6666666666666666, \"#ed7953\"], [0.7777777777777778, \"#fb9f3a\"], [0.8888888888888888, \"#fdca26\"], [1.0, \"#f0f921\"]], \"type\": \"heatmap\"}], \"heatmapgl\": [{\"colorbar\": {\"outlinewidth\": 0, \"ticks\": \"\"}, \"colorscale\": [[0.0, \"#0d0887\"], [0.1111111111111111, \"#46039f\"], [0.2222222222222222, \"#7201a8\"], [0.3333333333333333, \"#9c179e\"], [0.4444444444444444, \"#bd3786\"], [0.5555555555555556, \"#d8576b\"], [0.6666666666666666, \"#ed7953\"], [0.7777777777777778, \"#fb9f3a\"], [0.8888888888888888, \"#fdca26\"], [1.0, \"#f0f921\"]], \"type\": \"heatmapgl\"}], \"histogram\": [{\"marker\": {\"colorbar\": {\"outlinewidth\": 0, \"ticks\": \"\"}}, \"type\": \"histogram\"}], \"histogram2d\": [{\"colorbar\": {\"outlinewidth\": 0, \"ticks\": \"\"}, \"colorscale\": [[0.0, \"#0d0887\"], [0.1111111111111111, \"#46039f\"], [0.2222222222222222, \"#7201a8\"], [0.3333333333333333, \"#9c179e\"], [0.4444444444444444, \"#bd3786\"], [0.5555555555555556, \"#d8576b\"], [0.6666666666666666, \"#ed7953\"], [0.7777777777777778, \"#fb9f3a\"], [0.8888888888888888, \"#fdca26\"], [1.0, \"#f0f921\"]], \"type\": \"histogram2d\"}], \"histogram2dcontour\": [{\"colorbar\": {\"outlinewidth\": 0, \"ticks\": \"\"}, \"colorscale\": [[0.0, \"#0d0887\"], [0.1111111111111111, \"#46039f\"], [0.2222222222222222, \"#7201a8\"], [0.3333333333333333, \"#9c179e\"], [0.4444444444444444, \"#bd3786\"], [0.5555555555555556, \"#d8576b\"], [0.6666666666666666, \"#ed7953\"], [0.7777777777777778, \"#fb9f3a\"], [0.8888888888888888, \"#fdca26\"], [1.0, \"#f0f921\"]], \"type\": \"histogram2dcontour\"}], \"mesh3d\": [{\"colorbar\": {\"outlinewidth\": 0, \"ticks\": \"\"}, \"type\": \"mesh3d\"}], \"parcoords\": [{\"line\": {\"colorbar\": {\"outlinewidth\": 0, \"ticks\": \"\"}}, \"type\": \"parcoords\"}], \"pie\": [{\"automargin\": true, \"type\": \"pie\"}], \"scatter\": [{\"marker\": {\"colorbar\": {\"outlinewidth\": 0, \"ticks\": \"\"}}, \"type\": \"scatter\"}], \"scatter3d\": [{\"line\": {\"colorbar\": {\"outlinewidth\": 0, \"ticks\": \"\"}}, \"marker\": {\"colorbar\": {\"outlinewidth\": 0, \"ticks\": \"\"}}, \"type\": \"scatter3d\"}], \"scattercarpet\": [{\"marker\": {\"colorbar\": {\"outlinewidth\": 0, \"ticks\": \"\"}}, \"type\": \"scattercarpet\"}], \"scattergeo\": [{\"marker\": {\"colorbar\": {\"outlinewidth\": 0, \"ticks\": \"\"}}, \"type\": \"scattergeo\"}], \"scattergl\": [{\"marker\": {\"colorbar\": {\"outlinewidth\": 0, \"ticks\": \"\"}}, \"type\": \"scattergl\"}], \"scattermapbox\": [{\"marker\": {\"colorbar\": {\"outlinewidth\": 0, \"ticks\": \"\"}}, \"type\": \"scattermapbox\"}], \"scatterpolar\": [{\"marker\": {\"colorbar\": {\"outlinewidth\": 0, \"ticks\": \"\"}}, \"type\": \"scatterpolar\"}], \"scatterpolargl\": [{\"marker\": {\"colorbar\": {\"outlinewidth\": 0, \"ticks\": \"\"}}, \"type\": \"scatterpolargl\"}], \"scatterternary\": [{\"marker\": {\"colorbar\": {\"outlinewidth\": 0, \"ticks\": \"\"}}, \"type\": \"scatterternary\"}], \"surface\": [{\"colorbar\": {\"outlinewidth\": 0, \"ticks\": \"\"}, \"colorscale\": [[0.0, \"#0d0887\"], [0.1111111111111111, \"#46039f\"], [0.2222222222222222, \"#7201a8\"], [0.3333333333333333, \"#9c179e\"], [0.4444444444444444, \"#bd3786\"], [0.5555555555555556, \"#d8576b\"], [0.6666666666666666, \"#ed7953\"], [0.7777777777777778, \"#fb9f3a\"], [0.8888888888888888, \"#fdca26\"], [1.0, \"#f0f921\"]], \"type\": \"surface\"}], \"table\": [{\"cells\": {\"fill\": {\"color\": \"#EBF0F8\"}, \"line\": {\"color\": \"white\"}}, \"header\": {\"fill\": {\"color\": \"#C8D4E3\"}, \"line\": {\"color\": \"white\"}}, \"type\": \"table\"}]}, \"layout\": {\"annotationdefaults\": {\"arrowcolor\": \"#2a3f5f\", \"arrowhead\": 0, \"arrowwidth\": 1}, \"coloraxis\": {\"colorbar\": {\"outlinewidth\": 0, \"ticks\": \"\"}}, \"colorscale\": {\"diverging\": [[0, \"#8e0152\"], [0.1, \"#c51b7d\"], [0.2, \"#de77ae\"], [0.3, \"#f1b6da\"], [0.4, \"#fde0ef\"], [0.5, \"#f7f7f7\"], [0.6, \"#e6f5d0\"], [0.7, \"#b8e186\"], [0.8, \"#7fbc41\"], [0.9, \"#4d9221\"], [1, \"#276419\"]], \"sequential\": [[0.0, \"#0d0887\"], [0.1111111111111111, \"#46039f\"], [0.2222222222222222, \"#7201a8\"], [0.3333333333333333, \"#9c179e\"], [0.4444444444444444, \"#bd3786\"], [0.5555555555555556, \"#d8576b\"], [0.6666666666666666, \"#ed7953\"], [0.7777777777777778, \"#fb9f3a\"], [0.8888888888888888, \"#fdca26\"], [1.0, \"#f0f921\"]], \"sequentialminus\": [[0.0, \"#0d0887\"], [0.1111111111111111, \"#46039f\"], [0.2222222222222222, \"#7201a8\"], [0.3333333333333333, \"#9c179e\"], [0.4444444444444444, \"#bd3786\"], [0.5555555555555556, \"#d8576b\"], [0.6666666666666666, \"#ed7953\"], [0.7777777777777778, \"#fb9f3a\"], [0.8888888888888888, \"#fdca26\"], [1.0, \"#f0f921\"]]}, \"colorway\": [\"#636efa\", \"#EF553B\", \"#00cc96\", \"#ab63fa\", \"#FFA15A\", \"#19d3f3\", \"#FF6692\", \"#B6E880\", \"#FF97FF\", \"#FECB52\"], \"font\": {\"color\": \"#2a3f5f\"}, \"geo\": {\"bgcolor\": \"white\", \"lakecolor\": \"white\", \"landcolor\": \"#E5ECF6\", \"showlakes\": true, \"showland\": true, \"subunitcolor\": \"white\"}, \"hoverlabel\": {\"align\": \"left\"}, \"hovermode\": \"closest\", \"mapbox\": {\"style\": \"light\"}, \"paper_bgcolor\": \"white\", \"plot_bgcolor\": \"#E5ECF6\", \"polar\": {\"angularaxis\": {\"gridcolor\": \"white\", \"linecolor\": \"white\", \"ticks\": \"\"}, \"bgcolor\": \"#E5ECF6\", \"radialaxis\": {\"gridcolor\": \"white\", \"linecolor\": \"white\", \"ticks\": \"\"}}, \"scene\": {\"xaxis\": {\"backgroundcolor\": \"#E5ECF6\", \"gridcolor\": \"white\", \"gridwidth\": 2, \"linecolor\": \"white\", \"showbackground\": true, \"ticks\": \"\", \"zerolinecolor\": \"white\"}, \"yaxis\": {\"backgroundcolor\": \"#E5ECF6\", \"gridcolor\": \"white\", \"gridwidth\": 2, \"linecolor\": \"white\", \"showbackground\": true, \"ticks\": \"\", \"zerolinecolor\": \"white\"}, \"zaxis\": {\"backgroundcolor\": \"#E5ECF6\", \"gridcolor\": \"white\", \"gridwidth\": 2, \"linecolor\": \"white\", \"showbackground\": true, \"ticks\": \"\", \"zerolinecolor\": \"white\"}}, \"shapedefaults\": {\"line\": {\"color\": \"#2a3f5f\"}}, \"ternary\": {\"aaxis\": {\"gridcolor\": \"white\", \"linecolor\": \"white\", \"ticks\": \"\"}, \"baxis\": {\"gridcolor\": \"white\", \"linecolor\": \"white\", \"ticks\": \"\"}, \"bgcolor\": \"#E5ECF6\", \"caxis\": {\"gridcolor\": \"white\", \"linecolor\": \"white\", \"ticks\": \"\"}}, \"title\": {\"x\": 0.05}, \"xaxis\": {\"automargin\": true, \"gridcolor\": \"white\", \"linecolor\": \"white\", \"ticks\": \"\", \"title\": {\"standoff\": 15}, \"zerolinecolor\": \"white\", \"zerolinewidth\": 2}, \"yaxis\": {\"automargin\": true, \"gridcolor\": \"white\", \"linecolor\": \"white\", \"ticks\": \"\", \"title\": {\"standoff\": 15}, \"zerolinecolor\": \"white\", \"zerolinewidth\": 2}}}, \"title\": {\"text\": \"Correlation\"}},\n",
              "                        {\"responsive\": true}\n",
              "                    ).then(function(){\n",
              "                            \n",
              "var gd = document.getElementById('0be97553-56b5-4c15-b021-0a130f328841');\n",
              "var x = new MutationObserver(function (mutations, observer) {{\n",
              "        var display = window.getComputedStyle(gd).display;\n",
              "        if (!display || display === 'none') {{\n",
              "            console.log([gd, 'removed!']);\n",
              "            Plotly.purge(gd);\n",
              "            observer.disconnect();\n",
              "        }}\n",
              "}});\n",
              "\n",
              "// Listen for the removal of the full notebook cells\n",
              "var notebookContainer = gd.closest('#notebook-container');\n",
              "if (notebookContainer) {{\n",
              "    x.observe(notebookContainer, {childList: true});\n",
              "}}\n",
              "\n",
              "// Listen for the clearing of the current output cell\n",
              "var outputEl = gd.closest('.output');\n",
              "if (outputEl) {{\n",
              "    x.observe(outputEl, {childList: true});\n",
              "}}\n",
              "\n",
              "                        })\n",
              "                };\n",
              "                \n",
              "            </script>\n",
              "        </div>\n",
              "</body>\n",
              "</html>"
            ]
          },
          "metadata": {
            "tags": []
          }
        }
      ]
    },
    {
      "cell_type": "markdown",
      "metadata": {
        "id": "-GrhFzJzIQG3"
      },
      "source": [
        "There is perfect multicollinearity between `total_claim_amount` and `vehicle_claim`, `property_claim` and `injury_claim`, which makes sense because `total_claim_amount` is just the sum of the other three. Unfortunately, there is also strong correlations between the three component claim amounts. This is an issue because we believe that there is some value in keeping vehicle, property, and injury claims separate. For example, it is possible that fraud cases might have large values `property_claim` but low values for `injury_claim` because it is easier (and more pleasant) to fake property destruction than it is hospitalization costs from bodily injury. Therefore we will only drop `total_claim_amount` and will just have to deal with the less precise estimates for these other predictors."
      ]
    },
    {
      "cell_type": "markdown",
      "metadata": {
        "id": "nm3U3TyWLtIp"
      },
      "source": [
        "We arrive at a similar tension for the high correlation between `age` and `months_as_customer`. We are interested in both these variables for different reasons – `months_as_customer` becasue presumably if someone is committing multiple counts of insurance fraud, they are doing so with multiple different insurance providers, and hence will not have been customers for very long. Moreover, would not want to pay annual premiums for a long time if they are only a customer to conduct fraud. `age` is interesting becasue it might be that younger age groups are more likely to commit fraud (or crimes in general). However, in this instance, the level of multicollinearity is much higher than in the above case (z > 0.9 here while above 0.5 < z < 0.7). Additionally, `months_as_customer` might capture a lot of the signal that we wish to capture with `age`. Therefore we will drop `age`."
      ]
    },
    {
      "cell_type": "code",
      "metadata": {
        "id": "415S66D7I0od"
      },
      "source": [
        "#Drop total_claim_amount and age\n",
        "data.drop(labels=['total_claim_amount', 'age'], axis = 1, inplace = True)"
      ],
      "execution_count": null,
      "outputs": []
    },
    {
      "cell_type": "markdown",
      "metadata": {
        "id": "HHrVCf8eF9s9"
      },
      "source": [
        "We are now left with 28 predictors out of the original 39."
      ]
    },
    {
      "cell_type": "markdown",
      "metadata": {
        "id": "OS67oJMHw2Oj"
      },
      "source": [
        "## Train/test split"
      ]
    },
    {
      "cell_type": "code",
      "metadata": {
        "id": "ILeRy52u7-LZ"
      },
      "source": [
        "y = data['fraud_reported']\n",
        "X = data.drop('fraud_reported', axis=1)\n",
        "#train/test split of 'default' ratio 80/20, which seems reasonable given n=1000 and p=29\n",
        "X_train, X_test, y_train, y_test = train_test_split(X, y, test_size=0.2, random_state=12345) \n",
        "#random_state seed for replicability"
      ],
      "execution_count": null,
      "outputs": []
    },
    {
      "cell_type": "markdown",
      "metadata": {
        "id": "lQNDXCEExCK1"
      },
      "source": [
        "## Dealing with missing data"
      ]
    },
    {
      "cell_type": "markdown",
      "metadata": {
        "id": "nTEdqxEuwyWI"
      },
      "source": [
        "As mentioned above, `property_damage` and `police_report_available` have missing data. These also are the only predictors that have missing data. As we believe there are _a priori_ reasons for why these predictors might be useful in predicting fraud incidence, we also cannot just drop these predictors."
      ]
    },
    {
      "cell_type": "code",
      "metadata": {
        "colab": {
          "base_uri": "https://localhost:8080/"
        },
        "id": "lBRuzNXnzQhx",
        "outputId": "32388694-bd93-447e-b447-f6634e712f9f"
      },
      "source": [
        "#Checking how many missing values in the property_damage and police_report_available columns\n",
        "data[['property_damage', 'police_report_available']].info()"
      ],
      "execution_count": null,
      "outputs": [
        {
          "output_type": "stream",
          "text": [
            "<class 'pandas.core.frame.DataFrame'>\n",
            "RangeIndex: 1000 entries, 0 to 999\n",
            "Data columns (total 2 columns):\n",
            " #   Column                   Non-Null Count  Dtype  \n",
            "---  ------                   --------------  -----  \n",
            " 0   property_damage          640 non-null    float64\n",
            " 1   police_report_available  657 non-null    float64\n",
            "dtypes: float64(2)\n",
            "memory usage: 15.8 KB\n"
          ],
          "name": "stdout"
        }
      ]
    },
    {
      "cell_type": "markdown",
      "metadata": {
        "id": "G6cpHL-8zowk"
      },
      "source": [
        "With >300 observations having missing values, we also cannot drop the observations with missing values. We address this issue of missing data by single imputation. We believe that multiple imputation is unneccesary because it seems plausible that the data is not missing in a systematic way (MCAR/MAR assumption satisfied) [[6]](https://bmcmedresmethodol.biomedcentral.com/articles/10.1186/s12874-017-0442-1). We acknowledge that this may lead to an underestimation of the variability of certain predictors, and that this should be considered when viewing the results of this report's analysis. As is good statistical practice, we impute the training and testing data seperately to prevent any information leakage from the test data."
      ]
    },
    {
      "cell_type": "code",
      "metadata": {
        "colab": {
          "base_uri": "https://localhost:8080/"
        },
        "id": "E1ucAe0Dz2V3",
        "outputId": "2e49421c-28e1-4d94-ce53-2560f9e30a7c"
      },
      "source": [
        "#Impute's missing value through 'univariate feature imputation'. 'Multivariate feature imputation' is not\n",
        "#available due to the presence of categorial variables in the data.\n",
        "#See [7]https://scikit-learn.org/stable/modules/impute.html#impute for more.\n",
        "\n",
        "\n",
        "s_imputer = SimpleImputer(missing_values=np.nan, strategy='most_frequent') \n",
        "#random_state is to provide a seed for replicability\n",
        "#Training data multivariate feature imputation\n",
        "s_imputer.fit(X_train[['property_damage', 'police_report_available']]);\n",
        "X_train[['property_damage', 'police_report_available']] = s_imputer.transform(X_train[['property_damage', \n",
        "                                                                                       'police_report_available']]);\n",
        "# #Test data multivariate feature imputation\n",
        "s_imputer.fit(X_test[['property_damage', 'police_report_available']]);\n",
        "X_test[['property_damage', 'police_report_available']] = s_imputer.transform(X_test[['property_damage', \n",
        "                                                                                     'police_report_available']]);"
      ],
      "execution_count": null,
      "outputs": [
        {
          "output_type": "stream",
          "text": [
            "/usr/local/lib/python3.7/dist-packages/ipykernel_launcher.py:11: SettingWithCopyWarning:\n",
            "\n",
            "\n",
            "A value is trying to be set on a copy of a slice from a DataFrame.\n",
            "Try using .loc[row_indexer,col_indexer] = value instead\n",
            "\n",
            "See the caveats in the documentation: https://pandas.pydata.org/pandas-docs/stable/user_guide/indexing.html#returning-a-view-versus-a-copy\n",
            "\n",
            "/usr/local/lib/python3.7/dist-packages/pandas/core/indexing.py:1734: SettingWithCopyWarning:\n",
            "\n",
            "\n",
            "A value is trying to be set on a copy of a slice from a DataFrame.\n",
            "Try using .loc[row_indexer,col_indexer] = value instead\n",
            "\n",
            "See the caveats in the documentation: https://pandas.pydata.org/pandas-docs/stable/user_guide/indexing.html#returning-a-view-versus-a-copy\n",
            "\n",
            "/usr/local/lib/python3.7/dist-packages/ipykernel_launcher.py:15: SettingWithCopyWarning:\n",
            "\n",
            "\n",
            "A value is trying to be set on a copy of a slice from a DataFrame.\n",
            "Try using .loc[row_indexer,col_indexer] = value instead\n",
            "\n",
            "See the caveats in the documentation: https://pandas.pydata.org/pandas-docs/stable/user_guide/indexing.html#returning-a-view-versus-a-copy\n",
            "\n",
            "/usr/local/lib/python3.7/dist-packages/pandas/core/indexing.py:1734: SettingWithCopyWarning:\n",
            "\n",
            "\n",
            "A value is trying to be set on a copy of a slice from a DataFrame.\n",
            "Try using .loc[row_indexer,col_indexer] = value instead\n",
            "\n",
            "See the caveats in the documentation: https://pandas.pydata.org/pandas-docs/stable/user_guide/indexing.html#returning-a-view-versus-a-copy\n",
            "\n"
          ],
          "name": "stderr"
        }
      ]
    },
    {
      "cell_type": "code",
      "metadata": {
        "colab": {
          "base_uri": "https://localhost:8080/"
        },
        "id": "Cp-niNsvQFcy",
        "outputId": "e98208c9-d946-4323-9117-01c6ae8c9818"
      },
      "source": [
        "#Looks good\n",
        "X_train[['property_damage','police_report_available']].info()"
      ],
      "execution_count": null,
      "outputs": [
        {
          "output_type": "stream",
          "text": [
            "<class 'pandas.core.frame.DataFrame'>\n",
            "Int64Index: 800 entries, 839 to 482\n",
            "Data columns (total 2 columns):\n",
            " #   Column                   Non-Null Count  Dtype  \n",
            "---  ------                   --------------  -----  \n",
            " 0   property_damage          800 non-null    float64\n",
            " 1   police_report_available  800 non-null    float64\n",
            "dtypes: float64(2)\n",
            "memory usage: 18.8 KB\n"
          ],
          "name": "stdout"
        }
      ]
    },
    {
      "cell_type": "markdown",
      "metadata": {
        "id": "i-WH9smPAxTm"
      },
      "source": [
        "## Scaling the data"
      ]
    },
    {
      "cell_type": "markdown",
      "metadata": {
        "id": "fkiZLilaQgrZ"
      },
      "source": [
        "Feature scaling is important since we will later be using models that is sensitive to the scale of the data (e.g. penalized logistic regression). Moreover, it will help speed up the convergence of our gradient descent algorithm [[8]](https://towardsdatascience.com/all-about-feature-scaling-bcc0ad75cb35). We will standardise using the Standard Scaler, $ z = {x-\\mu\\over \\hat\\sigma}$. As in the earlier section, we will avoid using the test data when calculating $\\mu$ and $\\hat\\sigma$ to prevent information leakage."
      ]
    },
    {
      "cell_type": "code",
      "metadata": {
        "id": "NWyJy43eTXtL"
      },
      "source": [
        "scaler = StandardScaler()\n",
        "#Temporarily drop categorical variables so that we can scale the rest of the variables\n",
        "X_train_copy = X_train.select_dtypes(exclude='object')\n",
        "X_test_copy = X_test.select_dtypes(exclude='object')\n",
        "#Standardize data\n",
        "scaler = scaler.fit(X_train_copy)\n",
        "scaled_X_train = scaler.transform(X_train_copy)\n",
        "scaled_X_test = scaler.transform(X_test_copy) #Note we use train parameters to scale test data\n",
        "#Convert scaled data back to a pandas dataframe\n",
        "scaled_X_train = pd.DataFrame(scaled_X_train, index=X_train_copy.index, columns=X_train_copy.columns)\n",
        "scaled_X_test = pd.DataFrame(scaled_X_test, index = X_test_copy.index, columns=X_test_copy.columns)\n",
        "#Recombine data i.e. paste categorical variables to the right of the now standardized numeric variables\n",
        "X_train = pd.concat([scaled_X_train, X_train.select_dtypes(include='object')], axis=1)\n",
        "X_test =  pd.concat([scaled_X_test, X_test.select_dtypes(include='object')], axis=1)"
      ],
      "execution_count": null,
      "outputs": []
    },
    {
      "cell_type": "markdown",
      "metadata": {
        "id": "Fk35eOvYxHKk"
      },
      "source": [
        "## Checking for imbalanced classes"
      ]
    },
    {
      "cell_type": "code",
      "metadata": {
        "colab": {
          "base_uri": "https://localhost:8080/",
          "height": 302
        },
        "id": "jPWEirOoTQJn",
        "outputId": "47886137-78a2-4994-c382-2550cd63f976"
      },
      "source": [
        "sns.countplot(x='fraud_reported', data = data)"
      ],
      "execution_count": null,
      "outputs": [
        {
          "output_type": "execute_result",
          "data": {
            "text/plain": [
              "<matplotlib.axes._subplots.AxesSubplot at 0x7f53169bb610>"
            ]
          },
          "metadata": {
            "tags": []
          },
          "execution_count": 15
        },
        {
          "output_type": "display_data",
          "data": {
            "image/png": "[encoded data removed]",
            "text/plain": [
              "<Figure size 432x288 with 1 Axes>"
            ]
          },
          "metadata": {
            "tags": []
          }
        }
      ]
    },
    {
      "cell_type": "markdown",
      "metadata": {
        "id": "7OnydWBUnE9i"
      },
      "source": [
        "It seems our classes are quite imbalanced, as is usually the case in fraud detection tasks. This has multiple important implications for our analysis. Firstly, it implies that accuracy is not the best metric to assess model performance. Instead we can use ROC/AUC as a performance metric because it considers both the sensitivity and the specificity of the model. <br><br>\n",
        "Most classification models seek to maximise accuracy, and hence work best when the classes are relatively balanced. One common technique in the precense of imbalanced classes is to randomly discard data from the majority class until the classes are relatively balanced. However, this is most useful with very large datasets, which we do not have here. In fact, our training dataset of n = 800 and p = 28 is already on the smaller side. Discarding data would lead to our dataset to be problematically small. Instead we will use an over-sampling technique to balance our classes. Specifically, we will use the Synthetic Minority Over-sampling Technique (SMOTE). This works by looking at an observation in the minority class and then generating new samples through interpolation. SMOTE uses KNN to ensure that these new samples are relatively similar to the original data in the feature space [[9]](https://imbalanced-learn.org/stable/over_sampling.html#smote-adasyn). One of the downsides of SMOTE is that new samples are created without considering the majority class, which can raise issues if there is a large overlap between the majority and minority classes in the feature space [[10]](https://machinelearningmastery.com/smote-oversampling-for-imbalanced-classification/). It is recommended that oversampling the minority class followed by undersampling the majority class outperforms only oversampling [[11]](https://arxiv.org/abs/1106.1813). We only apply SMOTE and undersampling to the training set to avoid information leakage."
      ]
    },
    {
      "cell_type": "code",
      "metadata": {
        "colab": {
          "base_uri": "https://localhost:8080/"
        },
        "id": "wDJXelMZKH8n",
        "outputId": "3d3fa581-457c-40bf-ab7c-59bbfdc0d945"
      },
      "source": [
        "#SMOTENC is a version of smote that works on both numeric and categorical features\n",
        "over = SMOTENC(random_state=12345, categorical_features=[16, 17, 18, 19, 20, 21, \n",
        "                                                         22, 23, 24, 25, 26, 27], sampling_strategy = 0.668)\n",
        "#random_seed for replicability\n",
        "#last 12 columns of the dataset are categorical\n",
        "#sampling_strategy specifies that new minority/majority ratio is 0.668 \n",
        "#sampling_strategy chosen such that final training set size after balancing classes is n=800 – same as original size \n",
        "X_train_smote, y_train_smote = over.fit_resample(X_train, y_train)\n",
        "\n",
        "under = RandomUnderSampler(random_state=12345)\n",
        "#random_seed for replicability\n",
        "#default sampling_strategy means that new minority/majority ratio is 1, i.e. perfectly balanced classes\n",
        "X_train_smote, y_train_smote = under.fit_resample(X_train_smote, y_train_smote)"
      ],
      "execution_count": null,
      "outputs": [
        {
          "output_type": "stream",
          "text": [
            "/usr/local/lib/python3.7/dist-packages/sklearn/utils/deprecation.py:87: FutureWarning:\n",
            "\n",
            "Function safe_indexing is deprecated; safe_indexing is deprecated in version 0.22 and will be removed in version 0.24.\n",
            "\n",
            "/usr/local/lib/python3.7/dist-packages/sklearn/utils/deprecation.py:87: FutureWarning:\n",
            "\n",
            "Function safe_indexing is deprecated; safe_indexing is deprecated in version 0.22 and will be removed in version 0.24.\n",
            "\n",
            "/usr/local/lib/python3.7/dist-packages/sklearn/utils/deprecation.py:87: FutureWarning:\n",
            "\n",
            "Function safe_indexing is deprecated; safe_indexing is deprecated in version 0.22 and will be removed in version 0.24.\n",
            "\n"
          ],
          "name": "stderr"
        }
      ]
    },
    {
      "cell_type": "code",
      "metadata": {
        "colab": {
          "base_uri": "https://localhost:8080/"
        },
        "id": "jHtqTl3ogBiv",
        "outputId": "63e956da-7d04-42d6-bf33-5e55d5bdd7a7"
      },
      "source": [
        "#We need to convert data back to DataFrame format\n",
        "X_train = pd.DataFrame(data=X_train_smote, index=X_train.index, columns=X_train.columns)\n",
        "X_train = X_train.infer_objects() #infer best data type\n",
        "X_train.info() #looks good\n",
        "#No need to convert y_train since it just a 1D array\n",
        "y_train = y_train_smote"
      ],
      "execution_count": null,
      "outputs": [
        {
          "output_type": "stream",
          "text": [
            "<class 'pandas.core.frame.DataFrame'>\n",
            "Int64Index: 800 entries, 839 to 482\n",
            "Data columns (total 28 columns):\n",
            " #   Column                       Non-Null Count  Dtype  \n",
            "---  ------                       --------------  -----  \n",
            " 0   months_as_customer           800 non-null    float64\n",
            " 1   policy_bind_date             800 non-null    float64\n",
            " 2   policy_deductable            800 non-null    float64\n",
            " 3   policy_annual_premium        800 non-null    float64\n",
            " 4   umbrella_limit               800 non-null    float64\n",
            " 5   incident_date                800 non-null    float64\n",
            " 6   incident_hour_of_the_day     800 non-null    float64\n",
            " 7   number_of_vehicles_involved  800 non-null    float64\n",
            " 8   property_damage              800 non-null    float64\n",
            " 9   bodily_injuries              800 non-null    float64\n",
            " 10  witnesses                    800 non-null    float64\n",
            " 11  police_report_available      800 non-null    float64\n",
            " 12  injury_claim                 800 non-null    float64\n",
            " 13  property_claim               800 non-null    float64\n",
            " 14  vehicle_claim                800 non-null    float64\n",
            " 15  auto_year                    800 non-null    float64\n",
            " 16  policy_state                 800 non-null    object \n",
            " 17  policy_csl                   800 non-null    object \n",
            " 18  insured_sex                  800 non-null    object \n",
            " 19  insured_education_level      800 non-null    object \n",
            " 20  insured_occupation           800 non-null    object \n",
            " 21  insured_relationship         800 non-null    object \n",
            " 22  incident_type                800 non-null    object \n",
            " 23  collision_type               800 non-null    object \n",
            " 24  incident_severity            800 non-null    object \n",
            " 25  authorities_contacted        800 non-null    object \n",
            " 26  incident_state               800 non-null    object \n",
            " 27  auto_make                    800 non-null    object \n",
            "dtypes: float64(16), object(12)\n",
            "memory usage: 181.2+ KB\n"
          ],
          "name": "stdout"
        }
      ]
    },
    {
      "cell_type": "code",
      "metadata": {
        "colab": {
          "base_uri": "https://localhost:8080/",
          "height": 302
        },
        "id": "lo1tHP6xNDwo",
        "outputId": "a9acc45f-371b-4ed9-978e-77d8f1d45766"
      },
      "source": [
        "print(y_train.size)\n",
        "sns.countplot(x=y_train)\n",
        "#Equal class representation, 'new' n = 800."
      ],
      "execution_count": null,
      "outputs": [
        {
          "output_type": "stream",
          "text": [
            "800\n"
          ],
          "name": "stdout"
        },
        {
          "output_type": "execute_result",
          "data": {
            "text/plain": [
              "<matplotlib.axes._subplots.AxesSubplot at 0x7f53164ac890>"
            ]
          },
          "metadata": {
            "tags": []
          },
          "execution_count": 18
        },
        {
          "output_type": "display_data",
          "data": {
            "image/png": "[encoded data removed]",
            "text/plain": [
              "<Figure size 432x288 with 1 Axes>"
            ]
          },
          "metadata": {
            "tags": []
          }
        }
      ]
    },
    {
      "cell_type": "markdown",
      "metadata": {
        "id": "7piC-9LEa2rU"
      },
      "source": [
        "## Encoding categorical variables"
      ]
    },
    {
      "cell_type": "markdown",
      "metadata": {
        "id": "BV88EkxKa3hE"
      },
      "source": [
        "Our dataset contains both numeric (p=16) and categorical predictors (p=12). We use one-hot (dummy variable) encoding (as opposed to ordinal encoding) in order to avoid models interpreting the encoded categorical variables as ordered when in reality the ordering is arbitrary (e.g. for `policy_state`)."
      ]
    },
    {
      "cell_type": "code",
      "metadata": {
        "colab": {
          "base_uri": "https://localhost:8080/"
        },
        "id": "ACB5JUdZdsM-",
        "outputId": "0c2d2ddf-1d8e-4636-f494-903bfcb744ae"
      },
      "source": [
        "cat_columns = list(X_train.select_dtypes(include='object').columns)\n",
        "#extract categorical column labels – recall from 'Cleaning predictors' all categorical variables have dtype 'object'\n",
        "X_train = pd.get_dummies(X_train, columns = cat_columns, prefix = cat_columns)\n",
        "X_test = pd.get_dummies(X_test, columns = cat_columns, prefix = cat_columns)\n",
        "X_train.shape"
      ],
      "execution_count": null,
      "outputs": [
        {
          "output_type": "execute_result",
          "data": {
            "text/plain": [
              "(800, 89)"
            ]
          },
          "metadata": {
            "tags": []
          },
          "execution_count": 19
        }
      ]
    },
    {
      "cell_type": "markdown",
      "metadata": {
        "id": "1uMqg4oKmK0P"
      },
      "source": [
        "Unfortunately, one hot encoding brings its own disadvantages. While previously we had n=800 and p=28, now we have n=800 and p=89 – relatively high-dimensional data, bringing the issue of the curse of dimensionality to the fore. This issue can be addressed by combining models with methods like the lasso, which performs both feature selection and regularization. <br><br> \n",
        "Note we perform our encoding after SMOTE because SMOTE relies on nearest neighbors logic when oversampling. This is also why we scale the data once before encoding and once afterwards."
      ]
    },
    {
      "cell_type": "code",
      "metadata": {
        "colab": {
          "base_uri": "https://localhost:8080/",
          "height": 456
        },
        "id": "qzWXPSAKpM_2",
        "outputId": "f961edee-f1bb-42a7-9db3-fedb34971fc3"
      },
      "source": [
        "#Restandardize X_train_onehot since now some variables are standardized and some are not.\n",
        "#We still had to previously standardize for the purposes of good SMOTENC\n",
        "scaler = StandardScaler()\n",
        "#Standardize data\n",
        "scaler = scaler.fit(X_train)\n",
        "scaled_X_train = scaler.transform(X_train)\n",
        "scaled_X_test = scaler.transform(X_test) #Note we use train parameters to scale test data\n",
        "#Convert scaled data back to a pandas dataframe\n",
        "scaled_X_train = pd.DataFrame(scaled_X_train, index=X_train.index, columns=X_train.columns)\n",
        "scaled_X_test = pd.DataFrame(scaled_X_test, index = X_test.index, columns=X_test.columns)\n",
        "#Recombine data i.e. paste categorical variables to the right of the now standardized numeric variables\n",
        "X_train = pd.concat([scaled_X_train, X_train.select_dtypes(include='object')], axis=1)\n",
        "X_test =  pd.concat([scaled_X_test, X_test.select_dtypes(include='object')], axis=1)\n",
        "X_train"
      ],
      "execution_count": null,
      "outputs": [
        {
          "output_type": "execute_result",
          "data": {
            "text/html": [
              "<div>\n",
              "<style scoped>\n",
              "    .dataframe tbody tr th:only-of-type {\n",
              "        vertical-align: middle;\n",
              "    }\n",
              "\n",
              "    .dataframe tbody tr th {\n",
              "        vertical-align: top;\n",
              "    }\n",
              "\n",
              "    .dataframe thead th {\n",
              "        text-align: right;\n",
              "    }\n",
              "</style>\n",
              "<table border=\"1\" class=\"dataframe\">\n",
              "  <thead>\n",
              "    <tr style=\"text-align: right;\">\n",
              "      <th></th>\n",
              "      <th>months_as_customer</th>\n",
              "      <th>policy_bind_date</th>\n",
              "      <th>policy_deductable</th>\n",
              "      <th>policy_annual_premium</th>\n",
              "      <th>umbrella_limit</th>\n",
              "      <th>incident_date</th>\n",
              "      <th>incident_hour_of_the_day</th>\n",
              "      <th>number_of_vehicles_involved</th>\n",
              "      <th>property_damage</th>\n",
              "      <th>bodily_injuries</th>\n",
              "      <th>witnesses</th>\n",
              "      <th>police_report_available</th>\n",
              "      <th>injury_claim</th>\n",
              "      <th>property_claim</th>\n",
              "      <th>vehicle_claim</th>\n",
              "      <th>auto_year</th>\n",
              "      <th>policy_state_IL</th>\n",
              "      <th>policy_state_IN</th>\n",
              "      <th>policy_state_OH</th>\n",
              "      <th>policy_csl_100/300</th>\n",
              "      <th>policy_csl_250/500</th>\n",
              "      <th>policy_csl_500/1000</th>\n",
              "      <th>insured_sex_FEMALE</th>\n",
              "      <th>insured_sex_MALE</th>\n",
              "      <th>insured_education_level_Associate</th>\n",
              "      <th>insured_education_level_College</th>\n",
              "      <th>insured_education_level_High School</th>\n",
              "      <th>insured_education_level_JD</th>\n",
              "      <th>insured_education_level_MD</th>\n",
              "      <th>insured_education_level_Masters</th>\n",
              "      <th>insured_education_level_PhD</th>\n",
              "      <th>insured_occupation_adm-clerical</th>\n",
              "      <th>insured_occupation_armed-forces</th>\n",
              "      <th>insured_occupation_craft-repair</th>\n",
              "      <th>insured_occupation_exec-managerial</th>\n",
              "      <th>insured_occupation_farming-fishing</th>\n",
              "      <th>insured_occupation_handlers-cleaners</th>\n",
              "      <th>insured_occupation_machine-op-inspct</th>\n",
              "      <th>insured_occupation_other-service</th>\n",
              "      <th>insured_occupation_priv-house-serv</th>\n",
              "      <th>...</th>\n",
              "      <th>insured_relationship_unmarried</th>\n",
              "      <th>insured_relationship_wife</th>\n",
              "      <th>incident_type_Multi-vehicle Collision</th>\n",
              "      <th>incident_type_Parked Car</th>\n",
              "      <th>incident_type_Single Vehicle Collision</th>\n",
              "      <th>incident_type_Vehicle Theft</th>\n",
              "      <th>collision_type_?</th>\n",
              "      <th>collision_type_Front Collision</th>\n",
              "      <th>collision_type_Rear Collision</th>\n",
              "      <th>collision_type_Side Collision</th>\n",
              "      <th>incident_severity_Major Damage</th>\n",
              "      <th>incident_severity_Minor Damage</th>\n",
              "      <th>incident_severity_Total Loss</th>\n",
              "      <th>incident_severity_Trivial Damage</th>\n",
              "      <th>authorities_contacted_Ambulance</th>\n",
              "      <th>authorities_contacted_Fire</th>\n",
              "      <th>authorities_contacted_None</th>\n",
              "      <th>authorities_contacted_Other</th>\n",
              "      <th>authorities_contacted_Police</th>\n",
              "      <th>incident_state_NC</th>\n",
              "      <th>incident_state_NY</th>\n",
              "      <th>incident_state_OH</th>\n",
              "      <th>incident_state_PA</th>\n",
              "      <th>incident_state_SC</th>\n",
              "      <th>incident_state_VA</th>\n",
              "      <th>incident_state_WV</th>\n",
              "      <th>auto_make_Accura</th>\n",
              "      <th>auto_make_Audi</th>\n",
              "      <th>auto_make_BMW</th>\n",
              "      <th>auto_make_Chevrolet</th>\n",
              "      <th>auto_make_Dodge</th>\n",
              "      <th>auto_make_Ford</th>\n",
              "      <th>auto_make_Honda</th>\n",
              "      <th>auto_make_Jeep</th>\n",
              "      <th>auto_make_Mercedes</th>\n",
              "      <th>auto_make_Nissan</th>\n",
              "      <th>auto_make_Saab</th>\n",
              "      <th>auto_make_Suburu</th>\n",
              "      <th>auto_make_Toyota</th>\n",
              "      <th>auto_make_Volkswagen</th>\n",
              "    </tr>\n",
              "  </thead>\n",
              "  <tbody>\n",
              "    <tr>\n",
              "      <th>839</th>\n",
              "      <td>-0.764528</td>\n",
              "      <td>-1.383988</td>\n",
              "      <td>1.389903</td>\n",
              "      <td>-0.191667</td>\n",
              "      <td>-0.496203</td>\n",
              "      <td>1.850114</td>\n",
              "      <td>1.521277</td>\n",
              "      <td>0.143747</td>\n",
              "      <td>-0.639646</td>\n",
              "      <td>-0.031958</td>\n",
              "      <td>-1.420850</td>\n",
              "      <td>-0.695979</td>\n",
              "      <td>-0.081324</td>\n",
              "      <td>1.501639</td>\n",
              "      <td>0.717090</td>\n",
              "      <td>-1.371946</td>\n",
              "      <td>-0.774597</td>\n",
              "      <td>1.574249</td>\n",
              "      <td>-0.713746</td>\n",
              "      <td>-0.752036</td>\n",
              "      <td>-0.729772</td>\n",
              "      <td>1.559960</td>\n",
              "      <td>0.965592</td>\n",
              "      <td>-0.965592</td>\n",
              "      <td>-0.377964</td>\n",
              "      <td>-0.384417</td>\n",
              "      <td>2.368875</td>\n",
              "      <td>-0.454573</td>\n",
              "      <td>-0.407653</td>\n",
              "      <td>-0.399275</td>\n",
              "      <td>-0.409736</td>\n",
              "      <td>-0.220211</td>\n",
              "      <td>-0.249834</td>\n",
              "      <td>-0.284747</td>\n",
              "      <td>-0.321634</td>\n",
              "      <td>-0.263664</td>\n",
              "      <td>4.048618</td>\n",
              "      <td>-0.321634</td>\n",
              "      <td>-0.297381</td>\n",
              "      <td>-0.244137</td>\n",
              "      <td>...</td>\n",
              "      <td>-0.362687</td>\n",
              "      <td>-0.426244</td>\n",
              "      <td>1.178159</td>\n",
              "      <td>-0.241249</td>\n",
              "      <td>-0.909112</td>\n",
              "      <td>-0.282174</td>\n",
              "      <td>-0.397168</td>\n",
              "      <td>1.798000</td>\n",
              "      <td>-0.707770</td>\n",
              "      <td>-0.644926</td>\n",
              "      <td>1.136778</td>\n",
              "      <td>-0.637162</td>\n",
              "      <td>-0.525278</td>\n",
              "      <td>-0.249834</td>\n",
              "      <td>1.889822</td>\n",
              "      <td>-0.507801</td>\n",
              "      <td>-0.274352</td>\n",
              "      <td>-0.598527</td>\n",
              "      <td>-0.565802</td>\n",
              "      <td>-0.344791</td>\n",
              "      <td>-0.60238</td>\n",
              "      <td>-0.142857</td>\n",
              "      <td>-0.123404</td>\n",
              "      <td>-0.672239</td>\n",
              "      <td>-0.321634</td>\n",
              "      <td>2.081666</td>\n",
              "      <td>-0.238334</td>\n",
              "      <td>-0.289846</td>\n",
              "      <td>-0.307232</td>\n",
              "      <td>-0.276977</td>\n",
              "      <td>-0.347056</td>\n",
              "      <td>-0.326344</td>\n",
              "      <td>-0.229416</td>\n",
              "      <td>-0.220211</td>\n",
              "      <td>-0.269047</td>\n",
              "      <td>-0.302333</td>\n",
              "      <td>-0.276977</td>\n",
              "      <td>-0.241249</td>\n",
              "      <td>-0.226381</td>\n",
              "      <td>3.280961</td>\n",
              "    </tr>\n",
              "    <tr>\n",
              "      <th>195</th>\n",
              "      <td>-1.574057</td>\n",
              "      <td>-1.303932</td>\n",
              "      <td>-0.252394</td>\n",
              "      <td>-0.750129</td>\n",
              "      <td>-0.496203</td>\n",
              "      <td>0.879337</td>\n",
              "      <td>-1.125680</td>\n",
              "      <td>-0.832961</td>\n",
              "      <td>-0.639646</td>\n",
              "      <td>1.197183</td>\n",
              "      <td>-1.420850</td>\n",
              "      <td>-0.695979</td>\n",
              "      <td>-1.621141</td>\n",
              "      <td>-1.601960</td>\n",
              "      <td>-2.190251</td>\n",
              "      <td>1.231534</td>\n",
              "      <td>-0.774597</td>\n",
              "      <td>-0.635223</td>\n",
              "      <td>1.401058</td>\n",
              "      <td>-0.752036</td>\n",
              "      <td>-0.729772</td>\n",
              "      <td>1.559960</td>\n",
              "      <td>-1.035635</td>\n",
              "      <td>1.035635</td>\n",
              "      <td>-0.377964</td>\n",
              "      <td>-0.384417</td>\n",
              "      <td>-0.422141</td>\n",
              "      <td>-0.454573</td>\n",
              "      <td>2.453068</td>\n",
              "      <td>-0.399275</td>\n",
              "      <td>-0.409736</td>\n",
              "      <td>-0.220211</td>\n",
              "      <td>-0.249834</td>\n",
              "      <td>-0.284747</td>\n",
              "      <td>-0.321634</td>\n",
              "      <td>-0.263664</td>\n",
              "      <td>-0.246998</td>\n",
              "      <td>-0.321634</td>\n",
              "      <td>-0.297381</td>\n",
              "      <td>-0.244137</td>\n",
              "      <td>...</td>\n",
              "      <td>-0.362687</td>\n",
              "      <td>2.346074</td>\n",
              "      <td>-0.848782</td>\n",
              "      <td>4.145096</td>\n",
              "      <td>-0.909112</td>\n",
              "      <td>-0.282174</td>\n",
              "      <td>2.517826</td>\n",
              "      <td>-0.556174</td>\n",
              "      <td>-0.707770</td>\n",
              "      <td>-0.644926</td>\n",
              "      <td>-0.879679</td>\n",
              "      <td>-0.637162</td>\n",
              "      <td>-0.525278</td>\n",
              "      <td>4.002659</td>\n",
              "      <td>-0.529150</td>\n",
              "      <td>-0.507801</td>\n",
              "      <td>-0.274352</td>\n",
              "      <td>-0.598527</td>\n",
              "      <td>1.767402</td>\n",
              "      <td>-0.344791</td>\n",
              "      <td>-0.60238</td>\n",
              "      <td>-0.142857</td>\n",
              "      <td>-0.123404</td>\n",
              "      <td>-0.672239</td>\n",
              "      <td>-0.321634</td>\n",
              "      <td>2.081666</td>\n",
              "      <td>-0.238334</td>\n",
              "      <td>-0.289846</td>\n",
              "      <td>-0.307232</td>\n",
              "      <td>-0.276977</td>\n",
              "      <td>-0.347056</td>\n",
              "      <td>-0.326344</td>\n",
              "      <td>-0.229416</td>\n",
              "      <td>4.541104</td>\n",
              "      <td>-0.269047</td>\n",
              "      <td>-0.302333</td>\n",
              "      <td>-0.276977</td>\n",
              "      <td>-0.241249</td>\n",
              "      <td>-0.226381</td>\n",
              "      <td>-0.304789</td>\n",
              "    </tr>\n",
              "    <tr>\n",
              "      <th>581</th>\n",
              "      <td>0.721090</td>\n",
              "      <td>1.712017</td>\n",
              "      <td>-0.252394</td>\n",
              "      <td>0.772499</td>\n",
              "      <td>-0.496203</td>\n",
              "      <td>-0.334135</td>\n",
              "      <td>1.668330</td>\n",
              "      <td>-0.832961</td>\n",
              "      <td>1.605653</td>\n",
              "      <td>1.197183</td>\n",
              "      <td>1.387481</td>\n",
              "      <td>-0.695979</td>\n",
              "      <td>2.256918</td>\n",
              "      <td>2.198014</td>\n",
              "      <td>1.913126</td>\n",
              "      <td>1.752230</td>\n",
              "      <td>1.290994</td>\n",
              "      <td>-0.635223</td>\n",
              "      <td>-0.713746</td>\n",
              "      <td>1.329724</td>\n",
              "      <td>-0.729772</td>\n",
              "      <td>-0.641042</td>\n",
              "      <td>0.965592</td>\n",
              "      <td>-0.965592</td>\n",
              "      <td>-0.377964</td>\n",
              "      <td>-0.384417</td>\n",
              "      <td>-0.422141</td>\n",
              "      <td>-0.454573</td>\n",
              "      <td>-0.407653</td>\n",
              "      <td>-0.399275</td>\n",
              "      <td>2.440599</td>\n",
              "      <td>-0.220211</td>\n",
              "      <td>-0.249834</td>\n",
              "      <td>-0.284747</td>\n",
              "      <td>-0.321634</td>\n",
              "      <td>-0.263664</td>\n",
              "      <td>-0.246998</td>\n",
              "      <td>-0.321634</td>\n",
              "      <td>-0.297381</td>\n",
              "      <td>-0.244137</td>\n",
              "      <td>...</td>\n",
              "      <td>-0.362687</td>\n",
              "      <td>2.346074</td>\n",
              "      <td>-0.848782</td>\n",
              "      <td>-0.241249</td>\n",
              "      <td>1.099975</td>\n",
              "      <td>-0.282174</td>\n",
              "      <td>-0.397168</td>\n",
              "      <td>-0.556174</td>\n",
              "      <td>1.412889</td>\n",
              "      <td>-0.644926</td>\n",
              "      <td>1.136778</td>\n",
              "      <td>-0.637162</td>\n",
              "      <td>-0.525278</td>\n",
              "      <td>-0.249834</td>\n",
              "      <td>-0.529150</td>\n",
              "      <td>1.969276</td>\n",
              "      <td>-0.274352</td>\n",
              "      <td>-0.598527</td>\n",
              "      <td>-0.565802</td>\n",
              "      <td>-0.344791</td>\n",
              "      <td>-0.60238</td>\n",
              "      <td>-0.142857</td>\n",
              "      <td>-0.123404</td>\n",
              "      <td>1.487566</td>\n",
              "      <td>-0.321634</td>\n",
              "      <td>-0.480384</td>\n",
              "      <td>-0.238334</td>\n",
              "      <td>-0.289846</td>\n",
              "      <td>-0.307232</td>\n",
              "      <td>-0.276977</td>\n",
              "      <td>-0.347056</td>\n",
              "      <td>-0.326344</td>\n",
              "      <td>-0.229416</td>\n",
              "      <td>-0.220211</td>\n",
              "      <td>-0.269047</td>\n",
              "      <td>-0.302333</td>\n",
              "      <td>-0.276977</td>\n",
              "      <td>-0.241249</td>\n",
              "      <td>-0.226381</td>\n",
              "      <td>3.280961</td>\n",
              "    </tr>\n",
              "    <tr>\n",
              "      <th>695</th>\n",
              "      <td>0.756674</td>\n",
              "      <td>-0.317090</td>\n",
              "      <td>1.389903</td>\n",
              "      <td>-0.633217</td>\n",
              "      <td>-0.496203</td>\n",
              "      <td>0.090580</td>\n",
              "      <td>0.491905</td>\n",
              "      <td>-0.832961</td>\n",
              "      <td>-0.639646</td>\n",
              "      <td>-0.031958</td>\n",
              "      <td>-1.420850</td>\n",
              "      <td>1.481260</td>\n",
              "      <td>-0.392797</td>\n",
              "      <td>-0.398348</td>\n",
              "      <td>0.133744</td>\n",
              "      <td>-1.545512</td>\n",
              "      <td>-0.774597</td>\n",
              "      <td>-0.635223</td>\n",
              "      <td>1.401058</td>\n",
              "      <td>-0.752036</td>\n",
              "      <td>-0.729772</td>\n",
              "      <td>1.559960</td>\n",
              "      <td>0.965592</td>\n",
              "      <td>-0.965592</td>\n",
              "      <td>2.645751</td>\n",
              "      <td>-0.384417</td>\n",
              "      <td>-0.422141</td>\n",
              "      <td>-0.454573</td>\n",
              "      <td>-0.407653</td>\n",
              "      <td>-0.399275</td>\n",
              "      <td>-0.409736</td>\n",
              "      <td>4.541104</td>\n",
              "      <td>-0.249834</td>\n",
              "      <td>-0.284747</td>\n",
              "      <td>-0.321634</td>\n",
              "      <td>-0.263664</td>\n",
              "      <td>-0.246998</td>\n",
              "      <td>-0.321634</td>\n",
              "      <td>-0.297381</td>\n",
              "      <td>-0.244137</td>\n",
              "      <td>...</td>\n",
              "      <td>-0.362687</td>\n",
              "      <td>-0.426244</td>\n",
              "      <td>-0.848782</td>\n",
              "      <td>-0.241249</td>\n",
              "      <td>1.099975</td>\n",
              "      <td>-0.282174</td>\n",
              "      <td>-0.397168</td>\n",
              "      <td>1.798000</td>\n",
              "      <td>-0.707770</td>\n",
              "      <td>-0.644926</td>\n",
              "      <td>-0.879679</td>\n",
              "      <td>1.569460</td>\n",
              "      <td>-0.525278</td>\n",
              "      <td>-0.249834</td>\n",
              "      <td>1.889822</td>\n",
              "      <td>-0.507801</td>\n",
              "      <td>-0.274352</td>\n",
              "      <td>-0.598527</td>\n",
              "      <td>-0.565802</td>\n",
              "      <td>-0.344791</td>\n",
              "      <td>-0.60238</td>\n",
              "      <td>-0.142857</td>\n",
              "      <td>-0.123404</td>\n",
              "      <td>-0.672239</td>\n",
              "      <td>3.109126</td>\n",
              "      <td>-0.480384</td>\n",
              "      <td>-0.238334</td>\n",
              "      <td>-0.289846</td>\n",
              "      <td>-0.307232</td>\n",
              "      <td>-0.276977</td>\n",
              "      <td>-0.347056</td>\n",
              "      <td>-0.326344</td>\n",
              "      <td>-0.229416</td>\n",
              "      <td>-0.220211</td>\n",
              "      <td>-0.269047</td>\n",
              "      <td>-0.302333</td>\n",
              "      <td>-0.276977</td>\n",
              "      <td>-0.241249</td>\n",
              "      <td>4.417332</td>\n",
              "      <td>-0.304789</td>\n",
              "    </tr>\n",
              "    <tr>\n",
              "      <th>35</th>\n",
              "      <td>-1.485098</td>\n",
              "      <td>0.187877</td>\n",
              "      <td>-0.252394</td>\n",
              "      <td>-0.133631</td>\n",
              "      <td>-0.496203</td>\n",
              "      <td>-0.334135</td>\n",
              "      <td>-1.125680</td>\n",
              "      <td>1.120455</td>\n",
              "      <td>1.605653</td>\n",
              "      <td>-1.261099</td>\n",
              "      <td>-1.420850</td>\n",
              "      <td>1.481260</td>\n",
              "      <td>-0.465181</td>\n",
              "      <td>0.749381</td>\n",
              "      <td>-0.334576</td>\n",
              "      <td>-1.545512</td>\n",
              "      <td>-0.774597</td>\n",
              "      <td>-0.635223</td>\n",
              "      <td>1.401058</td>\n",
              "      <td>1.329724</td>\n",
              "      <td>-0.729772</td>\n",
              "      <td>-0.641042</td>\n",
              "      <td>0.965592</td>\n",
              "      <td>-0.965592</td>\n",
              "      <td>-0.377964</td>\n",
              "      <td>-0.384417</td>\n",
              "      <td>-0.422141</td>\n",
              "      <td>-0.454573</td>\n",
              "      <td>-0.407653</td>\n",
              "      <td>2.504541</td>\n",
              "      <td>-0.409736</td>\n",
              "      <td>-0.220211</td>\n",
              "      <td>-0.249834</td>\n",
              "      <td>-0.284747</td>\n",
              "      <td>-0.321634</td>\n",
              "      <td>-0.263664</td>\n",
              "      <td>-0.246998</td>\n",
              "      <td>-0.321634</td>\n",
              "      <td>-0.297381</td>\n",
              "      <td>-0.244137</td>\n",
              "      <td>...</td>\n",
              "      <td>-0.362687</td>\n",
              "      <td>-0.426244</td>\n",
              "      <td>1.178159</td>\n",
              "      <td>-0.241249</td>\n",
              "      <td>-0.909112</td>\n",
              "      <td>-0.282174</td>\n",
              "      <td>-0.397168</td>\n",
              "      <td>-0.556174</td>\n",
              "      <td>1.412889</td>\n",
              "      <td>-0.644926</td>\n",
              "      <td>-0.879679</td>\n",
              "      <td>1.569460</td>\n",
              "      <td>-0.525278</td>\n",
              "      <td>-0.249834</td>\n",
              "      <td>1.889822</td>\n",
              "      <td>-0.507801</td>\n",
              "      <td>-0.274352</td>\n",
              "      <td>-0.598527</td>\n",
              "      <td>-0.565802</td>\n",
              "      <td>-0.344791</td>\n",
              "      <td>-0.60238</td>\n",
              "      <td>-0.142857</td>\n",
              "      <td>-0.123404</td>\n",
              "      <td>1.487566</td>\n",
              "      <td>-0.321634</td>\n",
              "      <td>-0.480384</td>\n",
              "      <td>-0.238334</td>\n",
              "      <td>-0.289846</td>\n",
              "      <td>-0.307232</td>\n",
              "      <td>-0.276977</td>\n",
              "      <td>-0.347056</td>\n",
              "      <td>-0.326344</td>\n",
              "      <td>-0.229416</td>\n",
              "      <td>-0.220211</td>\n",
              "      <td>-0.269047</td>\n",
              "      <td>-0.302333</td>\n",
              "      <td>-0.276977</td>\n",
              "      <td>4.145096</td>\n",
              "      <td>-0.226381</td>\n",
              "      <td>-0.304789</td>\n",
              "    </tr>\n",
              "    <tr>\n",
              "      <th>...</th>\n",
              "      <td>...</td>\n",
              "      <td>...</td>\n",
              "      <td>...</td>\n",
              "      <td>...</td>\n",
              "      <td>...</td>\n",
              "      <td>...</td>\n",
              "      <td>...</td>\n",
              "      <td>...</td>\n",
              "      <td>...</td>\n",
              "      <td>...</td>\n",
              "      <td>...</td>\n",
              "      <td>...</td>\n",
              "      <td>...</td>\n",
              "      <td>...</td>\n",
              "      <td>...</td>\n",
              "      <td>...</td>\n",
              "      <td>...</td>\n",
              "      <td>...</td>\n",
              "      <td>...</td>\n",
              "      <td>...</td>\n",
              "      <td>...</td>\n",
              "      <td>...</td>\n",
              "      <td>...</td>\n",
              "      <td>...</td>\n",
              "      <td>...</td>\n",
              "      <td>...</td>\n",
              "      <td>...</td>\n",
              "      <td>...</td>\n",
              "      <td>...</td>\n",
              "      <td>...</td>\n",
              "      <td>...</td>\n",
              "      <td>...</td>\n",
              "      <td>...</td>\n",
              "      <td>...</td>\n",
              "      <td>...</td>\n",
              "      <td>...</td>\n",
              "      <td>...</td>\n",
              "      <td>...</td>\n",
              "      <td>...</td>\n",
              "      <td>...</td>\n",
              "      <td>...</td>\n",
              "      <td>...</td>\n",
              "      <td>...</td>\n",
              "      <td>...</td>\n",
              "      <td>...</td>\n",
              "      <td>...</td>\n",
              "      <td>...</td>\n",
              "      <td>...</td>\n",
              "      <td>...</td>\n",
              "      <td>...</td>\n",
              "      <td>...</td>\n",
              "      <td>...</td>\n",
              "      <td>...</td>\n",
              "      <td>...</td>\n",
              "      <td>...</td>\n",
              "      <td>...</td>\n",
              "      <td>...</td>\n",
              "      <td>...</td>\n",
              "      <td>...</td>\n",
              "      <td>...</td>\n",
              "      <td>...</td>\n",
              "      <td>...</td>\n",
              "      <td>...</td>\n",
              "      <td>...</td>\n",
              "      <td>...</td>\n",
              "      <td>...</td>\n",
              "      <td>...</td>\n",
              "      <td>...</td>\n",
              "      <td>...</td>\n",
              "      <td>...</td>\n",
              "      <td>...</td>\n",
              "      <td>...</td>\n",
              "      <td>...</td>\n",
              "      <td>...</td>\n",
              "      <td>...</td>\n",
              "      <td>...</td>\n",
              "      <td>...</td>\n",
              "      <td>...</td>\n",
              "      <td>...</td>\n",
              "      <td>...</td>\n",
              "      <td>...</td>\n",
              "    </tr>\n",
              "    <tr>\n",
              "      <th>420</th>\n",
              "      <td>-1.347748</td>\n",
              "      <td>-0.877048</td>\n",
              "      <td>0.556721</td>\n",
              "      <td>0.250741</td>\n",
              "      <td>0.833154</td>\n",
              "      <td>1.063136</td>\n",
              "      <td>0.344851</td>\n",
              "      <td>-0.832961</td>\n",
              "      <td>-0.639646</td>\n",
              "      <td>1.197183</td>\n",
              "      <td>1.387481</td>\n",
              "      <td>-0.695979</td>\n",
              "      <td>0.053306</td>\n",
              "      <td>0.788477</td>\n",
              "      <td>0.702464</td>\n",
              "      <td>0.791262</td>\n",
              "      <td>1.290994</td>\n",
              "      <td>-0.635223</td>\n",
              "      <td>-0.713746</td>\n",
              "      <td>-0.752036</td>\n",
              "      <td>1.370291</td>\n",
              "      <td>-0.641042</td>\n",
              "      <td>-1.035635</td>\n",
              "      <td>1.035635</td>\n",
              "      <td>2.645751</td>\n",
              "      <td>-0.384417</td>\n",
              "      <td>-0.422141</td>\n",
              "      <td>-0.454573</td>\n",
              "      <td>-0.407653</td>\n",
              "      <td>-0.399275</td>\n",
              "      <td>-0.409736</td>\n",
              "      <td>-0.220211</td>\n",
              "      <td>-0.249834</td>\n",
              "      <td>-0.284747</td>\n",
              "      <td>3.109126</td>\n",
              "      <td>-0.263664</td>\n",
              "      <td>-0.246998</td>\n",
              "      <td>-0.321634</td>\n",
              "      <td>-0.297381</td>\n",
              "      <td>-0.244137</td>\n",
              "      <td>...</td>\n",
              "      <td>-0.362687</td>\n",
              "      <td>-0.426244</td>\n",
              "      <td>-0.848782</td>\n",
              "      <td>-0.241249</td>\n",
              "      <td>1.099975</td>\n",
              "      <td>-0.282174</td>\n",
              "      <td>-0.397168</td>\n",
              "      <td>-0.556174</td>\n",
              "      <td>1.412889</td>\n",
              "      <td>-0.644926</td>\n",
              "      <td>1.136778</td>\n",
              "      <td>-0.637162</td>\n",
              "      <td>-0.525278</td>\n",
              "      <td>-0.249834</td>\n",
              "      <td>-0.529150</td>\n",
              "      <td>-0.507801</td>\n",
              "      <td>-0.274352</td>\n",
              "      <td>1.670769</td>\n",
              "      <td>-0.565802</td>\n",
              "      <td>2.900304</td>\n",
              "      <td>-0.60238</td>\n",
              "      <td>-0.142857</td>\n",
              "      <td>-0.123404</td>\n",
              "      <td>-0.672239</td>\n",
              "      <td>-0.321634</td>\n",
              "      <td>-0.480384</td>\n",
              "      <td>-0.238334</td>\n",
              "      <td>-0.289846</td>\n",
              "      <td>-0.307232</td>\n",
              "      <td>-0.276977</td>\n",
              "      <td>-0.347056</td>\n",
              "      <td>-0.326344</td>\n",
              "      <td>-0.229416</td>\n",
              "      <td>-0.220211</td>\n",
              "      <td>-0.269047</td>\n",
              "      <td>-0.302333</td>\n",
              "      <td>-0.276977</td>\n",
              "      <td>-0.241249</td>\n",
              "      <td>-0.226381</td>\n",
              "      <td>3.280961</td>\n",
              "    </tr>\n",
              "    <tr>\n",
              "      <th>129</th>\n",
              "      <td>0.659654</td>\n",
              "      <td>-0.077376</td>\n",
              "      <td>-0.657275</td>\n",
              "      <td>-0.568969</td>\n",
              "      <td>2.651763</td>\n",
              "      <td>1.453633</td>\n",
              "      <td>1.233288</td>\n",
              "      <td>-0.832961</td>\n",
              "      <td>1.605653</td>\n",
              "      <td>0.574090</td>\n",
              "      <td>0.912935</td>\n",
              "      <td>0.407736</td>\n",
              "      <td>0.606135</td>\n",
              "      <td>2.141751</td>\n",
              "      <td>1.272438</td>\n",
              "      <td>0.099749</td>\n",
              "      <td>-0.774597</td>\n",
              "      <td>-0.635223</td>\n",
              "      <td>1.401058</td>\n",
              "      <td>-0.752036</td>\n",
              "      <td>-0.729772</td>\n",
              "      <td>1.559960</td>\n",
              "      <td>-1.035635</td>\n",
              "      <td>1.035635</td>\n",
              "      <td>-0.377964</td>\n",
              "      <td>2.601344</td>\n",
              "      <td>-0.422141</td>\n",
              "      <td>-0.454573</td>\n",
              "      <td>-0.407653</td>\n",
              "      <td>-0.399275</td>\n",
              "      <td>-0.409736</td>\n",
              "      <td>-0.220211</td>\n",
              "      <td>-0.249834</td>\n",
              "      <td>-0.284747</td>\n",
              "      <td>-0.321634</td>\n",
              "      <td>-0.263664</td>\n",
              "      <td>-0.246998</td>\n",
              "      <td>-0.321634</td>\n",
              "      <td>-0.297381</td>\n",
              "      <td>4.096069</td>\n",
              "      <td>...</td>\n",
              "      <td>-0.362687</td>\n",
              "      <td>-0.426244</td>\n",
              "      <td>-0.848782</td>\n",
              "      <td>-0.241249</td>\n",
              "      <td>1.099975</td>\n",
              "      <td>-0.282174</td>\n",
              "      <td>-0.397168</td>\n",
              "      <td>1.798000</td>\n",
              "      <td>-0.707770</td>\n",
              "      <td>-0.644926</td>\n",
              "      <td>-0.879679</td>\n",
              "      <td>-0.637162</td>\n",
              "      <td>1.903754</td>\n",
              "      <td>-0.249834</td>\n",
              "      <td>-0.529150</td>\n",
              "      <td>1.969276</td>\n",
              "      <td>-0.274352</td>\n",
              "      <td>-0.598527</td>\n",
              "      <td>-0.565802</td>\n",
              "      <td>-0.344791</td>\n",
              "      <td>-0.60238</td>\n",
              "      <td>-0.142857</td>\n",
              "      <td>-0.123404</td>\n",
              "      <td>1.487566</td>\n",
              "      <td>-0.321634</td>\n",
              "      <td>-0.480384</td>\n",
              "      <td>-0.238334</td>\n",
              "      <td>-0.289846</td>\n",
              "      <td>-0.307232</td>\n",
              "      <td>-0.276977</td>\n",
              "      <td>-0.347056</td>\n",
              "      <td>-0.326344</td>\n",
              "      <td>-0.229416</td>\n",
              "      <td>-0.220211</td>\n",
              "      <td>3.716829</td>\n",
              "      <td>-0.302333</td>\n",
              "      <td>-0.276977</td>\n",
              "      <td>-0.241249</td>\n",
              "      <td>-0.226381</td>\n",
              "      <td>-0.304789</td>\n",
              "    </tr>\n",
              "    <tr>\n",
              "      <th>285</th>\n",
              "      <td>-1.460339</td>\n",
              "      <td>-0.318648</td>\n",
              "      <td>1.082999</td>\n",
              "      <td>0.272831</td>\n",
              "      <td>1.302635</td>\n",
              "      <td>0.469942</td>\n",
              "      <td>0.058924</td>\n",
              "      <td>-0.832961</td>\n",
              "      <td>-0.639646</td>\n",
              "      <td>0.967487</td>\n",
              "      <td>-1.420850</td>\n",
              "      <td>-0.695979</td>\n",
              "      <td>-0.556177</td>\n",
              "      <td>0.571053</td>\n",
              "      <td>0.389076</td>\n",
              "      <td>-0.982727</td>\n",
              "      <td>-0.774597</td>\n",
              "      <td>-0.635223</td>\n",
              "      <td>1.401058</td>\n",
              "      <td>1.329724</td>\n",
              "      <td>-0.729772</td>\n",
              "      <td>-0.641042</td>\n",
              "      <td>-1.035635</td>\n",
              "      <td>1.035635</td>\n",
              "      <td>-0.377964</td>\n",
              "      <td>-0.384417</td>\n",
              "      <td>-0.422141</td>\n",
              "      <td>-0.454573</td>\n",
              "      <td>-0.407653</td>\n",
              "      <td>-0.399275</td>\n",
              "      <td>2.440599</td>\n",
              "      <td>-0.220211</td>\n",
              "      <td>-0.249834</td>\n",
              "      <td>-0.284747</td>\n",
              "      <td>-0.321634</td>\n",
              "      <td>-0.263664</td>\n",
              "      <td>-0.246998</td>\n",
              "      <td>-0.321634</td>\n",
              "      <td>-0.297381</td>\n",
              "      <td>-0.244137</td>\n",
              "      <td>...</td>\n",
              "      <td>-0.362687</td>\n",
              "      <td>-0.426244</td>\n",
              "      <td>-0.848782</td>\n",
              "      <td>-0.241249</td>\n",
              "      <td>1.099975</td>\n",
              "      <td>-0.282174</td>\n",
              "      <td>-0.397168</td>\n",
              "      <td>1.798000</td>\n",
              "      <td>-0.707770</td>\n",
              "      <td>-0.644926</td>\n",
              "      <td>1.136778</td>\n",
              "      <td>-0.637162</td>\n",
              "      <td>-0.525278</td>\n",
              "      <td>-0.249834</td>\n",
              "      <td>-0.529150</td>\n",
              "      <td>-0.507801</td>\n",
              "      <td>-0.274352</td>\n",
              "      <td>1.670769</td>\n",
              "      <td>-0.565802</td>\n",
              "      <td>2.900304</td>\n",
              "      <td>-0.60238</td>\n",
              "      <td>-0.142857</td>\n",
              "      <td>-0.123404</td>\n",
              "      <td>-0.672239</td>\n",
              "      <td>-0.321634</td>\n",
              "      <td>-0.480384</td>\n",
              "      <td>-0.238334</td>\n",
              "      <td>-0.289846</td>\n",
              "      <td>-0.307232</td>\n",
              "      <td>-0.276977</td>\n",
              "      <td>-0.347056</td>\n",
              "      <td>3.064247</td>\n",
              "      <td>-0.229416</td>\n",
              "      <td>-0.220211</td>\n",
              "      <td>-0.269047</td>\n",
              "      <td>-0.302333</td>\n",
              "      <td>-0.276977</td>\n",
              "      <td>-0.241249</td>\n",
              "      <td>-0.226381</td>\n",
              "      <td>-0.304789</td>\n",
              "    </tr>\n",
              "    <tr>\n",
              "      <th>485</th>\n",
              "      <td>-0.457597</td>\n",
              "      <td>0.228831</td>\n",
              "      <td>1.389903</td>\n",
              "      <td>-1.593372</td>\n",
              "      <td>-0.496203</td>\n",
              "      <td>-0.934432</td>\n",
              "      <td>0.486152</td>\n",
              "      <td>1.409647</td>\n",
              "      <td>1.605653</td>\n",
              "      <td>1.197183</td>\n",
              "      <td>-1.420850</td>\n",
              "      <td>-0.695979</td>\n",
              "      <td>0.947403</td>\n",
              "      <td>-0.035249</td>\n",
              "      <td>0.607592</td>\n",
              "      <td>0.762228</td>\n",
              "      <td>1.290994</td>\n",
              "      <td>-0.635223</td>\n",
              "      <td>-0.713746</td>\n",
              "      <td>1.329724</td>\n",
              "      <td>-0.729772</td>\n",
              "      <td>-0.641042</td>\n",
              "      <td>0.965592</td>\n",
              "      <td>-0.965592</td>\n",
              "      <td>-0.377964</td>\n",
              "      <td>-0.384417</td>\n",
              "      <td>-0.422141</td>\n",
              "      <td>-0.454573</td>\n",
              "      <td>2.453068</td>\n",
              "      <td>-0.399275</td>\n",
              "      <td>-0.409736</td>\n",
              "      <td>-0.220211</td>\n",
              "      <td>-0.249834</td>\n",
              "      <td>-0.284747</td>\n",
              "      <td>-0.321634</td>\n",
              "      <td>-0.263664</td>\n",
              "      <td>4.048618</td>\n",
              "      <td>-0.321634</td>\n",
              "      <td>-0.297381</td>\n",
              "      <td>-0.244137</td>\n",
              "      <td>...</td>\n",
              "      <td>-0.362687</td>\n",
              "      <td>-0.426244</td>\n",
              "      <td>1.178159</td>\n",
              "      <td>-0.241249</td>\n",
              "      <td>-0.909112</td>\n",
              "      <td>-0.282174</td>\n",
              "      <td>-0.397168</td>\n",
              "      <td>1.798000</td>\n",
              "      <td>-0.707770</td>\n",
              "      <td>-0.644926</td>\n",
              "      <td>1.136778</td>\n",
              "      <td>-0.637162</td>\n",
              "      <td>-0.525278</td>\n",
              "      <td>-0.249834</td>\n",
              "      <td>-0.529150</td>\n",
              "      <td>-0.507801</td>\n",
              "      <td>-0.274352</td>\n",
              "      <td>1.670769</td>\n",
              "      <td>-0.565802</td>\n",
              "      <td>-0.344791</td>\n",
              "      <td>-0.60238</td>\n",
              "      <td>-0.142857</td>\n",
              "      <td>-0.123404</td>\n",
              "      <td>1.487566</td>\n",
              "      <td>-0.321634</td>\n",
              "      <td>-0.480384</td>\n",
              "      <td>-0.238334</td>\n",
              "      <td>-0.289846</td>\n",
              "      <td>-0.307232</td>\n",
              "      <td>-0.276977</td>\n",
              "      <td>2.881376</td>\n",
              "      <td>-0.326344</td>\n",
              "      <td>-0.229416</td>\n",
              "      <td>-0.220211</td>\n",
              "      <td>-0.269047</td>\n",
              "      <td>-0.302333</td>\n",
              "      <td>-0.276977</td>\n",
              "      <td>-0.241249</td>\n",
              "      <td>-0.226381</td>\n",
              "      <td>-0.304789</td>\n",
              "    </tr>\n",
              "    <tr>\n",
              "      <th>482</th>\n",
              "      <td>0.546898</td>\n",
              "      <td>-0.629913</td>\n",
              "      <td>-0.908094</td>\n",
              "      <td>-0.447871</td>\n",
              "      <td>-0.496203</td>\n",
              "      <td>1.788990</td>\n",
              "      <td>1.668330</td>\n",
              "      <td>1.120455</td>\n",
              "      <td>1.605653</td>\n",
              "      <td>0.949529</td>\n",
              "      <td>0.639983</td>\n",
              "      <td>-0.695979</td>\n",
              "      <td>0.728149</td>\n",
              "      <td>-0.248412</td>\n",
              "      <td>0.152145</td>\n",
              "      <td>1.613635</td>\n",
              "      <td>1.290994</td>\n",
              "      <td>-0.635223</td>\n",
              "      <td>-0.713746</td>\n",
              "      <td>1.329724</td>\n",
              "      <td>-0.729772</td>\n",
              "      <td>-0.641042</td>\n",
              "      <td>-1.035635</td>\n",
              "      <td>1.035635</td>\n",
              "      <td>-0.377964</td>\n",
              "      <td>-0.384417</td>\n",
              "      <td>2.368875</td>\n",
              "      <td>-0.454573</td>\n",
              "      <td>-0.407653</td>\n",
              "      <td>-0.399275</td>\n",
              "      <td>-0.409736</td>\n",
              "      <td>4.541104</td>\n",
              "      <td>-0.249834</td>\n",
              "      <td>-0.284747</td>\n",
              "      <td>-0.321634</td>\n",
              "      <td>-0.263664</td>\n",
              "      <td>-0.246998</td>\n",
              "      <td>-0.321634</td>\n",
              "      <td>-0.297381</td>\n",
              "      <td>-0.244137</td>\n",
              "      <td>...</td>\n",
              "      <td>-0.362687</td>\n",
              "      <td>-0.426244</td>\n",
              "      <td>1.178159</td>\n",
              "      <td>-0.241249</td>\n",
              "      <td>-0.909112</td>\n",
              "      <td>-0.282174</td>\n",
              "      <td>-0.397168</td>\n",
              "      <td>-0.556174</td>\n",
              "      <td>-0.707770</td>\n",
              "      <td>1.550566</td>\n",
              "      <td>-0.879679</td>\n",
              "      <td>-0.637162</td>\n",
              "      <td>1.903754</td>\n",
              "      <td>-0.249834</td>\n",
              "      <td>-0.529150</td>\n",
              "      <td>-0.507801</td>\n",
              "      <td>-0.274352</td>\n",
              "      <td>-0.598527</td>\n",
              "      <td>1.767402</td>\n",
              "      <td>-0.344791</td>\n",
              "      <td>-0.60238</td>\n",
              "      <td>-0.142857</td>\n",
              "      <td>-0.123404</td>\n",
              "      <td>-0.672239</td>\n",
              "      <td>3.109126</td>\n",
              "      <td>-0.480384</td>\n",
              "      <td>-0.238334</td>\n",
              "      <td>-0.289846</td>\n",
              "      <td>-0.307232</td>\n",
              "      <td>-0.276977</td>\n",
              "      <td>-0.347056</td>\n",
              "      <td>-0.326344</td>\n",
              "      <td>-0.229416</td>\n",
              "      <td>-0.220211</td>\n",
              "      <td>-0.269047</td>\n",
              "      <td>-0.302333</td>\n",
              "      <td>-0.276977</td>\n",
              "      <td>-0.241249</td>\n",
              "      <td>-0.226381</td>\n",
              "      <td>3.280961</td>\n",
              "    </tr>\n",
              "  </tbody>\n",
              "</table>\n",
              "<p>800 rows × 89 columns</p>\n",
              "</div>"
            ],
            "text/plain": [
              "     months_as_customer  ...  auto_make_Volkswagen\n",
              "839           -0.764528  ...              3.280961\n",
              "195           -1.574057  ...             -0.304789\n",
              "581            0.721090  ...              3.280961\n",
              "695            0.756674  ...             -0.304789\n",
              "35            -1.485098  ...             -0.304789\n",
              "..                  ...  ...                   ...\n",
              "420           -1.347748  ...              3.280961\n",
              "129            0.659654  ...             -0.304789\n",
              "285           -1.460339  ...             -0.304789\n",
              "485           -0.457597  ...             -0.304789\n",
              "482            0.546898  ...              3.280961\n",
              "\n",
              "[800 rows x 89 columns]"
            ]
          },
          "metadata": {
            "tags": []
          },
          "execution_count": 20
        }
      ]
    },
    {
      "cell_type": "markdown",
      "metadata": {
        "id": "l96yYt1lP2dK"
      },
      "source": [
        "# Choice of statistical models"
      ]
    },
    {
      "cell_type": "markdown",
      "metadata": {
        "id": "grGvvO0QP4X4"
      },
      "source": [
        "In the sections below, we will analyze our dataset using logistic regressions and tree-based methods. Logistic regressions are primarily useful because they are very interpretable, but also because they perform well when there is a clear linear structure to the data. This combines well with tree-based models, which perform well when there is lots of non-linearity and interaction effects in the data – which is when logistic regressions perform poorly. Using both these classes of models, we expect to come out with both a better understanding of how the predictors might affect fraud incidence, and also to come out with a high performing model from a predictive standpoint."
      ]
    },
    {
      "cell_type": "markdown",
      "metadata": {
        "id": "AnVaGNqBP4Qo"
      },
      "source": [
        "One methods that we will avoid using is k Nearest Neighbors. KNN has the benefits of being relatively simple, computationally feasible with our dataset size, and does not make assumptions about the structure of the data. Moreover, KNN is a consistent model, which is desirable. However, we chose to avoid using KNN because of its susceptibility to the curse of dimensionality – the fact in high dimensions, the 'nearest' points are still far away (in terms of Euclidean distance). While our original dataset is not high dimensional, p = 28 is still somewhat large when compared to the moderate n = 800 for the training data. However, after encoding our categorical variables, our dataset now has p=89, which is high dimensional enough to cause problems. <br><br>\n",
        "\n",
        "\n",
        "We don't have any _a priori_ reasons to expect SVMs to perform poorly on this data, but we will not include it in this report. A future extension to this analysis could be assess the performance of SVM models on this dataset."
      ]
    },
    {
      "cell_type": "markdown",
      "metadata": {
        "id": "8uvka973P7ZM"
      },
      "source": [
        "# Logistic regression"
      ]
    },
    {
      "cell_type": "markdown",
      "metadata": {
        "id": "Qin7n1hXPPY8"
      },
      "source": [
        "## Basic logistic regression"
      ]
    },
    {
      "cell_type": "markdown",
      "metadata": {
        "id": "ko9RWsetRYh0"
      },
      "source": [
        "To provide context to the results of the more complex iterations of the logistic regression, we first establish a reference predictive accuracy using a baseline model. This will take the form of a basic logistic regression."
      ]
    },
    {
      "cell_type": "code",
      "metadata": {
        "id": "OytGGBMWTy9u"
      },
      "source": [
        "a#We will write our own implementation of the logisitic regression using gradient descent\n",
        "def logit(scores): #start by defining the logistic function\n",
        "  return 1 / (1 + np.exp(-scores))\n",
        "\n",
        "def logistic_predict(predictors, coefficients):\n",
        "  scores = np.dot(predictors, coefficients)\n",
        "  yhat = logit(scores)\n",
        "  return yhat\n",
        "\n",
        "def logistic_loss(predictors, outcomes, coefficients):\n",
        "   scores = np.dot(predictors, coefficients)\n",
        "   loss = np.sum(outcomes * scores - np.log(1 + np.exp(scores)))\n",
        "   #[13]https://stats.stackexchange.com/questions/250937/which-loss-function-is-correct-for-logistic-regression\n",
        "   return loss\n",
        "  "
      ],
      "execution_count": null,
      "outputs": []
    },
    {
      "cell_type": "code",
      "metadata": {
        "colab": {
          "base_uri": "https://localhost:8080/"
        },
        "id": "bJeS6qfdvb-4",
        "outputId": "0092d328-c41c-425c-e8e8-d574107bcef2"
      },
      "source": [
        "def logistic_regression(predictors, outcomes, iter, learning_rate): #don't include intercept because of one hot encoding\n",
        "    coefficients = np.zeros(X_train.shape[1]) #initialize with coefficients = 0\n",
        "\n",
        "    for step in range(iter):\n",
        "      yhat = logistic_predict(predictors, coefficients)\n",
        "      ll_gradient = np.dot(predictors.T, outcomes - yhat)\n",
        "      #[14]https://math.stackexchange.com/questions/78575/derivative-of-sigmoid-function-sigma-x-frac11e-x\n",
        "      ll_gradient = ll_gradient / len(predictors) #scale gradient by number of predictors\n",
        "      coefficients += learning_rate * ll_gradient \n",
        "      #[15]https://ml-cheatsheet.readthedocs.io/en/latest/logistic_regression.html\n",
        " \n",
        "      if step % 1000 == 0:           \n",
        "        print(logistic_loss(predictors, outcomes, coefficients)) \n",
        "    return coefficients\n",
        "\n",
        "logistic_regression(X_train, y_train, 10000, 0.01);"
      ],
      "execution_count": null,
      "outputs": [
        {
          "output_type": "stream",
          "text": [
            "-552.0403612791739\n",
            "-319.3002848438393\n",
            "-309.3623014782405\n",
            "-306.1105757162745\n",
            "-304.50891718637087\n",
            "-303.53691615947395\n",
            "-302.8712091697538\n",
            "-302.3803981723271\n",
            "-302.00114618550305\n",
            "-301.6988142716727\n"
          ],
          "name": "stdout"
        }
      ]
    },
    {
      "cell_type": "code",
      "metadata": {
        "colab": {
          "base_uri": "https://localhost:8080/"
        },
        "id": "MMF4pkYL2rVk",
        "outputId": "f64a9b96-54e5-441b-e330-d0ed995a562a"
      },
      "source": [
        "#Learning rate seems slow, not yet converged, lets try 0.1 and increase iter to 50k\n",
        "coefficients = logistic_regression(X_train, y_train, 50000, 0.5)"
      ],
      "execution_count": null,
      "outputs": [
        {
          "output_type": "stream",
          "text": [
            "-457.8580855577212\n",
            "-299.82717619687617\n",
            "-299.66124128663375\n",
            "-299.6095129533685\n",
            "-299.5867410123195\n",
            "-299.57486371892105\n",
            "-299.56801503404347\n",
            "-299.5637976960321\n",
            "-299.5610784853467\n",
            "-299.55926512096175\n",
            "-299.5580245410289\n",
            "-299.55715878119804\n",
            "-299.5565449875588\n",
            "-299.55610425618545\n",
            "-299.5557844836884\n",
            "-299.5555504722615\n",
            "-299.55537799202654\n",
            "-299.5552500985514\n",
            "-299.55515478414327\n",
            "-299.55508344350017\n",
            "-299.55502985046735\n",
            "-299.5549894633541\n",
            "-299.55495894594367\n",
            "-299.55493583273574\n",
            "-299.5549182922163\n",
            "-299.554904957714\n",
            "-299.5548948054519\n",
            "-299.5548870659271\n",
            "-299.5548811590611\n",
            "-299.55487664645534\n",
            "-299.55487319605186\n",
            "-299.5548705558518\n",
            "-299.554868534291\n",
            "-299.5548669855323\n",
            "-299.5548657984072\n",
            "-299.55486488807946\n",
            "-299.55486418974436\n",
            "-299.5548636538562\n",
            "-299.5548632425071\n",
            "-299.55486292667433\n",
            "-299.55486268412466\n",
            "-299.5548624978179\n",
            "-299.5548623546878\n",
            "-299.5548622447119\n",
            "-299.5548621601993\n",
            "-299.5548620952469\n",
            "-299.5548620453226\n",
            "-299.5548620069459\n",
            "-299.55486197744347\n",
            "-299.5548619547618\n"
          ],
          "name": "stdout"
        }
      ]
    },
    {
      "cell_type": "markdown",
      "metadata": {
        "id": "DWjsYhM534fy"
      },
      "source": [
        "Looks like we have convergence on a logistic loss of -299.5549. Let's determine the accuracy of this model. We will focus on intepretation in our more complex iterations of logistic regression."
      ]
    },
    {
      "cell_type": "code",
      "metadata": {
        "id": "CWkg8qWL4pYY"
      },
      "source": [
        "#Need to define decision boundary and make class predictions before we can assess accuracy\n",
        "def classify(predictions):\n",
        "  def decision_boundary(prob):\n",
        "    return 1 if prob >= .5 else 0\n",
        "\n",
        "  decision_boundary = np.vectorize(decision_boundary)\n",
        "  \n",
        "  return decision_boundary(predictions).flatten()"
      ],
      "execution_count": null,
      "outputs": []
    },
    {
      "cell_type": "code",
      "metadata": {
        "colab": {
          "base_uri": "https://localhost:8080/"
        },
        "id": "GksKPN3f5kpK",
        "outputId": "7ed11d7b-0874-453b-b8f9-58cc4e1aac3f"
      },
      "source": [
        "#Classify logistic regression and determine performance\n",
        "classifications = classify(logistic_predict(X_test, coefficients))\n",
        "roc_auc_score(y_test, classifications)"
      ],
      "execution_count": null,
      "outputs": [
        {
          "output_type": "execute_result",
          "data": {
            "text/plain": [
              "0.7366847448199139"
            ]
          },
          "metadata": {
            "tags": []
          },
          "execution_count": 25
        }
      ]
    },
    {
      "cell_type": "markdown",
      "metadata": {
        "id": "QIwcWAOH627R"
      },
      "source": [
        "0.7366 is our AUC for a basic logistic regression."
      ]
    },
    {
      "cell_type": "markdown",
      "metadata": {
        "id": "1Ru4qSqsQCV4"
      },
      "source": [
        "## Penalized logisitic regression with L1 norm"
      ]
    },
    {
      "cell_type": "markdown",
      "metadata": {
        "id": "47alb4kc9pAD"
      },
      "source": [
        "Since our data is relatively high dimensional, this means that a basic logistic regression might not perform well. However, as far as interprability of models go, logisitic regression is one of the better performers. A good compromise is to use a 'lasso' (a L1 norm penalty) with a logistic regression. A penalized L1 norm logistic regression is useful because it performs feature selection as well as regularization, which improves the performance of the model as well as addressing the issue of the curse of dimensionality.\n"
      ]
    },
    {
      "cell_type": "code",
      "metadata": {
        "colab": {
          "base_uri": "https://localhost:8080/"
        },
        "id": "FdDxy591G-eh",
        "outputId": "52f9ad0d-aaee-4b2e-9c32-60a01874ef69"
      },
      "source": [
        "lr = LogisticRegression(penalty='l1', fit_intercept=False, random_state=12345, solver='liblinear')\n",
        "#Using l1 penalty for feature selection,no intercept due to dummied variables,seed for replicability\n",
        "lr_params = {'C': [0.01, 0.1, 1, 10, 100, 100]} #broad grid search first pass\n",
        "gs = GridSearchCV(estimator=lr, param_grid=lr_params, scoring='roc_auc', cv=10) #use default 10-fold\n",
        "gs_results = gs.fit(X_train, y_train)\n",
        "print(gs_results.best_params_)"
      ],
      "execution_count": null,
      "outputs": [
        {
          "output_type": "stream",
          "text": [
            "{'C': 1}\n"
          ],
          "name": "stdout"
        }
      ]
    },
    {
      "cell_type": "markdown",
      "metadata": {
        "id": "UV0CmDeBV61J"
      },
      "source": [
        "NB: Dropping the intercept means that we are able to achieve an invertible matrix of predictors without having to drop first dummy variables"
      ]
    },
    {
      "cell_type": "code",
      "metadata": {
        "colab": {
          "base_uri": "https://localhost:8080/"
        },
        "id": "zgYE_IekWqkX",
        "outputId": "522f7531-b987-4150-8a49-67e1191ac105"
      },
      "source": [
        "#Looks like 0.1 is the correct order of magnitude for C – lets narrow the grid\n",
        "lr_params = {'C': [0.1, 0.5, 1, 2, 3, 4, 5, 6, 7, 8, 9, 10]}\n",
        "gs = GridSearchCV(estimator=lr, param_grid=lr_params, scoring='roc_auc', cv=10) #use default 10-fold\n",
        "gs_results = gs.fit(X_train, y_train)\n",
        "print(gs_results.best_params_)\n",
        "\n",
        "gs_predictions = gs.predict(X_test)\n",
        "print(roc_auc_score(y_test, gs_predictions))"
      ],
      "execution_count": null,
      "outputs": [
        {
          "output_type": "stream",
          "text": [
            "{'C': 0.5}\n",
            "0.7775691837018496\n"
          ],
          "name": "stdout"
        }
      ]
    },
    {
      "cell_type": "markdown",
      "metadata": {
        "id": "t7l75LqlXlOv"
      },
      "source": [
        "A `C` of 0.5 is the best parameter for the penalized logistic regression using a L1 norm. This model gives us an AUC of 0.778, which is a moderate improvement over our baseline model.<br><br>\n",
        "\n",
        "While using an L1 norm improves our AUC, it comes at a cost of reducing interpretability. However from the results of this logistic regression, we should still be able to determine the direction of correlation of a predictor with fraud incidence and whether the predictor is significant or not. Additionally, if a predictor is regularized to 0, it indicates that this predictor is not strongly associated with fraud incidence. <br><br>We will now focus on trying to interpret the coefficients of this model. We will recreate this optimized (cross-validated) model using the `statsmodels` package instead of `sklearn` as it has more functionality related to inference."
      ]
    },
    {
      "cell_type": "code",
      "metadata": {
        "colab": {
          "base_uri": "https://localhost:8080/",
          "height": 1000
        },
        "id": "AZ69naJCGK-v",
        "outputId": "a196acf8-7952-4d28-f9a8-db926fcadf06"
      },
      "source": [
        "#Using statsmodels' Logistic Regression\n",
        "logit = Logit(y_train, X_train) #note default is no intercept term, which is good\n",
        "logit_results = logit.fit_regularized(method='l1', alpha=gs_results.best_params_['C'])\n",
        "logit_results.summary()"
      ],
      "execution_count": null,
      "outputs": [
        {
          "output_type": "stream",
          "text": [
            "Optimization terminated successfully.    (Exit mode 0)\n",
            "            Current function value: 0.38361787303058986\n",
            "            Iterations: 239\n",
            "            Function evaluations: 240\n",
            "            Gradient evaluations: 239\n"
          ],
          "name": "stdout"
        },
        {
          "output_type": "execute_result",
          "data": {
            "text/html": [
              "<table class=\"simpletable\">\n",
              "<caption>Logit Regression Results</caption>\n",
              "<tr>\n",
              "  <th>Dep. Variable:</th>           <td>y</td>        <th>  No. Observations:  </th>  <td>   800</td>  \n",
              "</tr>\n",
              "<tr>\n",
              "  <th>Model:</th>                 <td>Logit</td>      <th>  Df Residuals:      </th>  <td>   723</td>  \n",
              "</tr>\n",
              "<tr>\n",
              "  <th>Method:</th>                 <td>MLE</td>       <th>  Df Model:          </th>  <td>    76</td>  \n",
              "</tr>\n",
              "<tr>\n",
              "  <th>Date:</th>            <td>Mon, 03 May 2021</td> <th>  Pseudo R-squ.:     </th>  <td>0.4587</td>  \n",
              "</tr>\n",
              "<tr>\n",
              "  <th>Time:</th>                <td>19:24:23</td>     <th>  Log-Likelihood:    </th> <td> -300.15</td> \n",
              "</tr>\n",
              "<tr>\n",
              "  <th>converged:</th>             <td>True</td>       <th>  LL-Null:           </th> <td> -554.52</td> \n",
              "</tr>\n",
              "<tr>\n",
              "  <th>Covariance Type:</th>     <td>nonrobust</td>    <th>  LLR p-value:       </th> <td>2.877e-65</td>\n",
              "</tr>\n",
              "</table>\n",
              "<table class=\"simpletable\">\n",
              "<tr>\n",
              "                     <td></td>                       <th>coef</th>     <th>std err</th>      <th>z</th>      <th>P>|z|</th>  <th>[0.025</th>    <th>0.975]</th>  \n",
              "</tr>\n",
              "<tr>\n",
              "  <th>months_as_customer</th>                     <td>    0.1208</td> <td>    0.112</td> <td>    1.078</td> <td> 0.281</td> <td>   -0.099</td> <td>    0.341</td>\n",
              "</tr>\n",
              "<tr>\n",
              "  <th>policy_bind_date</th>                       <td>    0.0227</td> <td>    0.111</td> <td>    0.204</td> <td> 0.838</td> <td>   -0.196</td> <td>    0.241</td>\n",
              "</tr>\n",
              "<tr>\n",
              "  <th>policy_deductable</th>                      <td>    0.0855</td> <td>    0.113</td> <td>    0.759</td> <td> 0.448</td> <td>   -0.135</td> <td>    0.306</td>\n",
              "</tr>\n",
              "<tr>\n",
              "  <th>policy_annual_premium</th>                  <td>   -0.0629</td> <td>    0.110</td> <td>   -0.570</td> <td> 0.569</td> <td>   -0.279</td> <td>    0.154</td>\n",
              "</tr>\n",
              "<tr>\n",
              "  <th>umbrella_limit</th>                         <td>    0.4260</td> <td>    0.114</td> <td>    3.734</td> <td> 0.000</td> <td>    0.202</td> <td>    0.650</td>\n",
              "</tr>\n",
              "<tr>\n",
              "  <th>incident_date</th>                          <td>    0.0401</td> <td>    0.113</td> <td>    0.356</td> <td> 0.722</td> <td>   -0.181</td> <td>    0.261</td>\n",
              "</tr>\n",
              "<tr>\n",
              "  <th>incident_hour_of_the_day</th>               <td>   -0.1021</td> <td>    0.111</td> <td>   -0.921</td> <td> 0.357</td> <td>   -0.319</td> <td>    0.115</td>\n",
              "</tr>\n",
              "<tr>\n",
              "  <th>number_of_vehicles_involved</th>            <td>    0.5305</td> <td>    0.295</td> <td>    1.797</td> <td> 0.072</td> <td>   -0.048</td> <td>    1.109</td>\n",
              "</tr>\n",
              "<tr>\n",
              "  <th>property_damage</th>                        <td>    0.0368</td> <td>    0.112</td> <td>    0.330</td> <td> 0.742</td> <td>   -0.182</td> <td>    0.256</td>\n",
              "</tr>\n",
              "<tr>\n",
              "  <th>bodily_injuries</th>                        <td>   -0.1220</td> <td>    0.111</td> <td>   -1.096</td> <td> 0.273</td> <td>   -0.340</td> <td>    0.096</td>\n",
              "</tr>\n",
              "<tr>\n",
              "  <th>witnesses</th>                              <td>    0.2090</td> <td>    0.110</td> <td>    1.898</td> <td> 0.058</td> <td>   -0.007</td> <td>    0.425</td>\n",
              "</tr>\n",
              "<tr>\n",
              "  <th>police_report_available</th>                <td>   -0.0537</td> <td>    0.111</td> <td>   -0.482</td> <td> 0.630</td> <td>   -0.272</td> <td>    0.164</td>\n",
              "</tr>\n",
              "<tr>\n",
              "  <th>injury_claim</th>                           <td>   -0.2120</td> <td>    0.155</td> <td>   -1.365</td> <td> 0.172</td> <td>   -0.516</td> <td>    0.092</td>\n",
              "</tr>\n",
              "<tr>\n",
              "  <th>property_claim</th>                         <td>   -0.0734</td> <td>    0.154</td> <td>   -0.477</td> <td> 0.633</td> <td>   -0.375</td> <td>    0.228</td>\n",
              "</tr>\n",
              "<tr>\n",
              "  <th>vehicle_claim</th>                          <td>    0.3823</td> <td>    0.235</td> <td>    1.627</td> <td> 0.104</td> <td>   -0.078</td> <td>    0.843</td>\n",
              "</tr>\n",
              "<tr>\n",
              "  <th>auto_year</th>                              <td>   -0.1123</td> <td>    0.114</td> <td>   -0.983</td> <td> 0.325</td> <td>   -0.336</td> <td>    0.112</td>\n",
              "</tr>\n",
              "<tr>\n",
              "  <th>policy_state_IL</th>                        <td>    0.0513</td> <td>    0.128</td> <td>    0.402</td> <td> 0.688</td> <td>   -0.199</td> <td>    0.302</td>\n",
              "</tr>\n",
              "<tr>\n",
              "  <th>policy_state_IN</th>                        <td>   -0.0867</td> <td>    0.127</td> <td>   -0.680</td> <td> 0.496</td> <td>   -0.337</td> <td>    0.163</td>\n",
              "</tr>\n",
              "<tr>\n",
              "  <th>policy_state_OH</th>                        <td>         0</td> <td>      nan</td> <td>      nan</td> <td>   nan</td> <td>      nan</td> <td>      nan</td>\n",
              "</tr>\n",
              "<tr>\n",
              "  <th>policy_csl_100/300</th>                     <td>    0.2158</td> <td>    0.128</td> <td>    1.685</td> <td> 0.092</td> <td>   -0.035</td> <td>    0.467</td>\n",
              "</tr>\n",
              "<tr>\n",
              "  <th>policy_csl_250/500</th>                     <td>         0</td> <td>      nan</td> <td>      nan</td> <td>   nan</td> <td>      nan</td> <td>      nan</td>\n",
              "</tr>\n",
              "<tr>\n",
              "  <th>policy_csl_500/1000</th>                    <td>   -0.1267</td> <td>    0.131</td> <td>   -0.969</td> <td> 0.332</td> <td>   -0.383</td> <td>    0.130</td>\n",
              "</tr>\n",
              "<tr>\n",
              "  <th>insured_sex_FEMALE</th>                     <td>    0.0285</td> <td> 8.39e+06</td> <td>  3.4e-09</td> <td> 1.000</td> <td>-1.64e+07</td> <td> 1.64e+07</td>\n",
              "</tr>\n",
              "<tr>\n",
              "  <th>insured_sex_MALE</th>                       <td>   -0.0285</td> <td> 8.39e+06</td> <td> -3.4e-09</td> <td> 1.000</td> <td>-1.64e+07</td> <td> 1.64e+07</td>\n",
              "</tr>\n",
              "<tr>\n",
              "  <th>insured_education_level_Associate</th>      <td>   -0.0815</td> <td>    0.148</td> <td>   -0.550</td> <td> 0.582</td> <td>   -0.372</td> <td>    0.209</td>\n",
              "</tr>\n",
              "<tr>\n",
              "  <th>insured_education_level_College</th>        <td>    0.0272</td> <td>    0.141</td> <td>    0.192</td> <td> 0.847</td> <td>   -0.250</td> <td>    0.304</td>\n",
              "</tr>\n",
              "<tr>\n",
              "  <th>insured_education_level_High School</th>    <td>    0.2069</td> <td>    0.147</td> <td>    1.412</td> <td> 0.158</td> <td>   -0.080</td> <td>    0.494</td>\n",
              "</tr>\n",
              "<tr>\n",
              "  <th>insured_education_level_JD</th>             <td>    0.1962</td> <td>    0.153</td> <td>    1.285</td> <td> 0.199</td> <td>   -0.103</td> <td>    0.495</td>\n",
              "</tr>\n",
              "<tr>\n",
              "  <th>insured_education_level_MD</th>             <td>   -0.0123</td> <td>    0.149</td> <td>   -0.082</td> <td> 0.935</td> <td>   -0.305</td> <td>    0.281</td>\n",
              "</tr>\n",
              "<tr>\n",
              "  <th>insured_education_level_Masters</th>        <td>         0</td> <td>      nan</td> <td>      nan</td> <td>   nan</td> <td>      nan</td> <td>      nan</td>\n",
              "</tr>\n",
              "<tr>\n",
              "  <th>insured_education_level_PhD</th>            <td>   -0.0107</td> <td>    0.147</td> <td>   -0.073</td> <td> 0.942</td> <td>   -0.299</td> <td>    0.278</td>\n",
              "</tr>\n",
              "<tr>\n",
              "  <th>insured_occupation_adm-clerical</th>        <td>   -0.0082</td> <td>    0.126</td> <td>   -0.065</td> <td> 0.948</td> <td>   -0.255</td> <td>    0.239</td>\n",
              "</tr>\n",
              "<tr>\n",
              "  <th>insured_occupation_armed-forces</th>        <td>   -0.1831</td> <td>    0.122</td> <td>   -1.504</td> <td> 0.132</td> <td>   -0.422</td> <td>    0.055</td>\n",
              "</tr>\n",
              "<tr>\n",
              "  <th>insured_occupation_craft-repair</th>        <td>    0.1493</td> <td>    0.124</td> <td>    1.205</td> <td> 0.228</td> <td>   -0.094</td> <td>    0.392</td>\n",
              "</tr>\n",
              "<tr>\n",
              "  <th>insured_occupation_exec-managerial</th>     <td>    0.2361</td> <td>    0.135</td> <td>    1.750</td> <td> 0.080</td> <td>   -0.028</td> <td>    0.501</td>\n",
              "</tr>\n",
              "<tr>\n",
              "  <th>insured_occupation_farming-fishing</th>     <td>    0.1782</td> <td>    0.140</td> <td>    1.274</td> <td> 0.203</td> <td>   -0.096</td> <td>    0.452</td>\n",
              "</tr>\n",
              "<tr>\n",
              "  <th>insured_occupation_handlers-cleaners</th>   <td>   -0.0378</td> <td>    0.119</td> <td>   -0.319</td> <td> 0.750</td> <td>   -0.270</td> <td>    0.195</td>\n",
              "</tr>\n",
              "<tr>\n",
              "  <th>insured_occupation_machine-op-inspct</th>   <td>    0.1491</td> <td>    0.130</td> <td>    1.150</td> <td> 0.250</td> <td>   -0.105</td> <td>    0.403</td>\n",
              "</tr>\n",
              "<tr>\n",
              "  <th>insured_occupation_other-service</th>       <td>   -0.1985</td> <td>    0.130</td> <td>   -1.523</td> <td> 0.128</td> <td>   -0.454</td> <td>    0.057</td>\n",
              "</tr>\n",
              "<tr>\n",
              "  <th>insured_occupation_priv-house-serv</th>     <td>    0.0002</td> <td>    0.130</td> <td>    0.001</td> <td> 0.999</td> <td>   -0.254</td> <td>    0.255</td>\n",
              "</tr>\n",
              "<tr>\n",
              "  <th>insured_occupation_prof-specialty</th>      <td>   -0.0634</td> <td>    0.136</td> <td>   -0.468</td> <td> 0.640</td> <td>   -0.329</td> <td>    0.202</td>\n",
              "</tr>\n",
              "<tr>\n",
              "  <th>insured_occupation_protective-serv</th>     <td>   -0.0791</td> <td>    0.118</td> <td>   -0.668</td> <td> 0.504</td> <td>   -0.311</td> <td>    0.153</td>\n",
              "</tr>\n",
              "<tr>\n",
              "  <th>insured_occupation_sales</th>               <td>         0</td> <td>      nan</td> <td>      nan</td> <td>   nan</td> <td>      nan</td> <td>      nan</td>\n",
              "</tr>\n",
              "<tr>\n",
              "  <th>insured_occupation_tech-support</th>        <td>         0</td> <td>      nan</td> <td>      nan</td> <td>   nan</td> <td>      nan</td> <td>      nan</td>\n",
              "</tr>\n",
              "<tr>\n",
              "  <th>insured_occupation_transport-moving</th>    <td>    0.0980</td> <td>    0.127</td> <td>    0.772</td> <td> 0.440</td> <td>   -0.151</td> <td>    0.347</td>\n",
              "</tr>\n",
              "<tr>\n",
              "  <th>insured_relationship_husband</th>           <td>   -0.1378</td> <td>    0.153</td> <td>   -0.900</td> <td> 0.368</td> <td>   -0.438</td> <td>    0.162</td>\n",
              "</tr>\n",
              "<tr>\n",
              "  <th>insured_relationship_not-in-family</th>     <td>    0.1522</td> <td>    0.162</td> <td>    0.937</td> <td> 0.349</td> <td>   -0.166</td> <td>    0.471</td>\n",
              "</tr>\n",
              "<tr>\n",
              "  <th>insured_relationship_other-relative</th>    <td>    0.0451</td> <td>    0.162</td> <td>    0.278</td> <td> 0.781</td> <td>   -0.273</td> <td>    0.363</td>\n",
              "</tr>\n",
              "<tr>\n",
              "  <th>insured_relationship_own-child</th>         <td>   -0.0876</td> <td>    0.155</td> <td>   -0.565</td> <td> 0.572</td> <td>   -0.391</td> <td>    0.216</td>\n",
              "</tr>\n",
              "<tr>\n",
              "  <th>insured_relationship_unmarried</th>         <td>         0</td> <td>      nan</td> <td>      nan</td> <td>   nan</td> <td>      nan</td> <td>      nan</td>\n",
              "</tr>\n",
              "<tr>\n",
              "  <th>insured_relationship_wife</th>              <td>   -0.0521</td> <td>    0.154</td> <td>   -0.338</td> <td> 0.735</td> <td>   -0.354</td> <td>    0.250</td>\n",
              "</tr>\n",
              "<tr>\n",
              "  <th>incident_type_Multi-vehicle Collision</th>  <td>         0</td> <td>      nan</td> <td>      nan</td> <td>   nan</td> <td>      nan</td> <td>      nan</td>\n",
              "</tr>\n",
              "<tr>\n",
              "  <th>incident_type_Parked Car</th>               <td>   -0.0452</td> <td>    0.435</td> <td>   -0.104</td> <td> 0.917</td> <td>   -0.897</td> <td>    0.807</td>\n",
              "</tr>\n",
              "<tr>\n",
              "  <th>incident_type_Single Vehicle Collision</th> <td>    0.7456</td> <td>    0.304</td> <td>    2.456</td> <td> 0.014</td> <td>    0.151</td> <td>    1.341</td>\n",
              "</tr>\n",
              "<tr>\n",
              "  <th>incident_type_Vehicle Theft</th>            <td>   -0.1051</td> <td>    0.487</td> <td>   -0.216</td> <td> 0.829</td> <td>   -1.060</td> <td>    0.850</td>\n",
              "</tr>\n",
              "<tr>\n",
              "  <th>collision_type_?</th>                       <td>    1.0860</td> <td>    0.599</td> <td>    1.814</td> <td> 0.070</td> <td>   -0.087</td> <td>    2.259</td>\n",
              "</tr>\n",
              "<tr>\n",
              "  <th>collision_type_Front Collision</th>         <td>         0</td> <td>      nan</td> <td>      nan</td> <td>   nan</td> <td>      nan</td> <td>      nan</td>\n",
              "</tr>\n",
              "<tr>\n",
              "  <th>collision_type_Rear Collision</th>          <td>    0.1223</td> <td>    0.144</td> <td>    0.851</td> <td> 0.395</td> <td>   -0.159</td> <td>    0.404</td>\n",
              "</tr>\n",
              "<tr>\n",
              "  <th>collision_type_Side Collision</th>          <td>   -0.1342</td> <td>    0.139</td> <td>   -0.966</td> <td> 0.334</td> <td>   -0.407</td> <td>    0.138</td>\n",
              "</tr>\n",
              "<tr>\n",
              "  <th>incident_severity_Major Damage</th>         <td>    1.6297</td> <td>    0.144</td> <td>   11.347</td> <td> 0.000</td> <td>    1.348</td> <td>    1.911</td>\n",
              "</tr>\n",
              "<tr>\n",
              "  <th>incident_severity_Minor Damage</th>         <td>   -0.0794</td> <td>    0.143</td> <td>   -0.556</td> <td> 0.578</td> <td>   -0.359</td> <td>    0.200</td>\n",
              "</tr>\n",
              "<tr>\n",
              "  <th>incident_severity_Total Loss</th>           <td>         0</td> <td>      nan</td> <td>      nan</td> <td>   nan</td> <td>      nan</td> <td>      nan</td>\n",
              "</tr>\n",
              "<tr>\n",
              "  <th>incident_severity_Trivial Damage</th>       <td>   -0.5372</td> <td>    0.195</td> <td>   -2.752</td> <td> 0.006</td> <td>   -0.920</td> <td>   -0.155</td>\n",
              "</tr>\n",
              "<tr>\n",
              "  <th>authorities_contacted_Ambulance</th>        <td>    0.1518</td> <td>    0.144</td> <td>    1.054</td> <td> 0.292</td> <td>   -0.130</td> <td>    0.434</td>\n",
              "</tr>\n",
              "<tr>\n",
              "  <th>authorities_contacted_Fire</th>             <td>   -0.0775</td> <td>    0.141</td> <td>   -0.550</td> <td> 0.583</td> <td>   -0.354</td> <td>    0.199</td>\n",
              "</tr>\n",
              "<tr>\n",
              "  <th>authorities_contacted_None</th>             <td>   -0.2940</td> <td>    0.172</td> <td>   -1.705</td> <td> 0.088</td> <td>   -0.632</td> <td>    0.044</td>\n",
              "</tr>\n",
              "<tr>\n",
              "  <th>authorities_contacted_Other</th>            <td>    0.1636</td> <td>    0.145</td> <td>    1.125</td> <td> 0.261</td> <td>   -0.121</td> <td>    0.449</td>\n",
              "</tr>\n",
              "<tr>\n",
              "  <th>authorities_contacted_Police</th>           <td>         0</td> <td>      nan</td> <td>      nan</td> <td>   nan</td> <td>      nan</td> <td>      nan</td>\n",
              "</tr>\n",
              "<tr>\n",
              "  <th>incident_state_NC</th>                      <td>    0.1342</td> <td>    0.150</td> <td>    0.895</td> <td> 0.371</td> <td>   -0.160</td> <td>    0.428</td>\n",
              "</tr>\n",
              "<tr>\n",
              "  <th>incident_state_NY</th>                      <td>   -0.1640</td> <td>    0.183</td> <td>   -0.894</td> <td> 0.371</td> <td>   -0.523</td> <td>    0.196</td>\n",
              "</tr>\n",
              "<tr>\n",
              "  <th>incident_state_OH</th>                      <td>   -0.0065</td> <td>    0.110</td> <td>   -0.059</td> <td> 0.953</td> <td>   -0.223</td> <td>    0.209</td>\n",
              "</tr>\n",
              "<tr>\n",
              "  <th>incident_state_PA</th>                      <td>    0.1097</td> <td>    0.099</td> <td>    1.105</td> <td> 0.269</td> <td>   -0.085</td> <td>    0.304</td>\n",
              "</tr>\n",
              "<tr>\n",
              "  <th>incident_state_SC</th>                      <td>    0.1236</td> <td>    0.185</td> <td>    0.668</td> <td> 0.504</td> <td>   -0.239</td> <td>    0.486</td>\n",
              "</tr>\n",
              "<tr>\n",
              "  <th>incident_state_VA</th>                      <td>         0</td> <td>      nan</td> <td>      nan</td> <td>   nan</td> <td>      nan</td> <td>      nan</td>\n",
              "</tr>\n",
              "<tr>\n",
              "  <th>incident_state_WV</th>                      <td>   -0.3589</td> <td>    0.171</td> <td>   -2.093</td> <td> 0.036</td> <td>   -0.695</td> <td>   -0.023</td>\n",
              "</tr>\n",
              "<tr>\n",
              "  <th>auto_make_Accura</th>                       <td>   -0.2367</td> <td>    0.153</td> <td>   -1.550</td> <td> 0.121</td> <td>   -0.536</td> <td>    0.063</td>\n",
              "</tr>\n",
              "<tr>\n",
              "  <th>auto_make_Audi</th>                         <td>    0.1350</td> <td>    0.165</td> <td>    0.820</td> <td> 0.412</td> <td>   -0.188</td> <td>    0.458</td>\n",
              "</tr>\n",
              "<tr>\n",
              "  <th>auto_make_BMW</th>                          <td>    0.2007</td> <td>    0.160</td> <td>    1.252</td> <td> 0.211</td> <td>   -0.113</td> <td>    0.515</td>\n",
              "</tr>\n",
              "<tr>\n",
              "  <th>auto_make_Chevrolet</th>                    <td>   -0.0808</td> <td>    0.158</td> <td>   -0.510</td> <td> 0.610</td> <td>   -0.391</td> <td>    0.229</td>\n",
              "</tr>\n",
              "<tr>\n",
              "  <th>auto_make_Dodge</th>                        <td>    0.0799</td> <td>    0.171</td> <td>    0.467</td> <td> 0.641</td> <td>   -0.255</td> <td>    0.415</td>\n",
              "</tr>\n",
              "<tr>\n",
              "  <th>auto_make_Ford</th>                         <td>    0.0538</td> <td>    0.172</td> <td>    0.312</td> <td> 0.755</td> <td>   -0.284</td> <td>    0.392</td>\n",
              "</tr>\n",
              "<tr>\n",
              "  <th>auto_make_Honda</th>                        <td>    0.0736</td> <td>    0.138</td> <td>    0.532</td> <td> 0.595</td> <td>   -0.198</td> <td>    0.345</td>\n",
              "</tr>\n",
              "<tr>\n",
              "  <th>auto_make_Jeep</th>                         <td>   -0.2669</td> <td>    0.153</td> <td>   -1.742</td> <td> 0.081</td> <td>   -0.567</td> <td>    0.033</td>\n",
              "</tr>\n",
              "<tr>\n",
              "  <th>auto_make_Mercedes</th>                     <td>   -0.1074</td> <td>    0.148</td> <td>   -0.726</td> <td> 0.468</td> <td>   -0.398</td> <td>    0.183</td>\n",
              "</tr>\n",
              "<tr>\n",
              "  <th>auto_make_Nissan</th>                       <td>   -0.1734</td> <td>    0.160</td> <td>   -1.085</td> <td> 0.278</td> <td>   -0.486</td> <td>    0.140</td>\n",
              "</tr>\n",
              "<tr>\n",
              "  <th>auto_make_Saab</th>                         <td>   -0.0951</td> <td>    0.158</td> <td>   -0.602</td> <td> 0.547</td> <td>   -0.405</td> <td>    0.215</td>\n",
              "</tr>\n",
              "<tr>\n",
              "  <th>auto_make_Suburu</th>                       <td>         0</td> <td>      nan</td> <td>      nan</td> <td>   nan</td> <td>      nan</td> <td>      nan</td>\n",
              "</tr>\n",
              "<tr>\n",
              "  <th>auto_make_Toyota</th>                       <td>   -0.3060</td> <td>    0.150</td> <td>   -2.037</td> <td> 0.042</td> <td>   -0.600</td> <td>   -0.012</td>\n",
              "</tr>\n",
              "<tr>\n",
              "  <th>auto_make_Volkswagen</th>                   <td>    0.0996</td> <td>    0.162</td> <td>    0.615</td> <td> 0.538</td> <td>   -0.218</td> <td>    0.417</td>\n",
              "</tr>\n",
              "</table>"
            ],
            "text/plain": [
              "<class 'statsmodels.iolib.summary.Summary'>\n",
              "\"\"\"\n",
              "                           Logit Regression Results                           \n",
              "==============================================================================\n",
              "Dep. Variable:                      y   No. Observations:                  800\n",
              "Model:                          Logit   Df Residuals:                      723\n",
              "Method:                           MLE   Df Model:                           76\n",
              "Date:                Mon, 03 May 2021   Pseudo R-squ.:                  0.4587\n",
              "Time:                        19:24:23   Log-Likelihood:                -300.15\n",
              "converged:                       True   LL-Null:                       -554.52\n",
              "Covariance Type:            nonrobust   LLR p-value:                 2.877e-65\n",
              "==========================================================================================================\n",
              "                                             coef    std err          z      P>|z|      [0.025      0.975]\n",
              "----------------------------------------------------------------------------------------------------------\n",
              "months_as_customer                         0.1208      0.112      1.078      0.281      -0.099       0.341\n",
              "policy_bind_date                           0.0227      0.111      0.204      0.838      -0.196       0.241\n",
              "policy_deductable                          0.0855      0.113      0.759      0.448      -0.135       0.306\n",
              "policy_annual_premium                     -0.0629      0.110     -0.570      0.569      -0.279       0.154\n",
              "umbrella_limit                             0.4260      0.114      3.734      0.000       0.202       0.650\n",
              "incident_date                              0.0401      0.113      0.356      0.722      -0.181       0.261\n",
              "incident_hour_of_the_day                  -0.1021      0.111     -0.921      0.357      -0.319       0.115\n",
              "number_of_vehicles_involved                0.5305      0.295      1.797      0.072      -0.048       1.109\n",
              "property_damage                            0.0368      0.112      0.330      0.742      -0.182       0.256\n",
              "bodily_injuries                           -0.1220      0.111     -1.096      0.273      -0.340       0.096\n",
              "witnesses                                  0.2090      0.110      1.898      0.058      -0.007       0.425\n",
              "police_report_available                   -0.0537      0.111     -0.482      0.630      -0.272       0.164\n",
              "injury_claim                              -0.2120      0.155     -1.365      0.172      -0.516       0.092\n",
              "property_claim                            -0.0734      0.154     -0.477      0.633      -0.375       0.228\n",
              "vehicle_claim                              0.3823      0.235      1.627      0.104      -0.078       0.843\n",
              "auto_year                                 -0.1123      0.114     -0.983      0.325      -0.336       0.112\n",
              "policy_state_IL                            0.0513      0.128      0.402      0.688      -0.199       0.302\n",
              "policy_state_IN                           -0.0867      0.127     -0.680      0.496      -0.337       0.163\n",
              "policy_state_OH                                 0        nan        nan        nan         nan         nan\n",
              "policy_csl_100/300                         0.2158      0.128      1.685      0.092      -0.035       0.467\n",
              "policy_csl_250/500                              0        nan        nan        nan         nan         nan\n",
              "policy_csl_500/1000                       -0.1267      0.131     -0.969      0.332      -0.383       0.130\n",
              "insured_sex_FEMALE                         0.0285   8.39e+06    3.4e-09      1.000   -1.64e+07    1.64e+07\n",
              "insured_sex_MALE                          -0.0285   8.39e+06   -3.4e-09      1.000   -1.64e+07    1.64e+07\n",
              "insured_education_level_Associate         -0.0815      0.148     -0.550      0.582      -0.372       0.209\n",
              "insured_education_level_College            0.0272      0.141      0.192      0.847      -0.250       0.304\n",
              "insured_education_level_High School        0.2069      0.147      1.412      0.158      -0.080       0.494\n",
              "insured_education_level_JD                 0.1962      0.153      1.285      0.199      -0.103       0.495\n",
              "insured_education_level_MD                -0.0123      0.149     -0.082      0.935      -0.305       0.281\n",
              "insured_education_level_Masters                 0        nan        nan        nan         nan         nan\n",
              "insured_education_level_PhD               -0.0107      0.147     -0.073      0.942      -0.299       0.278\n",
              "insured_occupation_adm-clerical           -0.0082      0.126     -0.065      0.948      -0.255       0.239\n",
              "insured_occupation_armed-forces           -0.1831      0.122     -1.504      0.132      -0.422       0.055\n",
              "insured_occupation_craft-repair            0.1493      0.124      1.205      0.228      -0.094       0.392\n",
              "insured_occupation_exec-managerial         0.2361      0.135      1.750      0.080      -0.028       0.501\n",
              "insured_occupation_farming-fishing         0.1782      0.140      1.274      0.203      -0.096       0.452\n",
              "insured_occupation_handlers-cleaners      -0.0378      0.119     -0.319      0.750      -0.270       0.195\n",
              "insured_occupation_machine-op-inspct       0.1491      0.130      1.150      0.250      -0.105       0.403\n",
              "insured_occupation_other-service          -0.1985      0.130     -1.523      0.128      -0.454       0.057\n",
              "insured_occupation_priv-house-serv         0.0002      0.130      0.001      0.999      -0.254       0.255\n",
              "insured_occupation_prof-specialty         -0.0634      0.136     -0.468      0.640      -0.329       0.202\n",
              "insured_occupation_protective-serv        -0.0791      0.118     -0.668      0.504      -0.311       0.153\n",
              "insured_occupation_sales                        0        nan        nan        nan         nan         nan\n",
              "insured_occupation_tech-support                 0        nan        nan        nan         nan         nan\n",
              "insured_occupation_transport-moving        0.0980      0.127      0.772      0.440      -0.151       0.347\n",
              "insured_relationship_husband              -0.1378      0.153     -0.900      0.368      -0.438       0.162\n",
              "insured_relationship_not-in-family         0.1522      0.162      0.937      0.349      -0.166       0.471\n",
              "insured_relationship_other-relative        0.0451      0.162      0.278      0.781      -0.273       0.363\n",
              "insured_relationship_own-child            -0.0876      0.155     -0.565      0.572      -0.391       0.216\n",
              "insured_relationship_unmarried                  0        nan        nan        nan         nan         nan\n",
              "insured_relationship_wife                 -0.0521      0.154     -0.338      0.735      -0.354       0.250\n",
              "incident_type_Multi-vehicle Collision           0        nan        nan        nan         nan         nan\n",
              "incident_type_Parked Car                  -0.0452      0.435     -0.104      0.917      -0.897       0.807\n",
              "incident_type_Single Vehicle Collision     0.7456      0.304      2.456      0.014       0.151       1.341\n",
              "incident_type_Vehicle Theft               -0.1051      0.487     -0.216      0.829      -1.060       0.850\n",
              "collision_type_?                           1.0860      0.599      1.814      0.070      -0.087       2.259\n",
              "collision_type_Front Collision                  0        nan        nan        nan         nan         nan\n",
              "collision_type_Rear Collision              0.1223      0.144      0.851      0.395      -0.159       0.404\n",
              "collision_type_Side Collision             -0.1342      0.139     -0.966      0.334      -0.407       0.138\n",
              "incident_severity_Major Damage             1.6297      0.144     11.347      0.000       1.348       1.911\n",
              "incident_severity_Minor Damage            -0.0794      0.143     -0.556      0.578      -0.359       0.200\n",
              "incident_severity_Total Loss                    0        nan        nan        nan         nan         nan\n",
              "incident_severity_Trivial Damage          -0.5372      0.195     -2.752      0.006      -0.920      -0.155\n",
              "authorities_contacted_Ambulance            0.1518      0.144      1.054      0.292      -0.130       0.434\n",
              "authorities_contacted_Fire                -0.0775      0.141     -0.550      0.583      -0.354       0.199\n",
              "authorities_contacted_None                -0.2940      0.172     -1.705      0.088      -0.632       0.044\n",
              "authorities_contacted_Other                0.1636      0.145      1.125      0.261      -0.121       0.449\n",
              "authorities_contacted_Police                    0        nan        nan        nan         nan         nan\n",
              "incident_state_NC                          0.1342      0.150      0.895      0.371      -0.160       0.428\n",
              "incident_state_NY                         -0.1640      0.183     -0.894      0.371      -0.523       0.196\n",
              "incident_state_OH                         -0.0065      0.110     -0.059      0.953      -0.223       0.209\n",
              "incident_state_PA                          0.1097      0.099      1.105      0.269      -0.085       0.304\n",
              "incident_state_SC                          0.1236      0.185      0.668      0.504      -0.239       0.486\n",
              "incident_state_VA                               0        nan        nan        nan         nan         nan\n",
              "incident_state_WV                         -0.3589      0.171     -2.093      0.036      -0.695      -0.023\n",
              "auto_make_Accura                          -0.2367      0.153     -1.550      0.121      -0.536       0.063\n",
              "auto_make_Audi                             0.1350      0.165      0.820      0.412      -0.188       0.458\n",
              "auto_make_BMW                              0.2007      0.160      1.252      0.211      -0.113       0.515\n",
              "auto_make_Chevrolet                       -0.0808      0.158     -0.510      0.610      -0.391       0.229\n",
              "auto_make_Dodge                            0.0799      0.171      0.467      0.641      -0.255       0.415\n",
              "auto_make_Ford                             0.0538      0.172      0.312      0.755      -0.284       0.392\n",
              "auto_make_Honda                            0.0736      0.138      0.532      0.595      -0.198       0.345\n",
              "auto_make_Jeep                            -0.2669      0.153     -1.742      0.081      -0.567       0.033\n",
              "auto_make_Mercedes                        -0.1074      0.148     -0.726      0.468      -0.398       0.183\n",
              "auto_make_Nissan                          -0.1734      0.160     -1.085      0.278      -0.486       0.140\n",
              "auto_make_Saab                            -0.0951      0.158     -0.602      0.547      -0.405       0.215\n",
              "auto_make_Suburu                                0        nan        nan        nan         nan         nan\n",
              "auto_make_Toyota                          -0.3060      0.150     -2.037      0.042      -0.600      -0.012\n",
              "auto_make_Volkswagen                       0.0996      0.162      0.615      0.538      -0.218       0.417\n",
              "==========================================================================================================\n",
              "\"\"\""
            ]
          },
          "metadata": {
            "tags": []
          },
          "execution_count": 28
        }
      ]
    },
    {
      "cell_type": "markdown",
      "metadata": {
        "id": "-_0fvCw6tOhs"
      },
      "source": [
        "A few important observations:\n",
        "* The `statsmodels` Log-Likelihood score is -300.15 while that of the `sklearn` logisitic regression was -299.5549. These models are similar enough to be considered the same model (as they should be since they were given the same parameters).\n",
        "* The coefficients of 12 variables have been reduced to 0 due to the L1 penalty. As might be expected, all these columns are from the one-hot encoded categorical variables. `insured_sex` is the only categorical variables where at least one of it's coefficients has not been reduced to 0.\n",
        "* A surprising fact is that most of the coefficients are insignificant at a 5% significance level. This can be due to a few reasons:\n",
        "  1. The variance of the coefficients is very high. This could be because there is strong correlation between the predictors, because there is too little training data or simply just because that the data is very noisy.\n",
        "  2. The logistic regression model is not a good fit for the data – it makes incorrect assumptions about the structure of the data is some important way. It is possible that there are strong interaction effects between the variables or simply that the variables are just non-linearly related.\n",
        "  3. Most of the predictors in this dataset do not contain much signal about fraud incidence.<br>\n",
        "  \n",
        "  Although we aren't yet able to distinguish between these different explanations, seeing how our tree-based models perform will help shed light on the validity of the second explanation.<br>\n",
        "* `umbrella_limit`, `incident_type_Single Vehicle Collision`, `incident_severity_Major Damage`, `incident_severity_Trivial Damage`, `incident_state_WV` and `auto_make_Toyota` are the only variables with significant coefficients. We can ascribe potential hypotheses for why these associations might be causal. It should be noted that this is speculative and at most should serve as inspiriation for future causal analysis. These should not be interpreted as statements establishing causal relationships.\n",
        " * The presence of two `incident_severity` variables indicates that this predcitor may have strong predictive power. `incident_severity_Major Damage` has a coefficient that is positive and also is of a size that is of an order of magnitude larger than most other predictors. This indicates that the probability of fraud incidence increases if the crash is of 'Major_Damage' and that this may be an especially consequential effect. This is in line with our _a priori_ understanding of the relationship between incident severity and fraud – fraudsters are more likely to commit fraud when the incident is severe, because that is when the potential payout to the fraudster by the insurance firm is high. We can ascribe a similar interpretation to the reason for why the coefficient of `incident_severity_Trivial Damage` is negative.\n",
        " * On a similar note, `auto_make_Toyota` may have a negative coefficient because Toyota is an automaker that sells relatively cheap cars, and hence insurance claims for incidents involving Toyota vehicles are usually not very high. From the perspective of a fraudster, there is less profit to made made for similar levels of risk.\n",
        " *`umbrella_limit` has a positive coefficient. This is also in line with our _a priori_ assumptions. The presence of an `umreblla_limit` means that the insurance provider is potentially liable for a much larger expense, since the expense is not capped by the basic policy limits (`policy_csl`). \n",
        " * `incident_type_Single Vehicle Collision` also has a positive coefficient. Recall that the other possible values of `incident_type` was 'multi-vehicle collision', 'parked car' and 'vehicle theft'. It seems plausible that possibly 'single vehicle collision' incidents might be easier to defraud insurance providers on, but we do not have a clear understanding of why that might be the case. Similarly, `incident_state_WV` has a negative coefficient, but we are not sure why it might be that incidents in West Virginia are less likely to be fraud cases as opposed to in other states.\n"
      ]
    },
    {
      "cell_type": "markdown",
      "metadata": {
        "id": "gkrVy1lfJ9zw"
      },
      "source": [
        "# Tree-based methods"
      ]
    },
    {
      "cell_type": "markdown",
      "metadata": {
        "id": "L9p1Hh747g9W"
      },
      "source": [
        "While our logistic regression models have allowed us to interpret our predictors, it has only performed moderately in terms of prediction performance. In this next section, we shall try to optimize for prediction performance through our use of tree-based modelling methods.  "
      ]
    },
    {
      "cell_type": "markdown",
      "metadata": {
        "id": "A-zxv5D8KMKt"
      },
      "source": [
        "## Decision Tree Classifier"
      ]
    },
    {
      "cell_type": "markdown",
      "metadata": {
        "id": "YWRVEoa4LD8V"
      },
      "source": [
        "Just as in the above section, we start with the simplest model to act as a baseline for our more complex models. For tree-based methods, this simplest baseline model is the decision tree classifier. Unlike the other more complex tree models that we use later on, the decision tree classifier is very interpretable. We can compare what the decision tree classifer implies about the predictors with our results from the logistic regression."
      ]
    },
    {
      "cell_type": "code",
      "metadata": {
        "colab": {
          "base_uri": "https://localhost:8080/"
        },
        "id": "UidBK5Lb3xVZ",
        "outputId": "b7b0537f-7cb2-44bb-8fbe-17e03849ffaa"
      },
      "source": [
        "clf = DecisionTreeClassifier(criterion='gini', random_state=12345) \n",
        "#seed for replicability, very large tree max_depth to grow large tree before pruning\n",
        "path = clf.cost_complexity_pruning_path(X_train, y_train)\n",
        "ccp_alphas = path.ccp_alphas\n",
        "#\"Minimal cost complexity pruning recursively finds the node with the “weakest link”. \n",
        "#The weakest link is characterized by an effective alpha, where the nodes with the smallest effective alpha are \n",
        "#pruned first. To get an idea of what values of ccp_alpha could be appropriate, \n",
        "#scikit-learn provides DecisionTreeClassifier.cost_complexity_pruning_path that returns the \n",
        "#effective alphas and the corresponding total leaf impurities at each step of the pruning process. \n",
        "#As alpha increases, more of the tree is pruned, which increases the total impurity of its leaves.\"\n",
        "#[12](https://scikit-learn.org/stable/auto_examples/tree/plot_cost_complexity_pruning.html#sphx-glr-auto-examples-tree-plot-cost-complexity-pruning-py)\n",
        "ccp_alphas"
      ],
      "execution_count": null,
      "outputs": [
        {
          "output_type": "execute_result",
          "data": {
            "text/plain": [
              "array([0.        , 0.0012    , 0.00122024, 0.0012234 , 0.00122642,\n",
              "       0.00123529, 0.0012367 , 0.00160478, 0.00166667, 0.00166667,\n",
              "       0.00166667, 0.00166667, 0.001875  , 0.001875  , 0.001875  ,\n",
              "       0.001875  , 0.00194444, 0.00208333, 0.00211538, 0.00214286,\n",
              "       0.00216207, 0.0021875 , 0.00222222, 0.00222222, 0.00225   ,\n",
              "       0.0023511 , 0.00236111, 0.0023672 , 0.00266667, 0.00267857,\n",
              "       0.00275222, 0.00277385, 0.00278815, 0.0028125 , 0.0028125 ,\n",
              "       0.00283333, 0.00285762, 0.00303858, 0.00322757, 0.00334821,\n",
              "       0.003375  , 0.003375  , 0.00347412, 0.00357955, 0.0037302 ,\n",
              "       0.00375   , 0.00390362, 0.00425297, 0.00429545, 0.00458141,\n",
              "       0.00468846, 0.00577364, 0.00585402, 0.00595954, 0.00631488,\n",
              "       0.00692428, 0.00706186, 0.20013151])"
            ]
          },
          "metadata": {
            "tags": []
          },
          "execution_count": 29
        }
      ]
    },
    {
      "cell_type": "code",
      "metadata": {
        "colab": {
          "base_uri": "https://localhost:8080/"
        },
        "id": "PkfrYZh9KiQb",
        "outputId": "2fdcdf70-f918-459e-c675-b169fb570606"
      },
      "source": [
        "#We do a GridSearch cross-validation to determine the best parameters for the Decision Tree Classifier\n",
        "clf_params = {'max_depth':[1,2,3,5,7,10,15,50,100,200], 'ccp_alpha': ccp_alphas} \n",
        "#recall ccp_alpha is the cost compelxity param\n",
        "gs1 = GridSearchCV(estimator=clf, param_grid=clf_params, scoring='roc_auc', cv=10) #use default 10-fold\n",
        "gs1_results = gs1.fit(X_train, y_train)\n",
        "print(gs1_results.best_params_)\n",
        "\n",
        "gs1_predictions = gs1.predict(X_test)\n",
        "print(roc_auc_score(y_test, gs1_predictions))"
      ],
      "execution_count": null,
      "outputs": [
        {
          "output_type": "stream",
          "text": [
            "{'ccp_alpha': 0.0026666666666666674, 'max_depth': 3}\n",
            "0.781602002503129\n"
          ],
          "name": "stdout"
        }
      ]
    },
    {
      "cell_type": "markdown",
      "metadata": {
        "id": "wLVTPeMfXJXy"
      },
      "source": [
        "A `ccp_alpha` of 0.0027 and a `max_depth` of 3 are the best parameters for our baseline decision tree classifier. Our baseline AUC is 0.782. This is already an improvement over the penalized logistic regression, which had an AUC of 0.778. The outperformance of the decision tree classifier despite its simplicity indicates that our speculations about non-linearity or interaction effects in the data might be well-founded."
      ]
    },
    {
      "cell_type": "code",
      "metadata": {
        "colab": {
          "base_uri": "https://localhost:8080/",
          "height": 431
        },
        "id": "0_a_Qhsy2YWX",
        "outputId": "3aa89cff-984d-4284-8854-96e766b9a202"
      },
      "source": [
        "#Visualizing the tree\n",
        "#The CV optimized Decision Tree Classifier\n",
        "best_clf = gs1_results.best_estimator_\n",
        "#Plot\n",
        "dot_data = StringIO()\n",
        "export_graphviz(best_clf, out_file=dot_data,  \n",
        "                filled=True, rounded=True,\n",
        "                special_characters=True,feature_names = list(X_train.columns),class_names=['not fraud','fraud'])\n",
        "graph = pydotplus.graph_from_dot_data(dot_data.getvalue())  \n",
        "graph.write_png('fraud.png')\n",
        "Image(graph.create_png())"
      ],
      "execution_count": null,
      "outputs": [
        {
          "output_type": "execute_result",
          "data": {
            "image/png": "[encoded data removed]",
            "text/plain": [
              "<IPython.core.display.Image object>"
            ]
          },
          "metadata": {
            "tags": []
          },
          "execution_count": 31
        }
      ]
    },
    {
      "cell_type": "markdown",
      "metadata": {
        "id": "Rg7of8c55uga"
      },
      "source": [
        "We see that the decision tree classifer picks up on some similar signals as the penalized logistic regression, namely `incident_severity_Major Damage`, `umbrella_limit` and `auto_make_Toyota`. However, there are also some additional predictors that the tree picks up on that are in the second and third layers of the tree – `incident_date`, `witnesses`, `vehicle_claim` and `policy_csl_100/300`. This hints at the presence of interaction effects (or possibly nonlinearity) that may not have been picked up on by the linear logisitc models."
      ]
    },
    {
      "cell_type": "markdown",
      "metadata": {
        "id": "cRFcWPPRAqTk"
      },
      "source": [
        "## Random Forest Classifier"
      ]
    },
    {
      "cell_type": "markdown",
      "metadata": {
        "id": "fCG0hAO1Au_H"
      },
      "source": [
        "We expect the random forests classifier to outperform the decision tree classifer because it reduces overfitting as well as performing feature selection. As we saw from the penalized logistic regression which eliminated 12 predictors for a moderate improvement in performance over the baseline, feature selection may be a useful tool for this dataset."
      ]
    },
    {
      "cell_type": "code",
      "metadata": {
        "colab": {
          "base_uri": "https://localhost:8080/"
        },
        "id": "hEUXOO1xApLu",
        "outputId": "b2b3c527-1800-445f-daf9-0d6c679865e4"
      },
      "source": [
        "rfc = RandomForestClassifier(n_estimators=100, max_features='sqrt',criterion='gini', random_state=12345, n_jobs=-1)\n",
        "#since increasing the number of trees in forest cannot lead to overfitting, we just use some large number (e.g. 100)\n",
        "#as per ISLR, we choose predictor subsample = sqrt(number of predictors)\n",
        "#seed for replicability, very large tree max_depth to grow large tree before pruning\n",
        "\n",
        "#We do a GridSearch cross-validation to determine the best parameters for the Random Forest Classifier\n",
        "#The ccp_alphas grid from the decision tree classifers contains too many redundant variables, \n",
        "#which proves costly when running these more complicated models. We reduce the grid to something more manageable\n",
        "ccp_alphas = [0, 0.001, 0.0015, 0.002, 0.0025, 0.003, 0.004, 0.005, 0.006, 0.01, 0.2]\n",
        "rfc_params = {'max_depth':[2,3,5,7,12,15,20,30,50], 'ccp_alpha': ccp_alphas} \n",
        "\n",
        "gs2 = GridSearchCV(estimator=rfc, param_grid=rfc_params, scoring='roc_auc', cv=10) #use default 10-fold\n",
        "gs2_results = gs2.fit(X_train, y_train)\n",
        "print(gs2_results.best_params_)\n",
        "\n",
        "gs2_predictions = gs2.predict(X_test)\n",
        "print(roc_auc_score(y_test, gs2_predictions))"
      ],
      "execution_count": null,
      "outputs": [
        {
          "output_type": "stream",
          "text": [
            "{'ccp_alpha': 0.001, 'max_depth': 20}\n",
            "0.7930746766791823\n"
          ],
          "name": "stdout"
        }
      ]
    },
    {
      "cell_type": "markdown",
      "metadata": {
        "id": "1xN5NwlkH3H5"
      },
      "source": [
        "A `ccp_alpha` of 0.001 and a `max_depth` of 20 are the best parameters for our random forests classifier, coming in with an AUC of 0.793. This is a slight improvement over the baseline decision tree classifer, which had an AUC of 0.782. It is surprising that the improvement is not as substantial."
      ]
    },
    {
      "cell_type": "code",
      "metadata": {
        "colab": {
          "base_uri": "https://localhost:8080/"
        },
        "id": "srICYC7GIC78",
        "outputId": "dae7f5ad-4b3f-4ac5-ee16-05adf978238e"
      },
      "source": [
        "#We can also see which features the random forest thinks is important\n",
        "#Create dataframe of feature importances\n",
        "best_rfc = gs2_results.best_estimator_\n",
        "feature_importances = pd.DataFrame(data=best_rfc.feature_importances_)\n",
        "labels = pd.DataFrame(X_train.columns)\n",
        "feature_importances = pd.concat([labels, feature_importances], axis =1)\n",
        "#Clean and sort dataframe\n",
        "feature_importances.columns = ['Features', 'Importance']\n",
        "feature_importances.sort_values(by='Importance', ascending=False, inplace=True)\n",
        "#Graph top 6 most significant features\n",
        "g = sns.catplot(data=feature_importances.head(6), x='Features', y='Importance', kind=\"bar\", height=6, aspect=2)\n",
        "g.despine(left=True)\n",
        "g.set_axis_labels(\"\", \"Feature Importance\")"
      ],
      "execution_count": null,
      "outputs": [
        {
          "output_type": "execute_result",
          "data": {
            "text/plain": [
              "<seaborn.axisgrid.FacetGrid at 0x7f530c55f9d0>"
            ]
          },
          "metadata": {
            "tags": []
          },
          "execution_count": 33
        },
        {
          "output_type": "display_data",
          "data": {
            "image/png": "[encoded data removed]",
            "text/plain": [
              "<Figure size 864x432 with 1 Axes>"
            ]
          },
          "metadata": {
            "tags": []
          }
        }
      ]
    },
    {
      "cell_type": "markdown",
      "metadata": {
        "id": "l67rEtvTOxsT"
      },
      "source": [
        "A familiar face in `incident_severity_Major Damage`, `vehicle_claim` and `incident_date`, but the rest are different. Other notable predictors like `umbrella_limit` is not used here."
      ]
    },
    {
      "cell_type": "markdown",
      "metadata": {
        "id": "gEufsruAO136"
      },
      "source": [
        "## Gradient Boosting Classifier"
      ]
    },
    {
      "cell_type": "code",
      "metadata": {
        "colab": {
          "background_save": true
        },
        "id": "2WY8ZCFIPNI7",
        "outputId": "118193db-9161-4ab8-c8e0-eb9a115b6f81"
      },
      "source": [
        "gbc = GradientBoostingClassifier(n_estimators=100, max_features='sqrt', random_state=12345)\n",
        "gbc_params = {'learning_rate': [0.005 ,0.01, 0.1, 0.2, 0.5, 0.7], \n",
        "              'max_depth':[2,3,5,7,12,15,20,30,50], \n",
        "              'ccp_alpha': ccp_alphas} \n",
        "\n",
        "gs3 = GridSearchCV(estimator=gbc, param_grid=gbc_params, scoring='roc_auc', cv=10)\n",
        "gs3_results = gs3.fit(X_train, y_train)\n",
        "print(gs3_results.best_params_)\n",
        "\n",
        "gs3_predictions = gs3.predict(X_test)\n",
        "print(roc_auc_score(y_test, gs3_predictions))"
      ],
      "execution_count": null,
      "outputs": [
        {
          "output_type": "stream",
          "text": [
            "{'ccp_alpha': 0, 'learning_rate': 0.01, 'max_depth': 12}\n",
            "0.8004450006953137\n"
          ],
          "name": "stdout"
        }
      ]
    },
    {
      "cell_type": "markdown",
      "metadata": {
        "id": "UFgyFBvzQ0BC"
      },
      "source": [
        "A `ccp_alpha` of 0, a `max_depth` of 1, and a learning rate of 0.01 are the best parameters for our gradient boosting classifier, giving an AUC of 0.800. This is minor improvement over the random forest classifer, which had an AUC of 0.793, but it is small enough to be considered insignificant."
      ]
    },
    {
      "cell_type": "code",
      "metadata": {
        "colab": {
          "background_save": true
        },
        "id": "ldW_CajGQ0wt",
        "outputId": "374e032d-ea6b-44a7-ac89-4729b4eec475"
      },
      "source": [
        "#We can also see which features the random forest thinks is important\n",
        "#Create dataframe of feature importances\n",
        "best_gbc = gs3_results.best_estimator_\n",
        "feature_importances1 = pd.DataFrame(data=best_gbc.feature_importances_)\n",
        "labels = pd.DataFrame(X_train.columns)\n",
        "feature_importances1 = pd.concat([labels, feature_importances1], axis =1)\n",
        "#Clean and sort dataframe\n",
        "feature_importances1.columns = ['Features', 'Importance']\n",
        "feature_importances1.sort_values(by='Importance', ascending=False, inplace=True)\n",
        "#Graph top 6 most significant features\n",
        "g = sns.catplot(data=feature_importances1.head(6), x='Features', y='Importance', kind=\"bar\", height=6, aspect=2)\n",
        "g.despine(left=True)\n",
        "g.set_axis_labels(\"\", \"Feature Importance\")"
      ],
      "execution_count": null,
      "outputs": [
        {
          "output_type": "execute_result",
          "data": {
            "text/plain": [
              "<seaborn.axisgrid.FacetGrid at 0x7f530d801e50>"
            ]
          },
          "metadata": {
            "tags": []
          },
          "execution_count": 0
        },
        {
          "output_type": "display_data",
          "data": {
            "image/png": "[encoded data removed]",
            "text/plain": [
              "<Figure size 864x432 with 1 Axes>"
            ]
          },
          "metadata": {
            "tags": []
          }
        }
      ]
    },
    {
      "cell_type": "markdown",
      "metadata": {
        "id": "TdgfU0nhY9yB"
      },
      "source": [
        "Again, we the `incident_severity`, `property_claim` and `vehicle_claim` as in random forests."
      ]
    },
    {
      "cell_type": "markdown",
      "metadata": {
        "id": "uab4Zgu0ZNpk"
      },
      "source": [
        "## XGBoost Classifier"
      ]
    },
    {
      "cell_type": "code",
      "metadata": {
        "colab": {
          "background_save": true
        },
        "id": "hN0y3EjQZQlF",
        "outputId": "739bb70d-9a6f-426e-a20b-c931bf91b6f7"
      },
      "source": [
        "#Note there is no visibility into feature importance with this model implementation\n",
        "xgb = XGBClassifier(n_estimators=100, random_state=12345, n_jobs=-1)\n",
        "xgb_params = {'learning_rate': [0.01, 0.1, 0.2, 0.35, 0.5, 0.7, 1], \n",
        "              'max_depth':[2,3,5,7,12,15,20,30,50]} \n",
        "\n",
        "gs4 = GridSearchCV(estimator=xgb, param_grid=xgb_params, scoring='roc_auc', cv=10)\n",
        "gs4_results = gs4.fit(X_train, y_train)\n",
        "print(gs4_results.best_params_)\n",
        "\n",
        "gs4_predictions = gs4.predict(X_test)\n",
        "print(roc_auc_score(y_test, gs4_predictions))"
      ],
      "execution_count": null,
      "outputs": [
        {
          "output_type": "stream",
          "text": [
            "{'learning_rate': 0.5, 'max_depth': 5}\n",
            "0.7276456681963566\n"
          ],
          "name": "stdout"
        }
      ]
    },
    {
      "cell_type": "markdown",
      "metadata": {
        "id": "N1eDQp5bakoN"
      },
      "source": [
        "A `ccp_alpha` of 0.5 and a `max_depth` of 5 are the best parameters for our XGBoost classifier, giving an AUC of 0.728. This is significantly worse than all the other models we have used. This is likely because of XGBoost's well-known tendency to be prone to overfitting. It is possible that further tuning of the hyperparameters would produce moderate improvements, but it is unlikely to outperform gradient boosting or random forests."
      ]
    },
    {
      "cell_type": "markdown",
      "metadata": {
        "id": "ew_3wmJFY_mO"
      },
      "source": [
        "#Conclusion"
      ]
    },
    {
      "cell_type": "markdown",
      "metadata": {
        "id": "XuZQC9ngZAwG"
      },
      "source": [
        "We begun this analysis with the goals of understanding and predicting fraud incidence in the US. With regards to understanding, we have observed that most predictors do not contain any meaningful signal. However, a few predictors such as `incident_severity`, `property_claim` and `vehicle_claim` were consider highly important features in the majority of the models which we ran. The difference between the AUC score of the best linear model (0.778) and the best tree-based model (0.8) is relatively small. This may suggest that while there exists some nonlinearity or interaction effects in the data, it is not extremely significant.<br><br>\n",
        "We had moderate success with our prediction of fraud incidence. Our best performing models were the random forests and gradient boosting classifiers with AUC scores of 0.793 and 0.8. We believe is a relatively good score for this dataset, as this data seems to contain relatively low signal and high noise, as postulated when analysing the output of our logistic regression. "
      ]
    },
    {
      "cell_type": "markdown",
      "metadata": {
        "id": "gZylXKAZ7uyz"
      },
      "source": [
        "# References"
      ]
    },
    {
      "cell_type": "markdown",
      "metadata": {
        "id": "XkdyJ822o7mI"
      },
      "source": [
        "[1]https://www.kaggle.com/buntyshah/auto-insurance-claims-data </br>\n",
        "[2]https://www.iii.org/article/background-on-insurance-fraud </br>\n",
        "[3]https://assets.publishing.service.gov.uk/government/uploads/system/uploads/attachment_data/file/494105/PU1817_Insurance_Fraud_Taskforce.pdf </br>\n",
        "[4]https://www.investopedia.com/terms/c/combined-single-limits.asp</br>\n",
        "[5]https://stats.stackexchange.com/questions/230750/when-should-we-discretize-bin-continuous-independent-variables-features-and-when?rq=1 </br>\n",
        "[6]https://bmcmedresmethodol.biomedcentral.com/articles/10.1186/s12874-017-0442-1<br>\n",
        "[7]https://scikit-learn.org/stable/modules/impute.html#impute <br>\n",
        "[8]https://towardsdatascience.com/all-about-feature-scaling-bcc0ad75cb35<br>\n",
        "[9]https://imbalanced-learn.org/stable/over_sampling.html#smote-adasyn<br>\n",
        "[10]https://machinelearningmastery.com/smote-oversampling-for-imbalanced-classification/<br>\n",
        "[11]https://arxiv.org/abs/1106.1813<br>\n",
        "[12]https://scikit-learn.org/stable/auto_examples/tree/plot_cost_complexity_pruning.html#sphx-glr-auto-examples-tree-plot-cost-complexity-pruning-py<br>\n",
        "[13]https://stats.stackexchange.com/questions/250937/which-loss-function-is-correct-for-logistic-regression<br>\n",
        "[14]https://math.stackexchange.com/questions/78575/derivative-of-sigmoid-function-sigma-x-frac11e-x<br>\n",
        "[15]https://ml-cheatsheet.readthedocs.io/en/latest/logistic_regression.html<br>\n",
        "\n"
      ]
    }
  ]
}